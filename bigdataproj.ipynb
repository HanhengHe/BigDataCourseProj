{
  "nbformat": 4,
  "nbformat_minor": 0,
  "metadata": {
    "colab": {
      "provenance": [],
      "machine_shape": "hm",
      "mount_file_id": "https://gist.github.com/HanhengHe/708386a23e38c0eff0600b900c2258e7#file-bigdataproj-ipynb",
      "authorship_tag": "ABX9TyMenQ3PBwIBCzETbY5ub4Zd",
      "include_colab_link": true
    },
    "kernelspec": {
      "name": "python3",
      "display_name": "Python 3"
    },
    "language_info": {
      "name": "python"
    },
    "accelerator": "GPU",
    "gpuClass": "premium",
    "widgets": {
      "application/vnd.jupyter.widget-state+json": {
        "9e60a3e723e14758ad3650aa39a8fe7b": {
          "model_module": "@jupyter-widgets/controls",
          "model_name": "HBoxModel",
          "model_module_version": "1.5.0",
          "state": {
            "_dom_classes": [],
            "_model_module": "@jupyter-widgets/controls",
            "_model_module_version": "1.5.0",
            "_model_name": "HBoxModel",
            "_view_count": null,
            "_view_module": "@jupyter-widgets/controls",
            "_view_module_version": "1.5.0",
            "_view_name": "HBoxView",
            "box_style": "",
            "children": [
              "IPY_MODEL_b2a49aa6cdf44d96942a91432002428d",
              "IPY_MODEL_f846e89641624f419fb411b68a1932b1",
              "IPY_MODEL_619c47525ca54034bff14973be601004"
            ],
            "layout": "IPY_MODEL_67ee29f2da9f49aeb53de8064fac9d36"
          }
        },
        "b2a49aa6cdf44d96942a91432002428d": {
          "model_module": "@jupyter-widgets/controls",
          "model_name": "HTMLModel",
          "model_module_version": "1.5.0",
          "state": {
            "_dom_classes": [],
            "_model_module": "@jupyter-widgets/controls",
            "_model_module_version": "1.5.0",
            "_model_name": "HTMLModel",
            "_view_count": null,
            "_view_module": "@jupyter-widgets/controls",
            "_view_module_version": "1.5.0",
            "_view_name": "HTMLView",
            "description": "",
            "description_tooltip": null,
            "layout": "IPY_MODEL_35bb64ac8c784fd6a28ce2497635be3e",
            "placeholder": "​",
            "style": "IPY_MODEL_3239a0ed0a8a4d53a28daea382d15eca",
            "value": "100%"
          }
        },
        "f846e89641624f419fb411b68a1932b1": {
          "model_module": "@jupyter-widgets/controls",
          "model_name": "FloatProgressModel",
          "model_module_version": "1.5.0",
          "state": {
            "_dom_classes": [],
            "_model_module": "@jupyter-widgets/controls",
            "_model_module_version": "1.5.0",
            "_model_name": "FloatProgressModel",
            "_view_count": null,
            "_view_module": "@jupyter-widgets/controls",
            "_view_module_version": "1.5.0",
            "_view_name": "ProgressView",
            "bar_style": "success",
            "description": "",
            "description_tooltip": null,
            "layout": "IPY_MODEL_02ab633fc4b64e6c9fc3f72e0ede677c",
            "max": 102540417,
            "min": 0,
            "orientation": "horizontal",
            "style": "IPY_MODEL_a3ee1871437d4fd09f33467a5d79bcb8",
            "value": 102540417
          }
        },
        "619c47525ca54034bff14973be601004": {
          "model_module": "@jupyter-widgets/controls",
          "model_name": "HTMLModel",
          "model_module_version": "1.5.0",
          "state": {
            "_dom_classes": [],
            "_model_module": "@jupyter-widgets/controls",
            "_model_module_version": "1.5.0",
            "_model_name": "HTMLModel",
            "_view_count": null,
            "_view_module": "@jupyter-widgets/controls",
            "_view_module_version": "1.5.0",
            "_view_name": "HTMLView",
            "description": "",
            "description_tooltip": null,
            "layout": "IPY_MODEL_3399613549cb482ba6036592f20761dc",
            "placeholder": "​",
            "style": "IPY_MODEL_c2d0036e6bf04fe78e3cdc4264f72288",
            "value": " 97.8M/97.8M [00:01&lt;00:00, 78.3MB/s]"
          }
        },
        "67ee29f2da9f49aeb53de8064fac9d36": {
          "model_module": "@jupyter-widgets/base",
          "model_name": "LayoutModel",
          "model_module_version": "1.2.0",
          "state": {
            "_model_module": "@jupyter-widgets/base",
            "_model_module_version": "1.2.0",
            "_model_name": "LayoutModel",
            "_view_count": null,
            "_view_module": "@jupyter-widgets/base",
            "_view_module_version": "1.2.0",
            "_view_name": "LayoutView",
            "align_content": null,
            "align_items": null,
            "align_self": null,
            "border": null,
            "bottom": null,
            "display": null,
            "flex": null,
            "flex_flow": null,
            "grid_area": null,
            "grid_auto_columns": null,
            "grid_auto_flow": null,
            "grid_auto_rows": null,
            "grid_column": null,
            "grid_gap": null,
            "grid_row": null,
            "grid_template_areas": null,
            "grid_template_columns": null,
            "grid_template_rows": null,
            "height": null,
            "justify_content": null,
            "justify_items": null,
            "left": null,
            "margin": null,
            "max_height": null,
            "max_width": null,
            "min_height": null,
            "min_width": null,
            "object_fit": null,
            "object_position": null,
            "order": null,
            "overflow": null,
            "overflow_x": null,
            "overflow_y": null,
            "padding": null,
            "right": null,
            "top": null,
            "visibility": null,
            "width": null
          }
        },
        "35bb64ac8c784fd6a28ce2497635be3e": {
          "model_module": "@jupyter-widgets/base",
          "model_name": "LayoutModel",
          "model_module_version": "1.2.0",
          "state": {
            "_model_module": "@jupyter-widgets/base",
            "_model_module_version": "1.2.0",
            "_model_name": "LayoutModel",
            "_view_count": null,
            "_view_module": "@jupyter-widgets/base",
            "_view_module_version": "1.2.0",
            "_view_name": "LayoutView",
            "align_content": null,
            "align_items": null,
            "align_self": null,
            "border": null,
            "bottom": null,
            "display": null,
            "flex": null,
            "flex_flow": null,
            "grid_area": null,
            "grid_auto_columns": null,
            "grid_auto_flow": null,
            "grid_auto_rows": null,
            "grid_column": null,
            "grid_gap": null,
            "grid_row": null,
            "grid_template_areas": null,
            "grid_template_columns": null,
            "grid_template_rows": null,
            "height": null,
            "justify_content": null,
            "justify_items": null,
            "left": null,
            "margin": null,
            "max_height": null,
            "max_width": null,
            "min_height": null,
            "min_width": null,
            "object_fit": null,
            "object_position": null,
            "order": null,
            "overflow": null,
            "overflow_x": null,
            "overflow_y": null,
            "padding": null,
            "right": null,
            "top": null,
            "visibility": null,
            "width": null
          }
        },
        "3239a0ed0a8a4d53a28daea382d15eca": {
          "model_module": "@jupyter-widgets/controls",
          "model_name": "DescriptionStyleModel",
          "model_module_version": "1.5.0",
          "state": {
            "_model_module": "@jupyter-widgets/controls",
            "_model_module_version": "1.5.0",
            "_model_name": "DescriptionStyleModel",
            "_view_count": null,
            "_view_module": "@jupyter-widgets/base",
            "_view_module_version": "1.2.0",
            "_view_name": "StyleView",
            "description_width": ""
          }
        },
        "02ab633fc4b64e6c9fc3f72e0ede677c": {
          "model_module": "@jupyter-widgets/base",
          "model_name": "LayoutModel",
          "model_module_version": "1.2.0",
          "state": {
            "_model_module": "@jupyter-widgets/base",
            "_model_module_version": "1.2.0",
            "_model_name": "LayoutModel",
            "_view_count": null,
            "_view_module": "@jupyter-widgets/base",
            "_view_module_version": "1.2.0",
            "_view_name": "LayoutView",
            "align_content": null,
            "align_items": null,
            "align_self": null,
            "border": null,
            "bottom": null,
            "display": null,
            "flex": null,
            "flex_flow": null,
            "grid_area": null,
            "grid_auto_columns": null,
            "grid_auto_flow": null,
            "grid_auto_rows": null,
            "grid_column": null,
            "grid_gap": null,
            "grid_row": null,
            "grid_template_areas": null,
            "grid_template_columns": null,
            "grid_template_rows": null,
            "height": null,
            "justify_content": null,
            "justify_items": null,
            "left": null,
            "margin": null,
            "max_height": null,
            "max_width": null,
            "min_height": null,
            "min_width": null,
            "object_fit": null,
            "object_position": null,
            "order": null,
            "overflow": null,
            "overflow_x": null,
            "overflow_y": null,
            "padding": null,
            "right": null,
            "top": null,
            "visibility": null,
            "width": null
          }
        },
        "a3ee1871437d4fd09f33467a5d79bcb8": {
          "model_module": "@jupyter-widgets/controls",
          "model_name": "ProgressStyleModel",
          "model_module_version": "1.5.0",
          "state": {
            "_model_module": "@jupyter-widgets/controls",
            "_model_module_version": "1.5.0",
            "_model_name": "ProgressStyleModel",
            "_view_count": null,
            "_view_module": "@jupyter-widgets/base",
            "_view_module_version": "1.2.0",
            "_view_name": "StyleView",
            "bar_color": null,
            "description_width": ""
          }
        },
        "3399613549cb482ba6036592f20761dc": {
          "model_module": "@jupyter-widgets/base",
          "model_name": "LayoutModel",
          "model_module_version": "1.2.0",
          "state": {
            "_model_module": "@jupyter-widgets/base",
            "_model_module_version": "1.2.0",
            "_model_name": "LayoutModel",
            "_view_count": null,
            "_view_module": "@jupyter-widgets/base",
            "_view_module_version": "1.2.0",
            "_view_name": "LayoutView",
            "align_content": null,
            "align_items": null,
            "align_self": null,
            "border": null,
            "bottom": null,
            "display": null,
            "flex": null,
            "flex_flow": null,
            "grid_area": null,
            "grid_auto_columns": null,
            "grid_auto_flow": null,
            "grid_auto_rows": null,
            "grid_column": null,
            "grid_gap": null,
            "grid_row": null,
            "grid_template_areas": null,
            "grid_template_columns": null,
            "grid_template_rows": null,
            "height": null,
            "justify_content": null,
            "justify_items": null,
            "left": null,
            "margin": null,
            "max_height": null,
            "max_width": null,
            "min_height": null,
            "min_width": null,
            "object_fit": null,
            "object_position": null,
            "order": null,
            "overflow": null,
            "overflow_x": null,
            "overflow_y": null,
            "padding": null,
            "right": null,
            "top": null,
            "visibility": null,
            "width": null
          }
        },
        "c2d0036e6bf04fe78e3cdc4264f72288": {
          "model_module": "@jupyter-widgets/controls",
          "model_name": "DescriptionStyleModel",
          "model_module_version": "1.5.0",
          "state": {
            "_model_module": "@jupyter-widgets/controls",
            "_model_module_version": "1.5.0",
            "_model_name": "DescriptionStyleModel",
            "_view_count": null,
            "_view_module": "@jupyter-widgets/base",
            "_view_module_version": "1.2.0",
            "_view_name": "StyleView",
            "description_width": ""
          }
        },
        "d8cbb244f94f4b2798aec66b0018721b": {
          "model_module": "@jupyter-widgets/controls",
          "model_name": "HBoxModel",
          "model_module_version": "1.5.0",
          "state": {
            "_dom_classes": [],
            "_model_module": "@jupyter-widgets/controls",
            "_model_module_version": "1.5.0",
            "_model_name": "HBoxModel",
            "_view_count": null,
            "_view_module": "@jupyter-widgets/controls",
            "_view_module_version": "1.5.0",
            "_view_name": "HBoxView",
            "box_style": "",
            "children": [
              "IPY_MODEL_658d2486d6754c45b2cb869b08e1b372",
              "IPY_MODEL_c2c17a311c7346b28aee4a35d8cef9a9",
              "IPY_MODEL_ee00d52625534ee28d6db404119ddb17"
            ],
            "layout": "IPY_MODEL_5f02b21f00594ce998538e4343e00f91"
          }
        },
        "658d2486d6754c45b2cb869b08e1b372": {
          "model_module": "@jupyter-widgets/controls",
          "model_name": "HTMLModel",
          "model_module_version": "1.5.0",
          "state": {
            "_dom_classes": [],
            "_model_module": "@jupyter-widgets/controls",
            "_model_module_version": "1.5.0",
            "_model_name": "HTMLModel",
            "_view_count": null,
            "_view_module": "@jupyter-widgets/controls",
            "_view_module_version": "1.5.0",
            "_view_name": "HTMLView",
            "description": "",
            "description_tooltip": null,
            "layout": "IPY_MODEL_0f67f5a55a014060906b73b30cd140af",
            "placeholder": "​",
            "style": "IPY_MODEL_0dbb20b60fd94b26984c834234de21e2",
            "value": "100%"
          }
        },
        "c2c17a311c7346b28aee4a35d8cef9a9": {
          "model_module": "@jupyter-widgets/controls",
          "model_name": "FloatProgressModel",
          "model_module_version": "1.5.0",
          "state": {
            "_dom_classes": [],
            "_model_module": "@jupyter-widgets/controls",
            "_model_module_version": "1.5.0",
            "_model_name": "FloatProgressModel",
            "_view_count": null,
            "_view_module": "@jupyter-widgets/controls",
            "_view_module_version": "1.5.0",
            "_view_name": "ProgressView",
            "bar_style": "success",
            "description": "",
            "description_tooltip": null,
            "layout": "IPY_MODEL_e5c8f86f7356477992cbcf292ad04a3c",
            "max": 32342954,
            "min": 0,
            "orientation": "horizontal",
            "style": "IPY_MODEL_837625fa8731434cb4c12696e9361331",
            "value": 32342954
          }
        },
        "ee00d52625534ee28d6db404119ddb17": {
          "model_module": "@jupyter-widgets/controls",
          "model_name": "HTMLModel",
          "model_module_version": "1.5.0",
          "state": {
            "_dom_classes": [],
            "_model_module": "@jupyter-widgets/controls",
            "_model_module_version": "1.5.0",
            "_model_name": "HTMLModel",
            "_view_count": null,
            "_view_module": "@jupyter-widgets/controls",
            "_view_module_version": "1.5.0",
            "_view_name": "HTMLView",
            "description": "",
            "description_tooltip": null,
            "layout": "IPY_MODEL_44318130489241c0b88a8f8955a30dac",
            "placeholder": "​",
            "style": "IPY_MODEL_c8bdb623d4544871982d00e9faf6f799",
            "value": " 30.8M/30.8M [00:00&lt;00:00, 79.6MB/s]"
          }
        },
        "5f02b21f00594ce998538e4343e00f91": {
          "model_module": "@jupyter-widgets/base",
          "model_name": "LayoutModel",
          "model_module_version": "1.2.0",
          "state": {
            "_model_module": "@jupyter-widgets/base",
            "_model_module_version": "1.2.0",
            "_model_name": "LayoutModel",
            "_view_count": null,
            "_view_module": "@jupyter-widgets/base",
            "_view_module_version": "1.2.0",
            "_view_name": "LayoutView",
            "align_content": null,
            "align_items": null,
            "align_self": null,
            "border": null,
            "bottom": null,
            "display": null,
            "flex": null,
            "flex_flow": null,
            "grid_area": null,
            "grid_auto_columns": null,
            "grid_auto_flow": null,
            "grid_auto_rows": null,
            "grid_column": null,
            "grid_gap": null,
            "grid_row": null,
            "grid_template_areas": null,
            "grid_template_columns": null,
            "grid_template_rows": null,
            "height": null,
            "justify_content": null,
            "justify_items": null,
            "left": null,
            "margin": null,
            "max_height": null,
            "max_width": null,
            "min_height": null,
            "min_width": null,
            "object_fit": null,
            "object_position": null,
            "order": null,
            "overflow": null,
            "overflow_x": null,
            "overflow_y": null,
            "padding": null,
            "right": null,
            "top": null,
            "visibility": null,
            "width": null
          }
        },
        "0f67f5a55a014060906b73b30cd140af": {
          "model_module": "@jupyter-widgets/base",
          "model_name": "LayoutModel",
          "model_module_version": "1.2.0",
          "state": {
            "_model_module": "@jupyter-widgets/base",
            "_model_module_version": "1.2.0",
            "_model_name": "LayoutModel",
            "_view_count": null,
            "_view_module": "@jupyter-widgets/base",
            "_view_module_version": "1.2.0",
            "_view_name": "LayoutView",
            "align_content": null,
            "align_items": null,
            "align_self": null,
            "border": null,
            "bottom": null,
            "display": null,
            "flex": null,
            "flex_flow": null,
            "grid_area": null,
            "grid_auto_columns": null,
            "grid_auto_flow": null,
            "grid_auto_rows": null,
            "grid_column": null,
            "grid_gap": null,
            "grid_row": null,
            "grid_template_areas": null,
            "grid_template_columns": null,
            "grid_template_rows": null,
            "height": null,
            "justify_content": null,
            "justify_items": null,
            "left": null,
            "margin": null,
            "max_height": null,
            "max_width": null,
            "min_height": null,
            "min_width": null,
            "object_fit": null,
            "object_position": null,
            "order": null,
            "overflow": null,
            "overflow_x": null,
            "overflow_y": null,
            "padding": null,
            "right": null,
            "top": null,
            "visibility": null,
            "width": null
          }
        },
        "0dbb20b60fd94b26984c834234de21e2": {
          "model_module": "@jupyter-widgets/controls",
          "model_name": "DescriptionStyleModel",
          "model_module_version": "1.5.0",
          "state": {
            "_model_module": "@jupyter-widgets/controls",
            "_model_module_version": "1.5.0",
            "_model_name": "DescriptionStyleModel",
            "_view_count": null,
            "_view_module": "@jupyter-widgets/base",
            "_view_module_version": "1.2.0",
            "_view_name": "StyleView",
            "description_width": ""
          }
        },
        "e5c8f86f7356477992cbcf292ad04a3c": {
          "model_module": "@jupyter-widgets/base",
          "model_name": "LayoutModel",
          "model_module_version": "1.2.0",
          "state": {
            "_model_module": "@jupyter-widgets/base",
            "_model_module_version": "1.2.0",
            "_model_name": "LayoutModel",
            "_view_count": null,
            "_view_module": "@jupyter-widgets/base",
            "_view_module_version": "1.2.0",
            "_view_name": "LayoutView",
            "align_content": null,
            "align_items": null,
            "align_self": null,
            "border": null,
            "bottom": null,
            "display": null,
            "flex": null,
            "flex_flow": null,
            "grid_area": null,
            "grid_auto_columns": null,
            "grid_auto_flow": null,
            "grid_auto_rows": null,
            "grid_column": null,
            "grid_gap": null,
            "grid_row": null,
            "grid_template_areas": null,
            "grid_template_columns": null,
            "grid_template_rows": null,
            "height": null,
            "justify_content": null,
            "justify_items": null,
            "left": null,
            "margin": null,
            "max_height": null,
            "max_width": null,
            "min_height": null,
            "min_width": null,
            "object_fit": null,
            "object_position": null,
            "order": null,
            "overflow": null,
            "overflow_x": null,
            "overflow_y": null,
            "padding": null,
            "right": null,
            "top": null,
            "visibility": null,
            "width": null
          }
        },
        "837625fa8731434cb4c12696e9361331": {
          "model_module": "@jupyter-widgets/controls",
          "model_name": "ProgressStyleModel",
          "model_module_version": "1.5.0",
          "state": {
            "_model_module": "@jupyter-widgets/controls",
            "_model_module_version": "1.5.0",
            "_model_name": "ProgressStyleModel",
            "_view_count": null,
            "_view_module": "@jupyter-widgets/base",
            "_view_module_version": "1.2.0",
            "_view_name": "StyleView",
            "bar_color": null,
            "description_width": ""
          }
        },
        "44318130489241c0b88a8f8955a30dac": {
          "model_module": "@jupyter-widgets/base",
          "model_name": "LayoutModel",
          "model_module_version": "1.2.0",
          "state": {
            "_model_module": "@jupyter-widgets/base",
            "_model_module_version": "1.2.0",
            "_model_name": "LayoutModel",
            "_view_count": null,
            "_view_module": "@jupyter-widgets/base",
            "_view_module_version": "1.2.0",
            "_view_name": "LayoutView",
            "align_content": null,
            "align_items": null,
            "align_self": null,
            "border": null,
            "bottom": null,
            "display": null,
            "flex": null,
            "flex_flow": null,
            "grid_area": null,
            "grid_auto_columns": null,
            "grid_auto_flow": null,
            "grid_auto_rows": null,
            "grid_column": null,
            "grid_gap": null,
            "grid_row": null,
            "grid_template_areas": null,
            "grid_template_columns": null,
            "grid_template_rows": null,
            "height": null,
            "justify_content": null,
            "justify_items": null,
            "left": null,
            "margin": null,
            "max_height": null,
            "max_width": null,
            "min_height": null,
            "min_width": null,
            "object_fit": null,
            "object_position": null,
            "order": null,
            "overflow": null,
            "overflow_x": null,
            "overflow_y": null,
            "padding": null,
            "right": null,
            "top": null,
            "visibility": null,
            "width": null
          }
        },
        "c8bdb623d4544871982d00e9faf6f799": {
          "model_module": "@jupyter-widgets/controls",
          "model_name": "DescriptionStyleModel",
          "model_module_version": "1.5.0",
          "state": {
            "_model_module": "@jupyter-widgets/controls",
            "_model_module_version": "1.5.0",
            "_model_name": "DescriptionStyleModel",
            "_view_count": null,
            "_view_module": "@jupyter-widgets/base",
            "_view_module_version": "1.2.0",
            "_view_name": "StyleView",
            "description_width": ""
          }
        },
        "bddb1e6c72bb4898b74e4884d93dd894": {
          "model_module": "@jupyter-widgets/controls",
          "model_name": "HBoxModel",
          "model_module_version": "1.5.0",
          "state": {
            "_dom_classes": [],
            "_model_module": "@jupyter-widgets/controls",
            "_model_module_version": "1.5.0",
            "_model_name": "HBoxModel",
            "_view_count": null,
            "_view_module": "@jupyter-widgets/controls",
            "_view_module_version": "1.5.0",
            "_view_name": "HBoxView",
            "box_style": "",
            "children": [
              "IPY_MODEL_ce0c27b608664c9898c9b3e4660b438a",
              "IPY_MODEL_bbbfbcb113254cf58428ff1019e4ac0a",
              "IPY_MODEL_c7ecf7244de64156a44193f5aa5d5564"
            ],
            "layout": "IPY_MODEL_bd39a7f906c540799193980f58edf32c"
          }
        },
        "ce0c27b608664c9898c9b3e4660b438a": {
          "model_module": "@jupyter-widgets/controls",
          "model_name": "HTMLModel",
          "model_module_version": "1.5.0",
          "state": {
            "_dom_classes": [],
            "_model_module": "@jupyter-widgets/controls",
            "_model_module_version": "1.5.0",
            "_model_name": "HTMLModel",
            "_view_count": null,
            "_view_module": "@jupyter-widgets/controls",
            "_view_module_version": "1.5.0",
            "_view_name": "HTMLView",
            "description": "",
            "description_tooltip": null,
            "layout": "IPY_MODEL_3e2ed95be48f461ba159e8f8447f3587",
            "placeholder": "​",
            "style": "IPY_MODEL_b695320d63914138b39f939fcd48a01e",
            "value": "100%"
          }
        },
        "bbbfbcb113254cf58428ff1019e4ac0a": {
          "model_module": "@jupyter-widgets/controls",
          "model_name": "FloatProgressModel",
          "model_module_version": "1.5.0",
          "state": {
            "_dom_classes": [],
            "_model_module": "@jupyter-widgets/controls",
            "_model_module_version": "1.5.0",
            "_model_name": "FloatProgressModel",
            "_view_count": null,
            "_view_module": "@jupyter-widgets/controls",
            "_view_module_version": "1.5.0",
            "_view_name": "ProgressView",
            "bar_style": "success",
            "description": "",
            "description_tooltip": null,
            "layout": "IPY_MODEL_13fe467e96714a2294b4bd9a4ec6ea4b",
            "max": 115730790,
            "min": 0,
            "orientation": "horizontal",
            "style": "IPY_MODEL_b91826017e274fe0bc5316649d8b2970",
            "value": 115730790
          }
        },
        "c7ecf7244de64156a44193f5aa5d5564": {
          "model_module": "@jupyter-widgets/controls",
          "model_name": "HTMLModel",
          "model_module_version": "1.5.0",
          "state": {
            "_dom_classes": [],
            "_model_module": "@jupyter-widgets/controls",
            "_model_module_version": "1.5.0",
            "_model_name": "HTMLModel",
            "_view_count": null,
            "_view_module": "@jupyter-widgets/controls",
            "_view_module_version": "1.5.0",
            "_view_name": "HTMLView",
            "description": "",
            "description_tooltip": null,
            "layout": "IPY_MODEL_33ed422635a647d3b7071dec5eb627e0",
            "placeholder": "​",
            "style": "IPY_MODEL_0d99d6f429dd4ef6b974928d07795d0c",
            "value": " 110M/110M [00:01&lt;00:00, 88.8MB/s]"
          }
        },
        "bd39a7f906c540799193980f58edf32c": {
          "model_module": "@jupyter-widgets/base",
          "model_name": "LayoutModel",
          "model_module_version": "1.2.0",
          "state": {
            "_model_module": "@jupyter-widgets/base",
            "_model_module_version": "1.2.0",
            "_model_name": "LayoutModel",
            "_view_count": null,
            "_view_module": "@jupyter-widgets/base",
            "_view_module_version": "1.2.0",
            "_view_name": "LayoutView",
            "align_content": null,
            "align_items": null,
            "align_self": null,
            "border": null,
            "bottom": null,
            "display": null,
            "flex": null,
            "flex_flow": null,
            "grid_area": null,
            "grid_auto_columns": null,
            "grid_auto_flow": null,
            "grid_auto_rows": null,
            "grid_column": null,
            "grid_gap": null,
            "grid_row": null,
            "grid_template_areas": null,
            "grid_template_columns": null,
            "grid_template_rows": null,
            "height": null,
            "justify_content": null,
            "justify_items": null,
            "left": null,
            "margin": null,
            "max_height": null,
            "max_width": null,
            "min_height": null,
            "min_width": null,
            "object_fit": null,
            "object_position": null,
            "order": null,
            "overflow": null,
            "overflow_x": null,
            "overflow_y": null,
            "padding": null,
            "right": null,
            "top": null,
            "visibility": null,
            "width": null
          }
        },
        "3e2ed95be48f461ba159e8f8447f3587": {
          "model_module": "@jupyter-widgets/base",
          "model_name": "LayoutModel",
          "model_module_version": "1.2.0",
          "state": {
            "_model_module": "@jupyter-widgets/base",
            "_model_module_version": "1.2.0",
            "_model_name": "LayoutModel",
            "_view_count": null,
            "_view_module": "@jupyter-widgets/base",
            "_view_module_version": "1.2.0",
            "_view_name": "LayoutView",
            "align_content": null,
            "align_items": null,
            "align_self": null,
            "border": null,
            "bottom": null,
            "display": null,
            "flex": null,
            "flex_flow": null,
            "grid_area": null,
            "grid_auto_columns": null,
            "grid_auto_flow": null,
            "grid_auto_rows": null,
            "grid_column": null,
            "grid_gap": null,
            "grid_row": null,
            "grid_template_areas": null,
            "grid_template_columns": null,
            "grid_template_rows": null,
            "height": null,
            "justify_content": null,
            "justify_items": null,
            "left": null,
            "margin": null,
            "max_height": null,
            "max_width": null,
            "min_height": null,
            "min_width": null,
            "object_fit": null,
            "object_position": null,
            "order": null,
            "overflow": null,
            "overflow_x": null,
            "overflow_y": null,
            "padding": null,
            "right": null,
            "top": null,
            "visibility": null,
            "width": null
          }
        },
        "b695320d63914138b39f939fcd48a01e": {
          "model_module": "@jupyter-widgets/controls",
          "model_name": "DescriptionStyleModel",
          "model_module_version": "1.5.0",
          "state": {
            "_model_module": "@jupyter-widgets/controls",
            "_model_module_version": "1.5.0",
            "_model_name": "DescriptionStyleModel",
            "_view_count": null,
            "_view_module": "@jupyter-widgets/base",
            "_view_module_version": "1.2.0",
            "_view_name": "StyleView",
            "description_width": ""
          }
        },
        "13fe467e96714a2294b4bd9a4ec6ea4b": {
          "model_module": "@jupyter-widgets/base",
          "model_name": "LayoutModel",
          "model_module_version": "1.2.0",
          "state": {
            "_model_module": "@jupyter-widgets/base",
            "_model_module_version": "1.2.0",
            "_model_name": "LayoutModel",
            "_view_count": null,
            "_view_module": "@jupyter-widgets/base",
            "_view_module_version": "1.2.0",
            "_view_name": "LayoutView",
            "align_content": null,
            "align_items": null,
            "align_self": null,
            "border": null,
            "bottom": null,
            "display": null,
            "flex": null,
            "flex_flow": null,
            "grid_area": null,
            "grid_auto_columns": null,
            "grid_auto_flow": null,
            "grid_auto_rows": null,
            "grid_column": null,
            "grid_gap": null,
            "grid_row": null,
            "grid_template_areas": null,
            "grid_template_columns": null,
            "grid_template_rows": null,
            "height": null,
            "justify_content": null,
            "justify_items": null,
            "left": null,
            "margin": null,
            "max_height": null,
            "max_width": null,
            "min_height": null,
            "min_width": null,
            "object_fit": null,
            "object_position": null,
            "order": null,
            "overflow": null,
            "overflow_x": null,
            "overflow_y": null,
            "padding": null,
            "right": null,
            "top": null,
            "visibility": null,
            "width": null
          }
        },
        "b91826017e274fe0bc5316649d8b2970": {
          "model_module": "@jupyter-widgets/controls",
          "model_name": "ProgressStyleModel",
          "model_module_version": "1.5.0",
          "state": {
            "_model_module": "@jupyter-widgets/controls",
            "_model_module_version": "1.5.0",
            "_model_name": "ProgressStyleModel",
            "_view_count": null,
            "_view_module": "@jupyter-widgets/base",
            "_view_module_version": "1.2.0",
            "_view_name": "StyleView",
            "bar_color": null,
            "description_width": ""
          }
        },
        "33ed422635a647d3b7071dec5eb627e0": {
          "model_module": "@jupyter-widgets/base",
          "model_name": "LayoutModel",
          "model_module_version": "1.2.0",
          "state": {
            "_model_module": "@jupyter-widgets/base",
            "_model_module_version": "1.2.0",
            "_model_name": "LayoutModel",
            "_view_count": null,
            "_view_module": "@jupyter-widgets/base",
            "_view_module_version": "1.2.0",
            "_view_name": "LayoutView",
            "align_content": null,
            "align_items": null,
            "align_self": null,
            "border": null,
            "bottom": null,
            "display": null,
            "flex": null,
            "flex_flow": null,
            "grid_area": null,
            "grid_auto_columns": null,
            "grid_auto_flow": null,
            "grid_auto_rows": null,
            "grid_column": null,
            "grid_gap": null,
            "grid_row": null,
            "grid_template_areas": null,
            "grid_template_columns": null,
            "grid_template_rows": null,
            "height": null,
            "justify_content": null,
            "justify_items": null,
            "left": null,
            "margin": null,
            "max_height": null,
            "max_width": null,
            "min_height": null,
            "min_width": null,
            "object_fit": null,
            "object_position": null,
            "order": null,
            "overflow": null,
            "overflow_x": null,
            "overflow_y": null,
            "padding": null,
            "right": null,
            "top": null,
            "visibility": null,
            "width": null
          }
        },
        "0d99d6f429dd4ef6b974928d07795d0c": {
          "model_module": "@jupyter-widgets/controls",
          "model_name": "DescriptionStyleModel",
          "model_module_version": "1.5.0",
          "state": {
            "_model_module": "@jupyter-widgets/controls",
            "_model_module_version": "1.5.0",
            "_model_name": "DescriptionStyleModel",
            "_view_count": null,
            "_view_module": "@jupyter-widgets/base",
            "_view_module_version": "1.2.0",
            "_view_name": "StyleView",
            "description_width": ""
          }
        },
        "8b3834a877404cd3b51f4c73ec1677ec": {
          "model_module": "@jupyter-widgets/controls",
          "model_name": "HBoxModel",
          "model_module_version": "1.5.0",
          "state": {
            "_dom_classes": [],
            "_model_module": "@jupyter-widgets/controls",
            "_model_module_version": "1.5.0",
            "_model_name": "HBoxModel",
            "_view_count": null,
            "_view_module": "@jupyter-widgets/controls",
            "_view_module_version": "1.5.0",
            "_view_name": "HBoxView",
            "box_style": "",
            "children": [
              "IPY_MODEL_a6d874a561c34edcb9ad380b0e9f1d7c",
              "IPY_MODEL_fa6b3b480cc943509f4a8491d3e994d8",
              "IPY_MODEL_aec6e0313e024158b9ab8291443c1d50"
            ],
            "layout": "IPY_MODEL_0e8002c482344e47a23e7f6e3d751895"
          }
        },
        "a6d874a561c34edcb9ad380b0e9f1d7c": {
          "model_module": "@jupyter-widgets/controls",
          "model_name": "HTMLModel",
          "model_module_version": "1.5.0",
          "state": {
            "_dom_classes": [],
            "_model_module": "@jupyter-widgets/controls",
            "_model_module_version": "1.5.0",
            "_model_name": "HTMLModel",
            "_view_count": null,
            "_view_module": "@jupyter-widgets/controls",
            "_view_module_version": "1.5.0",
            "_view_name": "HTMLView",
            "description": "",
            "description_tooltip": null,
            "layout": "IPY_MODEL_a93cf302906a4665adf98edbef835d09",
            "placeholder": "​",
            "style": "IPY_MODEL_314d25e737154a92920ab45e51809efa",
            "value": "100%"
          }
        },
        "fa6b3b480cc943509f4a8491d3e994d8": {
          "model_module": "@jupyter-widgets/controls",
          "model_name": "FloatProgressModel",
          "model_module_version": "1.5.0",
          "state": {
            "_dom_classes": [],
            "_model_module": "@jupyter-widgets/controls",
            "_model_module_version": "1.5.0",
            "_model_name": "FloatProgressModel",
            "_view_count": null,
            "_view_module": "@jupyter-widgets/controls",
            "_view_module_version": "1.5.0",
            "_view_name": "ProgressView",
            "bar_style": "success",
            "description": "",
            "description_tooltip": null,
            "layout": "IPY_MODEL_185ffa13ad0b4e15b04cf455bd2b363c",
            "max": 100488385,
            "min": 0,
            "orientation": "horizontal",
            "style": "IPY_MODEL_040f548ea9284a07ac7ba34d43b5d1a2",
            "value": 100488385
          }
        },
        "aec6e0313e024158b9ab8291443c1d50": {
          "model_module": "@jupyter-widgets/controls",
          "model_name": "HTMLModel",
          "model_module_version": "1.5.0",
          "state": {
            "_dom_classes": [],
            "_model_module": "@jupyter-widgets/controls",
            "_model_module_version": "1.5.0",
            "_model_name": "HTMLModel",
            "_view_count": null,
            "_view_module": "@jupyter-widgets/controls",
            "_view_module_version": "1.5.0",
            "_view_name": "HTMLView",
            "description": "",
            "description_tooltip": null,
            "layout": "IPY_MODEL_316267feeb1f4613818a07bfb684de90",
            "placeholder": "​",
            "style": "IPY_MODEL_18a583228b654ddd9a9b8479d7055fab",
            "value": " 95.8M/95.8M [00:00&lt;00:00, 229MB/s]"
          }
        },
        "0e8002c482344e47a23e7f6e3d751895": {
          "model_module": "@jupyter-widgets/base",
          "model_name": "LayoutModel",
          "model_module_version": "1.2.0",
          "state": {
            "_model_module": "@jupyter-widgets/base",
            "_model_module_version": "1.2.0",
            "_model_name": "LayoutModel",
            "_view_count": null,
            "_view_module": "@jupyter-widgets/base",
            "_view_module_version": "1.2.0",
            "_view_name": "LayoutView",
            "align_content": null,
            "align_items": null,
            "align_self": null,
            "border": null,
            "bottom": null,
            "display": null,
            "flex": null,
            "flex_flow": null,
            "grid_area": null,
            "grid_auto_columns": null,
            "grid_auto_flow": null,
            "grid_auto_rows": null,
            "grid_column": null,
            "grid_gap": null,
            "grid_row": null,
            "grid_template_areas": null,
            "grid_template_columns": null,
            "grid_template_rows": null,
            "height": null,
            "justify_content": null,
            "justify_items": null,
            "left": null,
            "margin": null,
            "max_height": null,
            "max_width": null,
            "min_height": null,
            "min_width": null,
            "object_fit": null,
            "object_position": null,
            "order": null,
            "overflow": null,
            "overflow_x": null,
            "overflow_y": null,
            "padding": null,
            "right": null,
            "top": null,
            "visibility": null,
            "width": null
          }
        },
        "a93cf302906a4665adf98edbef835d09": {
          "model_module": "@jupyter-widgets/base",
          "model_name": "LayoutModel",
          "model_module_version": "1.2.0",
          "state": {
            "_model_module": "@jupyter-widgets/base",
            "_model_module_version": "1.2.0",
            "_model_name": "LayoutModel",
            "_view_count": null,
            "_view_module": "@jupyter-widgets/base",
            "_view_module_version": "1.2.0",
            "_view_name": "LayoutView",
            "align_content": null,
            "align_items": null,
            "align_self": null,
            "border": null,
            "bottom": null,
            "display": null,
            "flex": null,
            "flex_flow": null,
            "grid_area": null,
            "grid_auto_columns": null,
            "grid_auto_flow": null,
            "grid_auto_rows": null,
            "grid_column": null,
            "grid_gap": null,
            "grid_row": null,
            "grid_template_areas": null,
            "grid_template_columns": null,
            "grid_template_rows": null,
            "height": null,
            "justify_content": null,
            "justify_items": null,
            "left": null,
            "margin": null,
            "max_height": null,
            "max_width": null,
            "min_height": null,
            "min_width": null,
            "object_fit": null,
            "object_position": null,
            "order": null,
            "overflow": null,
            "overflow_x": null,
            "overflow_y": null,
            "padding": null,
            "right": null,
            "top": null,
            "visibility": null,
            "width": null
          }
        },
        "314d25e737154a92920ab45e51809efa": {
          "model_module": "@jupyter-widgets/controls",
          "model_name": "DescriptionStyleModel",
          "model_module_version": "1.5.0",
          "state": {
            "_model_module": "@jupyter-widgets/controls",
            "_model_module_version": "1.5.0",
            "_model_name": "DescriptionStyleModel",
            "_view_count": null,
            "_view_module": "@jupyter-widgets/base",
            "_view_module_version": "1.2.0",
            "_view_name": "StyleView",
            "description_width": ""
          }
        },
        "185ffa13ad0b4e15b04cf455bd2b363c": {
          "model_module": "@jupyter-widgets/base",
          "model_name": "LayoutModel",
          "model_module_version": "1.2.0",
          "state": {
            "_model_module": "@jupyter-widgets/base",
            "_model_module_version": "1.2.0",
            "_model_name": "LayoutModel",
            "_view_count": null,
            "_view_module": "@jupyter-widgets/base",
            "_view_module_version": "1.2.0",
            "_view_name": "LayoutView",
            "align_content": null,
            "align_items": null,
            "align_self": null,
            "border": null,
            "bottom": null,
            "display": null,
            "flex": null,
            "flex_flow": null,
            "grid_area": null,
            "grid_auto_columns": null,
            "grid_auto_flow": null,
            "grid_auto_rows": null,
            "grid_column": null,
            "grid_gap": null,
            "grid_row": null,
            "grid_template_areas": null,
            "grid_template_columns": null,
            "grid_template_rows": null,
            "height": null,
            "justify_content": null,
            "justify_items": null,
            "left": null,
            "margin": null,
            "max_height": null,
            "max_width": null,
            "min_height": null,
            "min_width": null,
            "object_fit": null,
            "object_position": null,
            "order": null,
            "overflow": null,
            "overflow_x": null,
            "overflow_y": null,
            "padding": null,
            "right": null,
            "top": null,
            "visibility": null,
            "width": null
          }
        },
        "040f548ea9284a07ac7ba34d43b5d1a2": {
          "model_module": "@jupyter-widgets/controls",
          "model_name": "ProgressStyleModel",
          "model_module_version": "1.5.0",
          "state": {
            "_model_module": "@jupyter-widgets/controls",
            "_model_module_version": "1.5.0",
            "_model_name": "ProgressStyleModel",
            "_view_count": null,
            "_view_module": "@jupyter-widgets/base",
            "_view_module_version": "1.2.0",
            "_view_name": "StyleView",
            "bar_color": null,
            "description_width": ""
          }
        },
        "316267feeb1f4613818a07bfb684de90": {
          "model_module": "@jupyter-widgets/base",
          "model_name": "LayoutModel",
          "model_module_version": "1.2.0",
          "state": {
            "_model_module": "@jupyter-widgets/base",
            "_model_module_version": "1.2.0",
            "_model_name": "LayoutModel",
            "_view_count": null,
            "_view_module": "@jupyter-widgets/base",
            "_view_module_version": "1.2.0",
            "_view_name": "LayoutView",
            "align_content": null,
            "align_items": null,
            "align_self": null,
            "border": null,
            "bottom": null,
            "display": null,
            "flex": null,
            "flex_flow": null,
            "grid_area": null,
            "grid_auto_columns": null,
            "grid_auto_flow": null,
            "grid_auto_rows": null,
            "grid_column": null,
            "grid_gap": null,
            "grid_row": null,
            "grid_template_areas": null,
            "grid_template_columns": null,
            "grid_template_rows": null,
            "height": null,
            "justify_content": null,
            "justify_items": null,
            "left": null,
            "margin": null,
            "max_height": null,
            "max_width": null,
            "min_height": null,
            "min_width": null,
            "object_fit": null,
            "object_position": null,
            "order": null,
            "overflow": null,
            "overflow_x": null,
            "overflow_y": null,
            "padding": null,
            "right": null,
            "top": null,
            "visibility": null,
            "width": null
          }
        },
        "18a583228b654ddd9a9b8479d7055fab": {
          "model_module": "@jupyter-widgets/controls",
          "model_name": "DescriptionStyleModel",
          "model_module_version": "1.5.0",
          "state": {
            "_model_module": "@jupyter-widgets/controls",
            "_model_module_version": "1.5.0",
            "_model_name": "DescriptionStyleModel",
            "_view_count": null,
            "_view_module": "@jupyter-widgets/base",
            "_view_module_version": "1.2.0",
            "_view_name": "StyleView",
            "description_width": ""
          }
        },
        "2590f366068345f997c920bc653779da": {
          "model_module": "@jupyter-widgets/controls",
          "model_name": "HBoxModel",
          "model_module_version": "1.5.0",
          "state": {
            "_dom_classes": [],
            "_model_module": "@jupyter-widgets/controls",
            "_model_module_version": "1.5.0",
            "_model_name": "HBoxModel",
            "_view_count": null,
            "_view_module": "@jupyter-widgets/controls",
            "_view_module_version": "1.5.0",
            "_view_name": "HBoxView",
            "box_style": "",
            "children": [
              "IPY_MODEL_f6600b5ce7d34549b68af7f6e5ef7b00",
              "IPY_MODEL_4c0f00e1a6a1498ab4e77be5316bcf32",
              "IPY_MODEL_db346364f72244e4a472679f76b36271"
            ],
            "layout": "IPY_MODEL_8f4d85eb8a834eaab52a271f983c0b19"
          }
        },
        "f6600b5ce7d34549b68af7f6e5ef7b00": {
          "model_module": "@jupyter-widgets/controls",
          "model_name": "HTMLModel",
          "model_module_version": "1.5.0",
          "state": {
            "_dom_classes": [],
            "_model_module": "@jupyter-widgets/controls",
            "_model_module_version": "1.5.0",
            "_model_name": "HTMLModel",
            "_view_count": null,
            "_view_module": "@jupyter-widgets/controls",
            "_view_module_version": "1.5.0",
            "_view_name": "HTMLView",
            "description": "",
            "description_tooltip": null,
            "layout": "IPY_MODEL_97fdf5f9d92c431faaa223e1580cd7c6",
            "placeholder": "​",
            "style": "IPY_MODEL_0e13ede0d04c4031acb633cd1d7b858d",
            "value": "100%"
          }
        },
        "4c0f00e1a6a1498ab4e77be5316bcf32": {
          "model_module": "@jupyter-widgets/controls",
          "model_name": "FloatProgressModel",
          "model_module_version": "1.5.0",
          "state": {
            "_dom_classes": [],
            "_model_module": "@jupyter-widgets/controls",
            "_model_module_version": "1.5.0",
            "_model_name": "FloatProgressModel",
            "_view_count": null,
            "_view_module": "@jupyter-widgets/controls",
            "_view_module_version": "1.5.0",
            "_view_name": "ProgressView",
            "bar_style": "success",
            "description": "",
            "description_tooltip": null,
            "layout": "IPY_MODEL_648807cffc9c4f86ba6483e80d72d949",
            "max": 356082095,
            "min": 0,
            "orientation": "horizontal",
            "style": "IPY_MODEL_9d8c7b93729148c1af2721be369795af",
            "value": 356082095
          }
        },
        "db346364f72244e4a472679f76b36271": {
          "model_module": "@jupyter-widgets/controls",
          "model_name": "HTMLModel",
          "model_module_version": "1.5.0",
          "state": {
            "_dom_classes": [],
            "_model_module": "@jupyter-widgets/controls",
            "_model_module_version": "1.5.0",
            "_model_name": "HTMLModel",
            "_view_count": null,
            "_view_module": "@jupyter-widgets/controls",
            "_view_module_version": "1.5.0",
            "_view_name": "HTMLView",
            "description": "",
            "description_tooltip": null,
            "layout": "IPY_MODEL_a32a0ab863bd46f4b2187195e6077d83",
            "placeholder": "​",
            "style": "IPY_MODEL_7bd0b8f94e3740c48a3e229bdb19ad00",
            "value": " 340M/340M [00:01&lt;00:00, 216MB/s]"
          }
        },
        "8f4d85eb8a834eaab52a271f983c0b19": {
          "model_module": "@jupyter-widgets/base",
          "model_name": "LayoutModel",
          "model_module_version": "1.2.0",
          "state": {
            "_model_module": "@jupyter-widgets/base",
            "_model_module_version": "1.2.0",
            "_model_name": "LayoutModel",
            "_view_count": null,
            "_view_module": "@jupyter-widgets/base",
            "_view_module_version": "1.2.0",
            "_view_name": "LayoutView",
            "align_content": null,
            "align_items": null,
            "align_self": null,
            "border": null,
            "bottom": null,
            "display": null,
            "flex": null,
            "flex_flow": null,
            "grid_area": null,
            "grid_auto_columns": null,
            "grid_auto_flow": null,
            "grid_auto_rows": null,
            "grid_column": null,
            "grid_gap": null,
            "grid_row": null,
            "grid_template_areas": null,
            "grid_template_columns": null,
            "grid_template_rows": null,
            "height": null,
            "justify_content": null,
            "justify_items": null,
            "left": null,
            "margin": null,
            "max_height": null,
            "max_width": null,
            "min_height": null,
            "min_width": null,
            "object_fit": null,
            "object_position": null,
            "order": null,
            "overflow": null,
            "overflow_x": null,
            "overflow_y": null,
            "padding": null,
            "right": null,
            "top": null,
            "visibility": null,
            "width": null
          }
        },
        "97fdf5f9d92c431faaa223e1580cd7c6": {
          "model_module": "@jupyter-widgets/base",
          "model_name": "LayoutModel",
          "model_module_version": "1.2.0",
          "state": {
            "_model_module": "@jupyter-widgets/base",
            "_model_module_version": "1.2.0",
            "_model_name": "LayoutModel",
            "_view_count": null,
            "_view_module": "@jupyter-widgets/base",
            "_view_module_version": "1.2.0",
            "_view_name": "LayoutView",
            "align_content": null,
            "align_items": null,
            "align_self": null,
            "border": null,
            "bottom": null,
            "display": null,
            "flex": null,
            "flex_flow": null,
            "grid_area": null,
            "grid_auto_columns": null,
            "grid_auto_flow": null,
            "grid_auto_rows": null,
            "grid_column": null,
            "grid_gap": null,
            "grid_row": null,
            "grid_template_areas": null,
            "grid_template_columns": null,
            "grid_template_rows": null,
            "height": null,
            "justify_content": null,
            "justify_items": null,
            "left": null,
            "margin": null,
            "max_height": null,
            "max_width": null,
            "min_height": null,
            "min_width": null,
            "object_fit": null,
            "object_position": null,
            "order": null,
            "overflow": null,
            "overflow_x": null,
            "overflow_y": null,
            "padding": null,
            "right": null,
            "top": null,
            "visibility": null,
            "width": null
          }
        },
        "0e13ede0d04c4031acb633cd1d7b858d": {
          "model_module": "@jupyter-widgets/controls",
          "model_name": "DescriptionStyleModel",
          "model_module_version": "1.5.0",
          "state": {
            "_model_module": "@jupyter-widgets/controls",
            "_model_module_version": "1.5.0",
            "_model_name": "DescriptionStyleModel",
            "_view_count": null,
            "_view_module": "@jupyter-widgets/base",
            "_view_module_version": "1.2.0",
            "_view_name": "StyleView",
            "description_width": ""
          }
        },
        "648807cffc9c4f86ba6483e80d72d949": {
          "model_module": "@jupyter-widgets/base",
          "model_name": "LayoutModel",
          "model_module_version": "1.2.0",
          "state": {
            "_model_module": "@jupyter-widgets/base",
            "_model_module_version": "1.2.0",
            "_model_name": "LayoutModel",
            "_view_count": null,
            "_view_module": "@jupyter-widgets/base",
            "_view_module_version": "1.2.0",
            "_view_name": "LayoutView",
            "align_content": null,
            "align_items": null,
            "align_self": null,
            "border": null,
            "bottom": null,
            "display": null,
            "flex": null,
            "flex_flow": null,
            "grid_area": null,
            "grid_auto_columns": null,
            "grid_auto_flow": null,
            "grid_auto_rows": null,
            "grid_column": null,
            "grid_gap": null,
            "grid_row": null,
            "grid_template_areas": null,
            "grid_template_columns": null,
            "grid_template_rows": null,
            "height": null,
            "justify_content": null,
            "justify_items": null,
            "left": null,
            "margin": null,
            "max_height": null,
            "max_width": null,
            "min_height": null,
            "min_width": null,
            "object_fit": null,
            "object_position": null,
            "order": null,
            "overflow": null,
            "overflow_x": null,
            "overflow_y": null,
            "padding": null,
            "right": null,
            "top": null,
            "visibility": null,
            "width": null
          }
        },
        "9d8c7b93729148c1af2721be369795af": {
          "model_module": "@jupyter-widgets/controls",
          "model_name": "ProgressStyleModel",
          "model_module_version": "1.5.0",
          "state": {
            "_model_module": "@jupyter-widgets/controls",
            "_model_module_version": "1.5.0",
            "_model_name": "ProgressStyleModel",
            "_view_count": null,
            "_view_module": "@jupyter-widgets/base",
            "_view_module_version": "1.2.0",
            "_view_name": "StyleView",
            "bar_color": null,
            "description_width": ""
          }
        },
        "a32a0ab863bd46f4b2187195e6077d83": {
          "model_module": "@jupyter-widgets/base",
          "model_name": "LayoutModel",
          "model_module_version": "1.2.0",
          "state": {
            "_model_module": "@jupyter-widgets/base",
            "_model_module_version": "1.2.0",
            "_model_name": "LayoutModel",
            "_view_count": null,
            "_view_module": "@jupyter-widgets/base",
            "_view_module_version": "1.2.0",
            "_view_name": "LayoutView",
            "align_content": null,
            "align_items": null,
            "align_self": null,
            "border": null,
            "bottom": null,
            "display": null,
            "flex": null,
            "flex_flow": null,
            "grid_area": null,
            "grid_auto_columns": null,
            "grid_auto_flow": null,
            "grid_auto_rows": null,
            "grid_column": null,
            "grid_gap": null,
            "grid_row": null,
            "grid_template_areas": null,
            "grid_template_columns": null,
            "grid_template_rows": null,
            "height": null,
            "justify_content": null,
            "justify_items": null,
            "left": null,
            "margin": null,
            "max_height": null,
            "max_width": null,
            "min_height": null,
            "min_width": null,
            "object_fit": null,
            "object_position": null,
            "order": null,
            "overflow": null,
            "overflow_x": null,
            "overflow_y": null,
            "padding": null,
            "right": null,
            "top": null,
            "visibility": null,
            "width": null
          }
        },
        "7bd0b8f94e3740c48a3e229bdb19ad00": {
          "model_module": "@jupyter-widgets/controls",
          "model_name": "DescriptionStyleModel",
          "model_module_version": "1.5.0",
          "state": {
            "_model_module": "@jupyter-widgets/controls",
            "_model_module_version": "1.5.0",
            "_model_name": "DescriptionStyleModel",
            "_view_count": null,
            "_view_module": "@jupyter-widgets/base",
            "_view_module_version": "1.2.0",
            "_view_name": "StyleView",
            "description_width": ""
          }
        },
        "0275db8f2b6b445988be049f9ee0467e": {
          "model_module": "@jupyter-widgets/controls",
          "model_name": "HBoxModel",
          "model_module_version": "1.5.0",
          "state": {
            "_dom_classes": [],
            "_model_module": "@jupyter-widgets/controls",
            "_model_module_version": "1.5.0",
            "_model_name": "HBoxModel",
            "_view_count": null,
            "_view_module": "@jupyter-widgets/controls",
            "_view_module_version": "1.5.0",
            "_view_name": "HBoxView",
            "box_style": "",
            "children": [
              "IPY_MODEL_b6b4152ed5d54bc3a0e51d057f71a28c",
              "IPY_MODEL_d052b91afabf4bb3bfd5fb1bbd21814e",
              "IPY_MODEL_f26015fe641444d0aff66c8b94be83c4"
            ],
            "layout": "IPY_MODEL_f446f9dc97f94999812a9397b88745c2"
          }
        },
        "b6b4152ed5d54bc3a0e51d057f71a28c": {
          "model_module": "@jupyter-widgets/controls",
          "model_name": "HTMLModel",
          "model_module_version": "1.5.0",
          "state": {
            "_dom_classes": [],
            "_model_module": "@jupyter-widgets/controls",
            "_model_module_version": "1.5.0",
            "_model_name": "HTMLModel",
            "_view_count": null,
            "_view_module": "@jupyter-widgets/controls",
            "_view_module_version": "1.5.0",
            "_view_name": "HTMLView",
            "description": "",
            "description_tooltip": null,
            "layout": "IPY_MODEL_abdb96a390604c07bc3344fa8ccbb7ca",
            "placeholder": "​",
            "style": "IPY_MODEL_725bf950ec514f65878c4a95dbc87835",
            "value": "100%"
          }
        },
        "d052b91afabf4bb3bfd5fb1bbd21814e": {
          "model_module": "@jupyter-widgets/controls",
          "model_name": "FloatProgressModel",
          "model_module_version": "1.5.0",
          "state": {
            "_dom_classes": [],
            "_model_module": "@jupyter-widgets/controls",
            "_model_module_version": "1.5.0",
            "_model_name": "FloatProgressModel",
            "_view_count": null,
            "_view_module": "@jupyter-widgets/controls",
            "_view_module_version": "1.5.0",
            "_view_name": "ProgressView",
            "bar_style": "success",
            "description": "",
            "description_tooltip": null,
            "layout": "IPY_MODEL_f6d3779215fa49cdb0c5804fd7a5158e",
            "max": 86721253,
            "min": 0,
            "orientation": "horizontal",
            "style": "IPY_MODEL_abb411cf0478436a9008e0cab3ce718a",
            "value": 86721253
          }
        },
        "f26015fe641444d0aff66c8b94be83c4": {
          "model_module": "@jupyter-widgets/controls",
          "model_name": "HTMLModel",
          "model_module_version": "1.5.0",
          "state": {
            "_dom_classes": [],
            "_model_module": "@jupyter-widgets/controls",
            "_model_module_version": "1.5.0",
            "_model_name": "HTMLModel",
            "_view_count": null,
            "_view_module": "@jupyter-widgets/controls",
            "_view_module_version": "1.5.0",
            "_view_name": "HTMLView",
            "description": "",
            "description_tooltip": null,
            "layout": "IPY_MODEL_2499d55ee1814deda5bf371253804cba",
            "placeholder": "​",
            "style": "IPY_MODEL_0e37d9f2026c4c978c9578bb8b84579a",
            "value": " 82.7M/82.7M [00:00&lt;00:00, 104MB/s]"
          }
        },
        "f446f9dc97f94999812a9397b88745c2": {
          "model_module": "@jupyter-widgets/base",
          "model_name": "LayoutModel",
          "model_module_version": "1.2.0",
          "state": {
            "_model_module": "@jupyter-widgets/base",
            "_model_module_version": "1.2.0",
            "_model_name": "LayoutModel",
            "_view_count": null,
            "_view_module": "@jupyter-widgets/base",
            "_view_module_version": "1.2.0",
            "_view_name": "LayoutView",
            "align_content": null,
            "align_items": null,
            "align_self": null,
            "border": null,
            "bottom": null,
            "display": null,
            "flex": null,
            "flex_flow": null,
            "grid_area": null,
            "grid_auto_columns": null,
            "grid_auto_flow": null,
            "grid_auto_rows": null,
            "grid_column": null,
            "grid_gap": null,
            "grid_row": null,
            "grid_template_areas": null,
            "grid_template_columns": null,
            "grid_template_rows": null,
            "height": null,
            "justify_content": null,
            "justify_items": null,
            "left": null,
            "margin": null,
            "max_height": null,
            "max_width": null,
            "min_height": null,
            "min_width": null,
            "object_fit": null,
            "object_position": null,
            "order": null,
            "overflow": null,
            "overflow_x": null,
            "overflow_y": null,
            "padding": null,
            "right": null,
            "top": null,
            "visibility": null,
            "width": null
          }
        },
        "abdb96a390604c07bc3344fa8ccbb7ca": {
          "model_module": "@jupyter-widgets/base",
          "model_name": "LayoutModel",
          "model_module_version": "1.2.0",
          "state": {
            "_model_module": "@jupyter-widgets/base",
            "_model_module_version": "1.2.0",
            "_model_name": "LayoutModel",
            "_view_count": null,
            "_view_module": "@jupyter-widgets/base",
            "_view_module_version": "1.2.0",
            "_view_name": "LayoutView",
            "align_content": null,
            "align_items": null,
            "align_self": null,
            "border": null,
            "bottom": null,
            "display": null,
            "flex": null,
            "flex_flow": null,
            "grid_area": null,
            "grid_auto_columns": null,
            "grid_auto_flow": null,
            "grid_auto_rows": null,
            "grid_column": null,
            "grid_gap": null,
            "grid_row": null,
            "grid_template_areas": null,
            "grid_template_columns": null,
            "grid_template_rows": null,
            "height": null,
            "justify_content": null,
            "justify_items": null,
            "left": null,
            "margin": null,
            "max_height": null,
            "max_width": null,
            "min_height": null,
            "min_width": null,
            "object_fit": null,
            "object_position": null,
            "order": null,
            "overflow": null,
            "overflow_x": null,
            "overflow_y": null,
            "padding": null,
            "right": null,
            "top": null,
            "visibility": null,
            "width": null
          }
        },
        "725bf950ec514f65878c4a95dbc87835": {
          "model_module": "@jupyter-widgets/controls",
          "model_name": "DescriptionStyleModel",
          "model_module_version": "1.5.0",
          "state": {
            "_model_module": "@jupyter-widgets/controls",
            "_model_module_version": "1.5.0",
            "_model_name": "DescriptionStyleModel",
            "_view_count": null,
            "_view_module": "@jupyter-widgets/base",
            "_view_module_version": "1.2.0",
            "_view_name": "StyleView",
            "description_width": ""
          }
        },
        "f6d3779215fa49cdb0c5804fd7a5158e": {
          "model_module": "@jupyter-widgets/base",
          "model_name": "LayoutModel",
          "model_module_version": "1.2.0",
          "state": {
            "_model_module": "@jupyter-widgets/base",
            "_model_module_version": "1.2.0",
            "_model_name": "LayoutModel",
            "_view_count": null,
            "_view_module": "@jupyter-widgets/base",
            "_view_module_version": "1.2.0",
            "_view_name": "LayoutView",
            "align_content": null,
            "align_items": null,
            "align_self": null,
            "border": null,
            "bottom": null,
            "display": null,
            "flex": null,
            "flex_flow": null,
            "grid_area": null,
            "grid_auto_columns": null,
            "grid_auto_flow": null,
            "grid_auto_rows": null,
            "grid_column": null,
            "grid_gap": null,
            "grid_row": null,
            "grid_template_areas": null,
            "grid_template_columns": null,
            "grid_template_rows": null,
            "height": null,
            "justify_content": null,
            "justify_items": null,
            "left": null,
            "margin": null,
            "max_height": null,
            "max_width": null,
            "min_height": null,
            "min_width": null,
            "object_fit": null,
            "object_position": null,
            "order": null,
            "overflow": null,
            "overflow_x": null,
            "overflow_y": null,
            "padding": null,
            "right": null,
            "top": null,
            "visibility": null,
            "width": null
          }
        },
        "abb411cf0478436a9008e0cab3ce718a": {
          "model_module": "@jupyter-widgets/controls",
          "model_name": "ProgressStyleModel",
          "model_module_version": "1.5.0",
          "state": {
            "_model_module": "@jupyter-widgets/controls",
            "_model_module_version": "1.5.0",
            "_model_name": "ProgressStyleModel",
            "_view_count": null,
            "_view_module": "@jupyter-widgets/base",
            "_view_module_version": "1.2.0",
            "_view_name": "StyleView",
            "bar_color": null,
            "description_width": ""
          }
        },
        "2499d55ee1814deda5bf371253804cba": {
          "model_module": "@jupyter-widgets/base",
          "model_name": "LayoutModel",
          "model_module_version": "1.2.0",
          "state": {
            "_model_module": "@jupyter-widgets/base",
            "_model_module_version": "1.2.0",
            "_model_name": "LayoutModel",
            "_view_count": null,
            "_view_module": "@jupyter-widgets/base",
            "_view_module_version": "1.2.0",
            "_view_name": "LayoutView",
            "align_content": null,
            "align_items": null,
            "align_self": null,
            "border": null,
            "bottom": null,
            "display": null,
            "flex": null,
            "flex_flow": null,
            "grid_area": null,
            "grid_auto_columns": null,
            "grid_auto_flow": null,
            "grid_auto_rows": null,
            "grid_column": null,
            "grid_gap": null,
            "grid_row": null,
            "grid_template_areas": null,
            "grid_template_columns": null,
            "grid_template_rows": null,
            "height": null,
            "justify_content": null,
            "justify_items": null,
            "left": null,
            "margin": null,
            "max_height": null,
            "max_width": null,
            "min_height": null,
            "min_width": null,
            "object_fit": null,
            "object_position": null,
            "order": null,
            "overflow": null,
            "overflow_x": null,
            "overflow_y": null,
            "padding": null,
            "right": null,
            "top": null,
            "visibility": null,
            "width": null
          }
        },
        "0e37d9f2026c4c978c9578bb8b84579a": {
          "model_module": "@jupyter-widgets/controls",
          "model_name": "DescriptionStyleModel",
          "model_module_version": "1.5.0",
          "state": {
            "_model_module": "@jupyter-widgets/controls",
            "_model_module_version": "1.5.0",
            "_model_name": "DescriptionStyleModel",
            "_view_count": null,
            "_view_module": "@jupyter-widgets/base",
            "_view_module_version": "1.2.0",
            "_view_name": "StyleView",
            "description_width": ""
          }
        }
      }
    }
  },
  "cells": [
    {
      "cell_type": "markdown",
      "metadata": {
        "id": "view-in-github",
        "colab_type": "text"
      },
      "source": [
        "<a href=\"https://colab.research.google.com/github/HanhengHe/BigDataCourseProj/blob/main/bigdataproj.ipynb\" target=\"_parent\"><img src=\"https://colab.research.google.com/assets/colab-badge.svg\" alt=\"Open In Colab\"/></a>"
      ]
    },
    {
      "cell_type": "code",
      "source": [
        "RUNLARGE = True\n",
        "NUMCLASS= 50 if RUNLARGE else 10"
      ],
      "metadata": {
        "id": "6JucKGj_8jJ7"
      },
      "execution_count": null,
      "outputs": []
    },
    {
      "cell_type": "code",
      "execution_count": null,
      "metadata": {
        "colab": {
          "base_uri": "https://localhost:8080/"
        },
        "id": "ZgMFKRmRkdmq",
        "outputId": "bfa9d5c2-1368-4940-e119-44e6db990c4c"
      },
      "outputs": [
        {
          "output_type": "stream",
          "name": "stdout",
          "text": [
            "Drive already mounted at /content/drive/; to attempt to forcibly remount, call drive.mount(\"/content/drive/\", force_remount=True).\n"
          ]
        }
      ],
      "source": [
        "# GET FILE\n",
        "\n",
        "from google.colab import drive\n",
        "import zipfile\n",
        "\n",
        "drive.mount('/content/drive/', force_remount=False)\n",
        "\n",
        "filePath = \"/content/drive/MyDrive/Dataset_large\" if RUNLARGE else \"/content/drive/MyDrive/Dataset_small/data1.zip\"\n",
        "\n",
        "with zipfile.ZipFile(filePath,\"r\") as zip_ref:\n",
        "    zip_ref.extractall(\"targetdir\")"
      ]
    },
    {
      "cell_type": "code",
      "source": [
        "import numpy as np\n",
        "import torch\n",
        "import torch.nn as nn\n",
        "import torch.utils.data as Data\n",
        "import torch.optim as optim\n",
        "import torch.nn.functional as F\n",
        "from torchvision import models"
      ],
      "metadata": {
        "id": "h4fFobtta7EG"
      },
      "execution_count": null,
      "outputs": []
    },
    {
      "cell_type": "code",
      "source": [
        "# LOADING TRAINING DATA\n",
        "\n",
        "lsTrainLabel = []\n",
        "lsTrainData = []\n",
        "\n",
        "trainingPath = \"/content/targetdir/dataset2\" if RUNLARGE else \"/content/targetdir/data1\"\n",
        "\n",
        "with open(trainingPath + \"/train_label.txt\") as f:\n",
        "  for line in f.readlines():\n",
        "    expression = line.split(' ')\n",
        "    lsTrainLabel.append(int(expression[1]))\n",
        "    dataRGB = np.load(trainingPath + \"/train/\" + expression[0]).transpose((2,0,1))\n",
        "    lsTrainData.append(dataRGB)\n",
        "    # turn training data into grayscale data\n",
        "    # lsData.append((dataRGB[:, :, 0] + dataRGB[:, :, 1] + dataRGB[:, :, 2]) / 3)\n",
        "\n",
        "INITER = torch.zeros(2, lsTrainData[0].shape[0], lsTrainData[0].shape[1], lsTrainData[0].shape[2])\n",
        "\n",
        "print(\"Number of traning data: {0}\".format(len(lsTrainLabel)), end='\\n')\n",
        "print(\"Shape of traning data: {0}\".format(lsTrainData[0].shape), end='\\n')"
      ],
      "metadata": {
        "colab": {
          "base_uri": "https://localhost:8080/"
        },
        "id": "cBqaS5J8FOYC",
        "outputId": "51e54124-3bd7-40ee-af88-942ca4152593"
      },
      "execution_count": null,
      "outputs": [
        {
          "output_type": "stream",
          "name": "stdout",
          "text": [
            "Number of traning data: 64163\n",
            "Shape of traning data: (3, 224, 224)\n"
          ]
        }
      ]
    },
    {
      "cell_type": "code",
      "source": [
        "# LOAD TEST DATA\n",
        "\n",
        "lsTestLabel = []\n",
        "lsTestData = []\n",
        "\n",
        "testingPath = \"/content/targetdir/dataset2\" if RUNLARGE else \"/content/targetdir/data1\"\n",
        "\n",
        "\n",
        "with open(testingPath + \"/test_label.txt\") as f:\n",
        "  for line in f.readlines():\n",
        "    expression = line.split(' ')\n",
        "    lsTestLabel.append(int(expression[1]))\n",
        "    dataRGB = np.load(testingPath + \"/test/\" + expression[0]).transpose((2,0,1))\n",
        "    lsTestData.append(dataRGB)\n",
        "    # turn training data into grayscale data\n",
        "    # lsData.append((dataRGB[:, :, 0] + dataRGB[:, :, 1] + dataRGB[:, :, 2]) / 3)\n",
        "\n",
        "print(\"Number of testing data: {0}\".format(len(lsTestLabel)), end='\\n')\n",
        "print(\"Shape of testing data: {0}\".format(lsTestData[0].shape), end='\\n')"
      ],
      "metadata": {
        "colab": {
          "base_uri": "https://localhost:8080/"
        },
        "id": "zxehioIAZtM0",
        "outputId": "c01337a1-7bc5-43b9-9a76-fe99dc41c94d"
      },
      "execution_count": null,
      "outputs": [
        {
          "output_type": "stream",
          "name": "stdout",
          "text": [
            "Number of testing data: 2500\n",
            "Shape of testing data: (3, 224, 224)\n"
          ]
        }
      ]
    },
    {
      "cell_type": "code",
      "source": [
        "from torchvision.models.resnet import ResNet50_Weights\n",
        "\n",
        "class ResNet18(nn.Module):\n",
        "    def __init__(self):\n",
        "        super(ResNet18, self).__init__()\n",
        "        self.model = models.resnet18()\n",
        "\n",
        "    def forward(self, x):\n",
        "        x = self.model(x)\n",
        "        x = x.view(x.size(0), -1)\n",
        "        return x\n",
        "\n",
        "\n",
        "class ResNet34(nn.Module):\n",
        "    def __init__(self):\n",
        "        super(ResNet34, self).__init__()\n",
        "        self.model = models.resnet34()\n",
        "\n",
        "    def forward(self, x):\n",
        "        x = self.model(x)\n",
        "        x = x.view(x.size(0), -1)\n",
        "        return x\n",
        "\n",
        "\n",
        "class ResNet50(nn.Module):\n",
        "    def __init__(self):\n",
        "        super(ResNet50, self).__init__()\n",
        "        self.model = models.resnet50(weights=ResNet50_Weights.IMAGENET1K_V2)\n",
        "\n",
        "    def forward(self, x):\n",
        "        x = self.model(x)\n",
        "        x = x.view(x.size(0), -1)\n",
        "        return x\n",
        "\n",
        "\n",
        "class ResNet101(nn.Module):\n",
        "    def __init__(self):\n",
        "        super(ResNet101, self).__init__()\n",
        "        self.model = models.resnet101()\n",
        "\n",
        "    def forward(self, x):\n",
        "        x = self.model(x)\n",
        "        x = x.view(x.size(0), -1)\n",
        "        return x\n",
        "\n",
        "\n",
        "class ResNet152(nn.Module):\n",
        "    def __init__(self):\n",
        "        super(ResNet152, self).__init__()\n",
        "        self.model = models.resnet152()\n",
        "\n",
        "    def forward(self, x):\n",
        "        x = self.model(x)\n",
        "        x = x.view(x.size(0), -1)\n",
        "        return x"
      ],
      "metadata": {
        "id": "vvisny0Nh2Ig"
      },
      "execution_count": null,
      "outputs": []
    },
    {
      "cell_type": "code",
      "source": [
        "from torchvision.models.resnet import ResNeXt50_32X4D_Weights, ResNeXt101_32X8D_Weights\n",
        "\n",
        "class ResNeXt50(nn.Module):\n",
        "    def __init__(self):\n",
        "        super(ResNeXt50, self).__init__()\n",
        "        self.model = models.resnext50_32x4d(weights=ResNeXt50_32X4D_Weights.IMAGENET1K_V2)\n",
        "\n",
        "    def forward(self, x):\n",
        "        x = self.model(x)\n",
        "        x = x.view(x.size(0), -1)\n",
        "        return x\n",
        "\n",
        "class ResNeXt101_32(nn.Module):\n",
        "    def __init__(self):\n",
        "        super(ResNeXt101_32, self).__init__()\n",
        "        self.model = models.resnext101_32x8d(weights=ResNeXt101_32X8D_Weights.IMAGENET1K_V1)\n",
        "\n",
        "    def forward(self, x):\n",
        "        x = self.model(x)\n",
        "        x = x.view(x.size(0), -1)\n",
        "        return x\n",
        "\n",
        "class ResNeXt101_64(nn.Module):\n",
        "    def __init__(self):\n",
        "        super(ResNeXt101_64, self).__init__()\n",
        "        self.model = models.resnext101_64x4d()\n",
        "\n",
        "    def forward(self, x):\n",
        "        x = self.model(x)\n",
        "        x = x.view(x.size(0), -1)\n",
        "        return x"
      ],
      "metadata": {
        "id": "mf1inbCpwf0z"
      },
      "execution_count": null,
      "outputs": []
    },
    {
      "cell_type": "code",
      "source": [
        "from torchvision.models.densenet import DenseNet121_Weights, DenseNet161_Weights\n",
        "\n",
        "class DenseNet121(nn.Module):\n",
        "    def __init__(self):\n",
        "        super(DenseNet121, self).__init__()\n",
        "        self.model = models.densenet121(weights=DenseNet121_Weights.IMAGENET1K_V1)\n",
        "\n",
        "    def forward(self, x):\n",
        "         x = self.model(x)\n",
        "         x = x.view(x.size(0), -1)\n",
        "         return x\n",
        "\n",
        "class DenseNet161(nn.Module):\n",
        "    def __init__(self):\n",
        "        super(DenseNet161, self).__init__()\n",
        "        self.model = models.densenet161(weights=DenseNet161_Weights.IMAGENET1K_V1)\n",
        "\n",
        "    def forward(self, x):\n",
        "         x = self.model(x)\n",
        "         x = x.view(x.size(0), -1)\n",
        "         return x\n",
        "\n",
        "class DenseNet169(nn.Module):\n",
        "    def __init__(self):\n",
        "        super(DenseNet169, self).__init__()\n",
        "        self.model = models.densenet169()\n",
        "\n",
        "    def forward(self, x):\n",
        "         x = self.model(x)\n",
        "         x = x.view(x.size(0), -1)\n",
        "         return x\n",
        "\n",
        "class DenseNet201(nn.Module):\n",
        "    def __init__(self):\n",
        "        super(DenseNet201, self).__init__()\n",
        "        self.model = models.densenet201()\n",
        "\n",
        "    def forward(self, x):\n",
        "         x = self.model(x)\n",
        "         x = x.view(x.size(0), -1)\n",
        "         return x"
      ],
      "metadata": {
        "id": "TdV-jMy0f9Kb"
      },
      "execution_count": null,
      "outputs": []
    },
    {
      "cell_type": "code",
      "source": [
        "from torchvision.models.efficientnet import EfficientNet_V2_S_Weights\n",
        "\n",
        "class EfficientNetV2(nn.Module):\n",
        "    def __init__(self):\n",
        "        super(EfficientNetV2, self).__init__()\n",
        "        self.model = models.efficientnet_v2_s(weights=EfficientNet_V2_S_Weights.IMAGENET1K_V1)\n",
        "\n",
        "    def forward(self, x):\n",
        "         x = self.model(x)\n",
        "         x = x.view(x.size(0), -1)\n",
        "         return x\n",
        "\n",
        "class ConvNeXt_base(nn.Module):\n",
        "    def __init__(self):\n",
        "        super(ConvNeXt_base, self).__init__()\n",
        "        self.model = models.convnext_base()\n",
        "\n",
        "    def forward(self, x):\n",
        "         x = self.model(x)\n",
        "         x = x.view(x.size(0), -1)\n",
        "         return x\n",
        "\n",
        "class ConvNeXt_large(nn.Module):\n",
        "    def __init__(self):\n",
        "        super(ConvNeXt_large, self).__init__()\n",
        "        self.model = models.convnext_large()\n",
        "\n",
        "    def forward(self, x):\n",
        "         x = self.model(x)\n",
        "         x = x.view(x.size(0), -1)\n",
        "         return x\n",
        "\n",
        "class MaxVit(nn.Module):\n",
        "    def __init__(self):\n",
        "        super(MaxVit, self).__init__()\n",
        "        self.model = models.maxvit()\n",
        "\n",
        "    def forward(self, x):\n",
        "         x = self.model(x)\n",
        "         x = x.view(x.size(0), -1)\n",
        "         return x"
      ],
      "metadata": {
        "id": "44O8lw0yf1rv"
      },
      "execution_count": null,
      "outputs": []
    },
    {
      "cell_type": "code",
      "source": [
        "network_dict = {\"ResNet18\": ResNet18,\n",
        "                \"ResNet34\": ResNet34,\n",
        "                \"ResNet50\": ResNet50,\n",
        "                \"ResNet101\": ResNet101,\n",
        "                \"ResNet152\": ResNet152,\n",
        "\n",
        "                \"DenseNet121\": DenseNet121,\n",
        "                \"DenseNet161\": DenseNet161,\n",
        "                \"DenseNet169\": DenseNet169,\n",
        "                \"DenseNet201\": DenseNet201,\n",
        "\n",
        "                \"ResNeXt50\": ResNeXt50,\n",
        "                \"ResNeXt101_32\": ResNeXt101_32,\n",
        "                \"ResNeXt101_64\": ResNeXt101_64,\n",
        "\n",
        "                \"EfficientNetV2\": EfficientNetV2,\n",
        "\n",
        "                \"ConvNeXt_base\": ConvNeXt_base,\n",
        "                \"ConvNeXt_large\": ConvNeXt_large}"
      ],
      "metadata": {
        "id": "eq6T_Xwtf2jC"
      },
      "execution_count": null,
      "outputs": []
    },
    {
      "cell_type": "code",
      "source": [
        "# NETWORK DEFINE MODULE\n",
        "\n",
        "torch.cuda._initialized = True\n",
        "\n",
        "class Network(nn.Module):\n",
        "    \n",
        "    def __init__(self, initer: torch.Tensor, num_classes: int, kernalType: str):\n",
        "        \n",
        "        super(Network, self).__init__()\n",
        "        self.backbone = network_dict[kernalType]()\n",
        "        self.fc = nn.Linear(self.backbone(initer).shape[1], num_classes)\n",
        "        \n",
        "    def forward(self, x):\n",
        "        \n",
        "        x = self.backbone(x)\n",
        "        x = self.fc(x)\n",
        "        # x = F.softmax(x, dim=1)  # note this when use ce\n",
        "        return x "
      ],
      "metadata": {
        "id": "F7nr88ZqgQAI"
      },
      "execution_count": null,
      "outputs": []
    },
    {
      "cell_type": "code",
      "source": [
        "CPU = torch.device(\"cpu\")\n",
        "DEVICE = torch.device(\"cuda:0\") if torch.cuda.is_available() else CPU\n",
        "# DEVICE = CPU\n",
        "print(\"DEVICE = %s\" % (DEVICE))"
      ],
      "metadata": {
        "colab": {
          "base_uri": "https://localhost:8080/"
        },
        "id": "GgcL_FZ8jhi3",
        "outputId": "1ef9401a-d58c-4e4b-fa12-5a0e1363f4e9"
      },
      "execution_count": null,
      "outputs": [
        {
          "output_type": "stream",
          "name": "stdout",
          "text": [
            "DEVICE = cuda:0\n"
          ]
        }
      ]
    },
    {
      "cell_type": "code",
      "source": [
        "# TRAINING MODULE \n",
        "\n",
        "import math\n",
        "from torch.optim.lr_scheduler import StepLR\n",
        "import time\n",
        "import os.path\n",
        "from os import path\n",
        "import matplotlib.pyplot as plt\n",
        "\n",
        "class LogHelper:\n",
        "    def __init__(self):\n",
        "        self.strLog = \"\"\n",
        "    \n",
        "    def PrintAndLog(self, strMsg: str, show=True, end=\"\\n\"):\n",
        "        self.strLog += strMsg\n",
        "        self.strLog += end\n",
        "        if show:\n",
        "            print(strMsg, end=end)\n",
        "\n",
        "def Processing(KERNALTYPE, \n",
        "               Epochs = 50, \n",
        "               MINLOSS = 1e-5, \n",
        "               MINIBATCH_SIZE = 128, \n",
        "               LEARNING_RATE = 0.001, \n",
        "               lr_diff = 1e-5, \n",
        "               lrChangeFq = -1,\n",
        "               gammaScheduler = 0.8,\n",
        "               outputFrequence = 10\n",
        "               ):\n",
        "\n",
        "    lsTrainLoss = []\n",
        "\n",
        "    logHelper = LogHelper() \n",
        "\n",
        "    bChangeLr = lrChangeFq != -1\n",
        "    torch.cuda.empty_cache()\n",
        "    model = Network(INITER, NUMCLASS, KERNALTYPE).to(DEVICE)\n",
        "\n",
        "    trainLabels = np.array(lsTrainLabel)\n",
        "    trainSet = np.array(lsTrainData)\n",
        "  \n",
        "    trainSet = torch.from_numpy(trainSet).float()\n",
        "\n",
        "    criterion = nn.CrossEntropyLoss() # ce\n",
        "    # criterion = nn.NLLLoss()  # nll\n",
        "    trainLabels = torch.from_numpy(trainLabels)    # nll\n",
        "    torch_dataset = Data.TensorDataset(trainSet, trainLabels.long())    # nll\n",
        "\n",
        "    # criterion = nn.MSELoss()  # mse\n",
        "    # trainLabels = torch.nn.functional.one_hot(torch.from_numpy(trainLabels), num_classes=NUMCLASS)  # mse\n",
        "    # torch_dataset = Data.TensorDataset(trainSet, trainLabels.float())  # mse\n",
        "\n",
        "\n",
        "    # put the dataset into DataLoader\n",
        "    loader = Data.DataLoader(\n",
        "        dataset=torch_dataset,\n",
        "        batch_size=MINIBATCH_SIZE,\n",
        "        shuffle=True,\n",
        "        num_workers=0\n",
        "    )\n",
        "\n",
        "    nSteps = math.ceil(trainLabels.shape[0] / MINIBATCH_SIZE)\n",
        "\n",
        "    # OPTIMIZER\n",
        "    # optimizer = optim.SGD(model.parameters(), lr=LEARNING_RATE, momentum=0.9)\n",
        "    optimizer = optim.Adam(model.parameters(), lr=LEARNING_RATE)\n",
        "    scheduler = StepLR(optimizer, step_size=lrChangeFq if bChangeLr else Epochs, gamma=gammaScheduler)\n",
        "\n",
        "    logHelper.PrintAndLog(\"\\n\\nKERBALTYPE: \" + KERNALTYPE)\n",
        "    logHelper.PrintAndLog(\"INIT LEARNING RATE={0}; EPOCH={1}; CHGFR={2}; GAMMA={3}\".format(LEARNING_RATE, Epochs, lrChangeFq, gammaScheduler))\n",
        "    logHelper.PrintAndLog(\"TRAINING...\")\n",
        "\n",
        "    model.train()\n",
        "    lastLoss = 0\n",
        "    for epoch in range(Epochs):\n",
        "\n",
        "        curLoss = 0\n",
        "\n",
        "        for step, (batch_x, batch_y) in enumerate(loader):\n",
        "            optimizer.zero_grad()        \n",
        "            output = model(batch_x.to(DEVICE))\n",
        "            loss = criterion(output, batch_y.to(DEVICE))  # ce\n",
        "            loss.backward()\n",
        "            optimizer.step()\n",
        "\n",
        "            curLoss += loss.item() / nSteps\n",
        "\n",
        "        lsTrainLoss.append(curLoss)\n",
        "\n",
        "        if bChangeLr:\n",
        "            scheduler.step()\n",
        "            LEARNING_RATE = optimizer.param_groups[0]['lr']\n",
        "        \n",
        "        lrMsg = \" lr = {0:.5}\".format(LEARNING_RATE) if bChangeLr else \"\"\n",
        "        curMsg = \" Epoch {0}, general loss: {1}\".format(epoch+1, curLoss) + lrMsg\n",
        "\n",
        "        logHelper.PrintAndLog(curMsg, show=((epoch == 0) or ((epoch + 1) % outputFrequence == 0)))\n",
        "\n",
        "        if curLoss <= MINLOSS:\n",
        "            logHelper.PrintAndLog(\" Terminated with low loss. Epoch {0}, general loss: {1}\".format(epoch+1, curLoss) + lrMsg)\n",
        "            break\n",
        "        \n",
        "        if abs(lastLoss - curLoss) <= lr_diff:\n",
        "            logHelper.PrintAndLog(\" Terminated with unchanged loss. Epoch {0}, general loss: {1}\".format(epoch+1, curLoss) + lrMsg)\n",
        "            break\n",
        "        \n",
        "        lastLoss = curLoss\n",
        "\n",
        "    # TEST MODULE\n",
        "\n",
        "    testLabels = np.array(lsTestLabel)\n",
        "    testSet = np.array(lsTestData)\n",
        "\n",
        "    testSet = torch.from_numpy(testSet).float()\n",
        "    testLabels = torch.from_numpy(testLabels).to(DEVICE)\n",
        "\n",
        "    model.eval()\n",
        "    logHelper.PrintAndLog(\"TESTING...\")\n",
        "\n",
        "    test_loss = 0\n",
        "    correct = 0\n",
        "\n",
        "    # first transform the data to dataset can be processed by torch\n",
        "    # torch_dataset = Data.TensorDataset(testSet, testLabels.long())  # nll\n",
        "\n",
        "    testLabelsOneHot = torch.nn.functional.one_hot(testLabels, num_classes=NUMCLASS)  # mse\n",
        "    torch_dataset = Data.TensorDataset(testSet, testLabelsOneHot.float())  # mse\n",
        "\n",
        "    # put the dataset into DataLoader\n",
        "    loader = Data.DataLoader(\n",
        "        dataset=torch_dataset,\n",
        "        batch_size=MINIBATCH_SIZE,\n",
        "        shuffle=False,\n",
        "        num_workers=0\n",
        "    )\n",
        "\n",
        "    with torch.no_grad():\n",
        "        for step, (batch_x, batch_y) in enumerate(loader):\n",
        "            output = model(batch_x.to(DEVICE))\n",
        "            test_loss += criterion(output, batch_y.to(DEVICE)).item()  # mse\n",
        "            predict = output.max(1, keepdim=True)[1]  # find the prediction\n",
        "            labels = batch_y.max(1, keepdim=True)[1]\n",
        "            correct += predict.eq(labels.view_as(predict)).sum().item()\n",
        "\n",
        "    testSize = testLabels.shape[0]\n",
        "    test_loss /= testSize\n",
        "    logHelper.PrintAndLog(\" Test: Average loss:%s, Accuracy: %s/%s (%s)\"\n",
        "        % (test_loss, correct, testSize, correct / testSize))\n",
        "    \n",
        "    struct_time = time.localtime() # get struct_time\n",
        "    strTime = time.strftime(\"%m-%d-%Y_%H:%M:%S\", struct_time)\n",
        "\n",
        "    fileName = KERNALTYPE + (\"_L_\" if RUNLARGE else \"_S_\") + strTime\n",
        "    filePath = '/content/drive/MyDrive/BigDataProjLog/{0}/'.format(KERNALTYPE)\n",
        "\n",
        "    print(fileName)\n",
        "\n",
        "    if not os.path.exists(filePath):\n",
        "        os.makedirs(filePath)\n",
        "\n",
        "    with open(filePath + fileName + '.log', 'w') as f:\n",
        "        f.write(logHelper.strLog)\n",
        "    \n",
        "    # plot\n",
        "    plt.figure()\n",
        "    plt.xlabel('epoch')\n",
        "    plt.ylabel('loss')\n",
        "    plt.xticks([])\n",
        "    plt.plot(list(range(0,len(lsTrainLoss))), lsTrainLoss)\n",
        "    plt.title(fileName)\n",
        "    plt.savefig(filePath + fileName + '.png')\n",
        "    plt.show()"
      ],
      "metadata": {
        "id": "U6jEzqxzEy4K"
      },
      "execution_count": null,
      "outputs": []
    },
    {
      "cell_type": "code",
      "source": [
        "# test\n",
        "\"\"\"for key in network_dict:\n",
        "    Processing(key)\"\"\""
      ],
      "metadata": {
        "colab": {
          "base_uri": "https://localhost:8080/",
          "height": 36
        },
        "id": "hKjuQO4N1gbg",
        "outputId": "72f9babb-0b84-41d8-cb26-bbbc0960ddf1"
      },
      "execution_count": null,
      "outputs": [
        {
          "output_type": "execute_result",
          "data": {
            "text/plain": [
              "'for key in network_dict:\\n    Processing(key)'"
            ],
            "application/vnd.google.colaboratory.intrinsic+json": {
              "type": "string"
            }
          },
          "metadata": {},
          "execution_count": 14
        }
      ]
    },
    {
      "cell_type": "code",
      "source": [
        "\"\"\"\n",
        "\"ResNet18\", \"ResNet34\", \"ResNet50\", \"ResNet101\", \"ResNet152\", \n",
        "\"DenseNet121\", \"DenseNet161\", \"DenseNet169\", \"DenseNet201\", \n",
        "\"ResNeXt50\", \"ResNeXt101_32\", \"ResNeXt101_64\", \"EfficientNetV2\", \n",
        "\"ConvNeXt_base\", \"ConvNeXt_large\"\n",
        "\"\"\""
      ],
      "metadata": {
        "colab": {
          "base_uri": "https://localhost:8080/",
          "height": 54
        },
        "id": "hxzeNtxQBTJz",
        "outputId": "d2cd8451-a3f5-4f9a-e09a-a7499462f4a9"
      },
      "execution_count": null,
      "outputs": [
        {
          "output_type": "execute_result",
          "data": {
            "text/plain": [
              "'\\n\"ResNet18\", \"ResNet34\", \"ResNet50\", \"ResNet101\", \"ResNet152\", \\n\"DenseNet121\", \"DenseNet161\", \"DenseNet169\", \"DenseNet201\", \\n\"ResNeXt50\", \"ResNeXt101_32\", \"ResNeXt101_64\", \"EfficientNetV2\", \\n\"ConvNeXt_base\", \"ConvNeXt_large\"\\n'"
            ],
            "application/vnd.google.colaboratory.intrinsic+json": {
              "type": "string"
            }
          },
          "metadata": {},
          "execution_count": 15
        }
      ]
    },
    {
      "cell_type": "code",
      "source": [
        "Processing(\"ResNet18\", lrChangeFq=5, outputFrequence=10)"
      ],
      "metadata": {
        "id": "eEDJMsg3tWHs",
        "colab": {
          "base_uri": "https://localhost:8080/",
          "height": 534
        },
        "outputId": "7a418489-c662-4e09-b824-4d45f760fc26"
      },
      "execution_count": null,
      "outputs": [
        {
          "metadata": {
            "tags": null
          },
          "name": "stdout",
          "output_type": "stream",
          "text": [
            "\n",
            "\n",
            "KERBALTYPE: ResNet18\n",
            "INIT LEARNING RATE=0.001; EPOCH=50; CHGFR=5; GAMMA=0.8\n",
            "TRAINING...\n",
            " Epoch 1, general loss: 3.049883026525794 lr = 0.001\n",
            " Epoch 10, general loss: 0.4642707956620902 lr = 0.00064\n",
            " Epoch 20, general loss: 0.0589306911154914 lr = 0.0004096\n",
            " Epoch 30, general loss: 0.022022968131688924 lr = 0.00026214\n",
            " Epoch 40, general loss: 0.005732250792709553 lr = 0.00016777\n",
            " Epoch 50, general loss: 0.005420171517195938 lr = 0.00010737\n",
            "TESTING...\n",
            " Test: Average loss:0.031064705181121827, Accuracy: 1554/2500 (0.6216)\n",
            "ResNet18_L_03-26-2023_01:15:17\n"
          ]
        },
        {
          "data": {
            "image/png": "[encoded data removed]",
            "text/plain": [
              "<Figure size 432x288 with 1 Axes>"
            ]
          },
          "metadata": {},
          "output_type": "display_data"
        }
      ]
    },
    {
      "cell_type": "code",
      "source": [
        "Processing(\"ResNet50\", lrChangeFq=5, outputFrequence=10)"
      ],
      "metadata": {
        "id": "sHNVqAwN3azZ",
        "colab": {
          "base_uri": "https://localhost:8080/",
          "height": 584,
          "referenced_widgets": [
            "9e60a3e723e14758ad3650aa39a8fe7b",
            "b2a49aa6cdf44d96942a91432002428d",
            "f846e89641624f419fb411b68a1932b1",
            "619c47525ca54034bff14973be601004",
            "67ee29f2da9f49aeb53de8064fac9d36",
            "35bb64ac8c784fd6a28ce2497635be3e",
            "3239a0ed0a8a4d53a28daea382d15eca",
            "02ab633fc4b64e6c9fc3f72e0ede677c",
            "a3ee1871437d4fd09f33467a5d79bcb8",
            "3399613549cb482ba6036592f20761dc",
            "c2d0036e6bf04fe78e3cdc4264f72288"
          ]
        },
        "outputId": "b127832e-111e-4304-eb23-f00d794bb0c6"
      },
      "execution_count": null,
      "outputs": [
        {
          "metadata": {
            "tags": null
          },
          "name": "stderr",
          "output_type": "stream",
          "text": [
            "Downloading: \"https://download.pytorch.org/models/resnet50-11ad3fa6.pth\" to /root/.cache/torch/hub/checkpoints/resnet50-11ad3fa6.pth\n"
          ]
        },
        {
          "data": {
            "application/vnd.jupyter.widget-view+json": {
              "model_id": "9e60a3e723e14758ad3650aa39a8fe7b",
              "version_major": 2,
              "version_minor": 0
            },
            "text/plain": [
              "  0%|          | 0.00/97.8M [00:00<?, ?B/s]"
            ]
          },
          "metadata": {},
          "output_type": "display_data"
        },
        {
          "metadata": {
            "tags": null
          },
          "name": "stdout",
          "output_type": "stream",
          "text": [
            "\n",
            "\n",
            "KERBALTYPE: ResNet50\n",
            "INIT LEARNING RATE=0.001; EPOCH=50; CHGFR=5; GAMMA=0.8\n",
            "TRAINING...\n",
            " Epoch 1, general loss: 1.8858980697939607 lr = 0.001\n",
            " Epoch 10, general loss: 0.095104393545553 lr = 0.00064\n",
            " Epoch 20, general loss: 0.02822645960386799 lr = 0.0004096\n",
            " Epoch 30, general loss: 0.011727025914992688 lr = 0.00026214\n",
            " Epoch 40, general loss: 0.005178017308247061 lr = 0.00016777\n",
            " Epoch 50, general loss: 0.0018385330654400519 lr = 0.00010737\n",
            "TESTING...\n",
            " Test: Average loss:0.014098177027702332, Accuracy: 1966/2500 (0.7864)\n",
            "ResNet50_L_03-26-2023_02:31:06\n"
          ]
        },
        {
          "data": {
            "image/png": "[encoded data removed]",
            "text/plain": [
              "<Figure size 432x288 with 1 Axes>"
            ]
          },
          "metadata": {},
          "output_type": "display_data"
        }
      ]
    },
    {
      "cell_type": "code",
      "source": [
        "Processing(\"DenseNet121\", lrChangeFq=5, outputFrequence=10)"
      ],
      "metadata": {
        "id": "n7XFZQnn3a2W",
        "outputId": "28593a3b-42b6-4c6b-a801-61ba681808fb",
        "colab": {
          "base_uri": "https://localhost:8080/",
          "height": 584,
          "referenced_widgets": [
            "d8cbb244f94f4b2798aec66b0018721b",
            "658d2486d6754c45b2cb869b08e1b372",
            "c2c17a311c7346b28aee4a35d8cef9a9",
            "ee00d52625534ee28d6db404119ddb17",
            "5f02b21f00594ce998538e4343e00f91",
            "0f67f5a55a014060906b73b30cd140af",
            "0dbb20b60fd94b26984c834234de21e2",
            "e5c8f86f7356477992cbcf292ad04a3c",
            "837625fa8731434cb4c12696e9361331",
            "44318130489241c0b88a8f8955a30dac",
            "c8bdb623d4544871982d00e9faf6f799"
          ]
        }
      },
      "execution_count": null,
      "outputs": [
        {
          "metadata": {
            "tags": null
          },
          "name": "stderr",
          "output_type": "stream",
          "text": [
            "Downloading: \"https://download.pytorch.org/models/densenet121-a639ec97.pth\" to /root/.cache/torch/hub/checkpoints/densenet121-a639ec97.pth\n"
          ]
        },
        {
          "data": {
            "application/vnd.jupyter.widget-view+json": {
              "model_id": "d8cbb244f94f4b2798aec66b0018721b",
              "version_major": 2,
              "version_minor": 0
            },
            "text/plain": [
              "  0%|          | 0.00/30.8M [00:00<?, ?B/s]"
            ]
          },
          "metadata": {},
          "output_type": "display_data"
        },
        {
          "output_type": "stream",
          "name": "stdout",
          "text": [
            "\n",
            "\n",
            "KERBALTYPE: DenseNet121\n",
            "INIT LEARNING RATE=0.001; EPOCH=50; CHGFR=5; GAMMA=0.8\n",
            "TRAINING...\n",
            " Epoch 1, general loss: 1.885629969051637 lr = 0.001\n",
            " Epoch 10, general loss: 0.22416236203356812 lr = 0.00064\n",
            " Epoch 20, general loss: 0.05850234979056789 lr = 0.0004096\n",
            " Epoch 30, general loss: 0.02068930279721057 lr = 0.00026214\n",
            " Epoch 40, general loss: 0.011133094273348715 lr = 0.00016777\n",
            " Epoch 50, general loss: 0.0017617968720787572 lr = 0.00010737\n",
            "TESTING...\n",
            " Test: Average loss:0.013185688948631287, Accuracy: 2047/2500 (0.8188)\n",
            "DenseNet121_L_03-26-2023_04:17:37\n"
          ]
        },
        {
          "output_type": "display_data",
          "data": {
            "text/plain": [
              "<Figure size 432x288 with 1 Axes>"
            ],
            "image/png": "[encoded data removed]"
          },
          "metadata": {
            "needs_background": "light"
          }
        }
      ]
    },
    {
      "cell_type": "code",
      "source": [
        "Processing(\"DenseNet161\", lrChangeFq=5, outputFrequence=10)"
      ],
      "metadata": {
        "id": "TtbRbBI8CL0i",
        "colab": {
          "base_uri": "https://localhost:8080/",
          "height": 584,
          "referenced_widgets": [
            "bddb1e6c72bb4898b74e4884d93dd894",
            "ce0c27b608664c9898c9b3e4660b438a",
            "bbbfbcb113254cf58428ff1019e4ac0a",
            "c7ecf7244de64156a44193f5aa5d5564",
            "bd39a7f906c540799193980f58edf32c",
            "3e2ed95be48f461ba159e8f8447f3587",
            "b695320d63914138b39f939fcd48a01e",
            "13fe467e96714a2294b4bd9a4ec6ea4b",
            "b91826017e274fe0bc5316649d8b2970",
            "33ed422635a647d3b7071dec5eb627e0",
            "0d99d6f429dd4ef6b974928d07795d0c"
          ]
        },
        "outputId": "6c6c0fb4-abda-4c2c-a935-d659f989b0ac"
      },
      "execution_count": null,
      "outputs": [
        {
          "output_type": "stream",
          "name": "stderr",
          "text": [
            "Downloading: \"https://download.pytorch.org/models/densenet161-8d451a50.pth\" to /root/.cache/torch/hub/checkpoints/densenet161-8d451a50.pth\n"
          ]
        },
        {
          "output_type": "display_data",
          "data": {
            "text/plain": [
              "  0%|          | 0.00/110M [00:00<?, ?B/s]"
            ],
            "application/vnd.jupyter.widget-view+json": {
              "version_major": 2,
              "version_minor": 0,
              "model_id": "bddb1e6c72bb4898b74e4884d93dd894"
            }
          },
          "metadata": {}
        },
        {
          "output_type": "stream",
          "name": "stdout",
          "text": [
            "\n",
            "\n",
            "KERBALTYPE: DenseNet161\n",
            "INIT LEARNING RATE=0.001; EPOCH=50; CHGFR=5; GAMMA=0.8\n",
            "TRAINING...\n",
            " Epoch 1, general loss: 2.6571432660775347 lr = 0.001\n",
            " Epoch 10, general loss: 0.2188209413190881 lr = 0.00064\n",
            " Epoch 20, general loss: 0.045509009540871385 lr = 0.0004096\n",
            " Epoch 30, general loss: 0.025974005403575025 lr = 0.00026214\n",
            " Epoch 40, general loss: 0.006897210505257134 lr = 0.00016777\n",
            " Epoch 50, general loss: 0.002184904843582524 lr = 0.00010737\n",
            "TESTING...\n",
            " Test: Average loss:0.015837464475631714, Accuracy: 1993/2500 (0.7972)\n",
            "DenseNet161_L_03-26-2023_07:47:52\n"
          ]
        },
        {
          "output_type": "display_data",
          "data": {
            "text/plain": [
              "<Figure size 432x288 with 1 Axes>"
            ],
            "image/png": "[encoded data removed]"
          },
          "metadata": {
            "needs_background": "light"
          }
        }
      ]
    },
    {
      "cell_type": "code",
      "source": [
        "Processing(\"ResNeXt50\", lrChangeFq=5, outputFrequence=10)"
      ],
      "metadata": {
        "id": "tiDIGol2CO25",
        "colab": {
          "base_uri": "https://localhost:8080/",
          "height": 602,
          "referenced_widgets": [
            "8b3834a877404cd3b51f4c73ec1677ec",
            "a6d874a561c34edcb9ad380b0e9f1d7c",
            "fa6b3b480cc943509f4a8491d3e994d8",
            "aec6e0313e024158b9ab8291443c1d50",
            "0e8002c482344e47a23e7f6e3d751895",
            "a93cf302906a4665adf98edbef835d09",
            "314d25e737154a92920ab45e51809efa",
            "185ffa13ad0b4e15b04cf455bd2b363c",
            "040f548ea9284a07ac7ba34d43b5d1a2",
            "316267feeb1f4613818a07bfb684de90",
            "18a583228b654ddd9a9b8479d7055fab"
          ]
        },
        "outputId": "7bc63b25-4bdd-4783-e94d-f341c98b4f0d"
      },
      "execution_count": null,
      "outputs": [
        {
          "output_type": "stream",
          "name": "stderr",
          "text": [
            "Downloading: \"https://download.pytorch.org/models/resnext50_32x4d-1a0047aa.pth\" to /root/.cache/torch/hub/checkpoints/resnext50_32x4d-1a0047aa.pth\n"
          ]
        },
        {
          "output_type": "display_data",
          "data": {
            "text/plain": [
              "  0%|          | 0.00/95.8M [00:00<?, ?B/s]"
            ],
            "application/vnd.jupyter.widget-view+json": {
              "version_major": 2,
              "version_minor": 0,
              "model_id": "8b3834a877404cd3b51f4c73ec1677ec"
            }
          },
          "metadata": {}
        },
        {
          "output_type": "stream",
          "name": "stdout",
          "text": [
            "\n",
            "\n",
            "KERBALTYPE: ResNeXt50\n",
            "INIT LEARNING RATE=0.001; EPOCH=50; CHGFR=5; GAMMA=0.8\n",
            "TRAINING...\n",
            " Epoch 1, general loss: 1.5033824797645503 lr = 0.001\n",
            " Epoch 10, general loss: 0.08337954221760849 lr = 0.00064\n",
            " Epoch 20, general loss: 0.017619037619425276 lr = 0.0004096\n",
            " Epoch 30, general loss: 0.0085428326278544 lr = 0.00026214\n",
            " Epoch 40, general loss: 0.005452183014508722 lr = 0.00016777\n",
            " Epoch 50, general loss: 6.399475612587735e-05 lr = 0.00010737\n",
            " Terminated with unchanged loss. Epoch 50, general loss: 6.399475612587735e-05 lr = 0.00010737\n",
            "TESTING...\n",
            " Test: Average loss:0.010482123041152954, Accuracy: 2086/2500 (0.8344)\n",
            "ResNeXt50_L_03-26-2023_09:22:12\n"
          ]
        },
        {
          "output_type": "display_data",
          "data": {
            "text/plain": [
              "<Figure size 432x288 with 1 Axes>"
            ],
            "image/png": "[encoded data removed]"
          },
          "metadata": {
            "needs_background": "light"
          }
        }
      ]
    },
    {
      "cell_type": "code",
      "source": [
        "Processing(\"ResNeXt101_32\", lrChangeFq=5, outputFrequence=10)"
      ],
      "metadata": {
        "id": "vyqzzUYHCSWg",
        "colab": {
          "base_uri": "https://localhost:8080/",
          "height": 570,
          "referenced_widgets": [
            "2590f366068345f997c920bc653779da",
            "f6600b5ce7d34549b68af7f6e5ef7b00",
            "4c0f00e1a6a1498ab4e77be5316bcf32",
            "db346364f72244e4a472679f76b36271",
            "8f4d85eb8a834eaab52a271f983c0b19",
            "97fdf5f9d92c431faaa223e1580cd7c6",
            "0e13ede0d04c4031acb633cd1d7b858d",
            "648807cffc9c4f86ba6483e80d72d949",
            "9d8c7b93729148c1af2721be369795af",
            "a32a0ab863bd46f4b2187195e6077d83",
            "7bd0b8f94e3740c48a3e229bdb19ad00"
          ]
        },
        "outputId": "c7a122ad-7c1c-49a1-9a28-c15ea5ef87aa"
      },
      "execution_count": null,
      "outputs": [
        {
          "metadata": {
            "tags": null
          },
          "name": "stderr",
          "output_type": "stream",
          "text": [
            "Downloading: \"https://download.pytorch.org/models/resnext101_32x8d-8ba56ff5.pth\" to /root/.cache/torch/hub/checkpoints/resnext101_32x8d-8ba56ff5.pth\n"
          ]
        },
        {
          "data": {
            "application/vnd.jupyter.widget-view+json": {
              "model_id": "2590f366068345f997c920bc653779da",
              "version_major": 2,
              "version_minor": 0
            },
            "text/plain": [
              "  0%|          | 0.00/340M [00:00<?, ?B/s]"
            ]
          },
          "metadata": {},
          "output_type": "display_data"
        },
        {
          "output_type": "stream",
          "name": "stdout",
          "text": [
            "\n",
            "\n",
            "KERBALTYPE: ResNeXt101_32\n",
            "INIT LEARNING RATE=0.001; EPOCH=50; CHGFR=5; GAMMA=0.8\n",
            "TRAINING...\n",
            " Epoch 1, general loss: 2.760568313627127 lr = 0.001\n",
            " Epoch 10, general loss: 0.16653226931909654 lr = 0.00064\n",
            " Epoch 20, general loss: 0.0390188706862746 lr = 0.0004096\n",
            " Epoch 30, general loss: 0.013807048633614868 lr = 0.00026214\n",
            " Epoch 40, general loss: 0.003019755100300912 lr = 0.00016777\n",
            " Epoch 50, general loss: 0.006066614208245221 lr = 0.00010737\n",
            "TESTING...\n",
            " Test: Average loss:0.015542185544967651, Accuracy: 1927/2500 (0.7708)\n",
            "ResNeXt101_32_L_03-26-2023_12:53:35\n"
          ]
        },
        {
          "output_type": "display_data",
          "data": {
            "text/plain": [
              "<Figure size 432x288 with 1 Axes>"
            ],
            "image/png": "[encoded data removed]"
          },
          "metadata": {
            "needs_background": "light"
          }
        }
      ]
    },
    {
      "cell_type": "code",
      "source": [
        "Processing(\"EfficientNetV2\", lrChangeFq=5, outputFrequence=10)"
      ],
      "metadata": {
        "id": "Fn5CTsADCU-_",
        "outputId": "a337329e-7703-4121-c1e6-f954fbed9214",
        "colab": {
          "base_uri": "https://localhost:8080/",
          "height": 570,
          "referenced_widgets": [
            "0275db8f2b6b445988be049f9ee0467e",
            "b6b4152ed5d54bc3a0e51d057f71a28c",
            "d052b91afabf4bb3bfd5fb1bbd21814e",
            "f26015fe641444d0aff66c8b94be83c4",
            "f446f9dc97f94999812a9397b88745c2",
            "abdb96a390604c07bc3344fa8ccbb7ca",
            "725bf950ec514f65878c4a95dbc87835",
            "f6d3779215fa49cdb0c5804fd7a5158e",
            "abb411cf0478436a9008e0cab3ce718a",
            "2499d55ee1814deda5bf371253804cba",
            "0e37d9f2026c4c978c9578bb8b84579a"
          ]
        }
      },
      "execution_count": null,
      "outputs": [
        {
          "output_type": "stream",
          "name": "stderr",
          "text": [
            "Downloading: \"https://download.pytorch.org/models/efficientnet_v2_s-dd5fe13b.pth\" to /root/.cache/torch/hub/checkpoints/efficientnet_v2_s-dd5fe13b.pth\n"
          ]
        },
        {
          "output_type": "display_data",
          "data": {
            "text/plain": [
              "  0%|          | 0.00/82.7M [00:00<?, ?B/s]"
            ],
            "application/vnd.jupyter.widget-view+json": {
              "version_major": 2,
              "version_minor": 0,
              "model_id": "0275db8f2b6b445988be049f9ee0467e"
            }
          },
          "metadata": {}
        },
        {
          "output_type": "stream",
          "name": "stdout",
          "text": [
            "\n",
            "\n",
            "KERBALTYPE: EfficientNetV2\n",
            "INIT LEARNING RATE=0.001; EPOCH=50; CHGFR=5; GAMMA=0.8\n",
            "TRAINING...\n",
            " Epoch 1, general loss: 1.5995445030618933 lr = 0.001\n",
            " Epoch 10, general loss: 0.14008342318118086 lr = 0.00064\n",
            " Epoch 20, general loss: 0.049864723144907946 lr = 0.0004096\n",
            " Epoch 30, general loss: 0.021383349479621217 lr = 0.00026214\n",
            " Epoch 40, general loss: 0.008707441862212133 lr = 0.00016777\n",
            " Epoch 50, general loss: 0.003737840051680467 lr = 0.00010737\n",
            "TESTING...\n",
            " Test: Average loss:0.009177489423751831, Accuracy: 2128/2500 (0.8512)\n",
            "EfficientNetV2_L_03-26-2023_14:49:46\n"
          ]
        },
        {
          "output_type": "display_data",
          "data": {
            "text/plain": [
              "<Figure size 432x288 with 1 Axes>"
            ],
            "image/png": "[encoded data removed]"
          },
          "metadata": {
            "needs_background": "light"
          }
        }
      ]
    },
    {
      "cell_type": "code",
      "source": [
        "Processing(\"ConvNeXt_base\", outputFrequence=1)"
      ],
      "metadata": {
        "id": "pH699gIdCYvx",
        "colab": {
          "base_uri": "https://localhost:8080/"
        },
        "outputId": "70dcb7d8-9e56-4d75-d543-98def3141955"
      },
      "execution_count": null,
      "outputs": [
        {
          "output_type": "stream",
          "name": "stdout",
          "text": [
            "\n",
            "\n",
            "KERBALTYPE: ConvNeXt_base\n",
            "INIT LEARNING RATE=0.001; EPOCH=50; CHGFR=-1; GAMMA=0.8\n",
            "TRAINING...\n",
            " Epoch 1, general loss: 3.8600555202400577\n",
            " Epoch 2, general loss: 3.483746445986379\n",
            " Epoch 3, general loss: 3.127415487965737\n",
            " Epoch 4, general loss: 2.835519679988997\n",
            " Epoch 5, general loss: 2.561437944492021\n",
            " Epoch 6, general loss: 2.300681722591598\n",
            " Epoch 7, general loss: 2.0872093709816504\n",
            " Epoch 8, general loss: 1.8881111218634812\n",
            " Epoch 9, general loss: 1.7170867542346644\n",
            " Epoch 10, general loss: 1.5477168182452843\n",
            " Epoch 11, general loss: 1.386884357231071\n",
            " Epoch 12, general loss: 1.2286781908506406\n",
            " Epoch 13, general loss: 1.0716165067902588\n",
            " Epoch 14, general loss: 0.9192721696488891\n",
            " Epoch 15, general loss: 0.7675672483990393\n",
            " Epoch 16, general loss: 0.634984286123537\n",
            " Epoch 17, general loss: 0.5121824077638495\n",
            " Epoch 18, general loss: 0.426261580649363\n",
            " Epoch 19, general loss: 0.35416386380376114\n",
            " Epoch 20, general loss: 0.3027987035355007\n",
            " Epoch 21, general loss: 0.25887744480454583\n",
            " Epoch 22, general loss: 0.23188097700031401\n",
            " Epoch 23, general loss: 0.21535767798879724\n",
            " Epoch 24, general loss: 0.19960526095710665\n",
            " Epoch 25, general loss: 0.18051196576886425\n"
          ]
        }
      ]
    },
    {
      "cell_type": "code",
      "source": [
        "Processing(\"ConvNeXt_large\", outputFrequence=1)"
      ],
      "metadata": {
        "id": "ErGd6BSWCVCj"
      },
      "execution_count": null,
      "outputs": []
    },
    {
      "cell_type": "code",
      "source": [
        "from torchsummary import summary\n",
        "model = Network(INITER, NUMCLASS, \"Vit\").to(DEVICE)\n",
        "summary(model, (3, 224, 224))"
      ],
      "metadata": {
        "id": "qfDsT-QraCm_"
      },
      "execution_count": null,
      "outputs": []
    }
  ]
}