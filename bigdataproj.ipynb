{
  "nbformat": 4,
  "nbformat_minor": 0,
  "metadata": {
    "colab": {
      "provenance": [],
      "machine_shape": "hm",
      "mount_file_id": "https://gist.github.com/HanhengHe/708386a23e38c0eff0600b900c2258e7#file-bigdataproj-ipynb",
      "authorship_tag": "ABX9TyO9Jb7deMWCayOaYu0KgsXN",
      "include_colab_link": true
    },
    "kernelspec": {
      "name": "python3",
      "display_name": "Python 3"
    },
    "language_info": {
      "name": "python"
    },
    "accelerator": "GPU",
    "gpuClass": "premium",
    "widgets": {
      "application/vnd.jupyter.widget-state+json": {
        "be3625bf945a4d2996dcc1edf383b452": {
          "model_module": "@jupyter-widgets/controls",
          "model_name": "HBoxModel",
          "model_module_version": "1.5.0",
          "state": {
            "_dom_classes": [],
            "_model_module": "@jupyter-widgets/controls",
            "_model_module_version": "1.5.0",
            "_model_name": "HBoxModel",
            "_view_count": null,
            "_view_module": "@jupyter-widgets/controls",
            "_view_module_version": "1.5.0",
            "_view_name": "HBoxView",
            "box_style": "",
            "children": [
              "IPY_MODEL_73704445b8684d34b5296cb29a441fca",
              "IPY_MODEL_6273cab0b9554b00beaceedc0d7cee4f",
              "IPY_MODEL_9f447b2b13134c5589e772afd56c6f83"
            ],
            "layout": "IPY_MODEL_53793d2270474da08d66679d69f143a0"
          }
        },
        "73704445b8684d34b5296cb29a441fca": {
          "model_module": "@jupyter-widgets/controls",
          "model_name": "HTMLModel",
          "model_module_version": "1.5.0",
          "state": {
            "_dom_classes": [],
            "_model_module": "@jupyter-widgets/controls",
            "_model_module_version": "1.5.0",
            "_model_name": "HTMLModel",
            "_view_count": null,
            "_view_module": "@jupyter-widgets/controls",
            "_view_module_version": "1.5.0",
            "_view_name": "HTMLView",
            "description": "",
            "description_tooltip": null,
            "layout": "IPY_MODEL_91c15ce2d47a4f8b903f8f065a17804d",
            "placeholder": "​",
            "style": "IPY_MODEL_7da6646a8ab84e278f76b0c79722fa74",
            "value": "100%"
          }
        },
        "6273cab0b9554b00beaceedc0d7cee4f": {
          "model_module": "@jupyter-widgets/controls",
          "model_name": "FloatProgressModel",
          "model_module_version": "1.5.0",
          "state": {
            "_dom_classes": [],
            "_model_module": "@jupyter-widgets/controls",
            "_model_module_version": "1.5.0",
            "_model_name": "FloatProgressModel",
            "_view_count": null,
            "_view_module": "@jupyter-widgets/controls",
            "_view_module_version": "1.5.0",
            "_view_name": "ProgressView",
            "bar_style": "success",
            "description": "",
            "description_tooltip": null,
            "layout": "IPY_MODEL_f5990ff224e74f38a611a41a9d86b1fe",
            "max": 32342954,
            "min": 0,
            "orientation": "horizontal",
            "style": "IPY_MODEL_0eb2a9e1a6e84be8b4e12c9c94a7b453",
            "value": 32342954
          }
        },
        "9f447b2b13134c5589e772afd56c6f83": {
          "model_module": "@jupyter-widgets/controls",
          "model_name": "HTMLModel",
          "model_module_version": "1.5.0",
          "state": {
            "_dom_classes": [],
            "_model_module": "@jupyter-widgets/controls",
            "_model_module_version": "1.5.0",
            "_model_name": "HTMLModel",
            "_view_count": null,
            "_view_module": "@jupyter-widgets/controls",
            "_view_module_version": "1.5.0",
            "_view_name": "HTMLView",
            "description": "",
            "description_tooltip": null,
            "layout": "IPY_MODEL_104f49153e8244f8839cdcc32b1f3c71",
            "placeholder": "​",
            "style": "IPY_MODEL_26d0c2b093fb40c88f028369968a7acd",
            "value": " 30.8M/30.8M [00:01&lt;00:00, 39.4MB/s]"
          }
        },
        "53793d2270474da08d66679d69f143a0": {
          "model_module": "@jupyter-widgets/base",
          "model_name": "LayoutModel",
          "model_module_version": "1.2.0",
          "state": {
            "_model_module": "@jupyter-widgets/base",
            "_model_module_version": "1.2.0",
            "_model_name": "LayoutModel",
            "_view_count": null,
            "_view_module": "@jupyter-widgets/base",
            "_view_module_version": "1.2.0",
            "_view_name": "LayoutView",
            "align_content": null,
            "align_items": null,
            "align_self": null,
            "border": null,
            "bottom": null,
            "display": null,
            "flex": null,
            "flex_flow": null,
            "grid_area": null,
            "grid_auto_columns": null,
            "grid_auto_flow": null,
            "grid_auto_rows": null,
            "grid_column": null,
            "grid_gap": null,
            "grid_row": null,
            "grid_template_areas": null,
            "grid_template_columns": null,
            "grid_template_rows": null,
            "height": null,
            "justify_content": null,
            "justify_items": null,
            "left": null,
            "margin": null,
            "max_height": null,
            "max_width": null,
            "min_height": null,
            "min_width": null,
            "object_fit": null,
            "object_position": null,
            "order": null,
            "overflow": null,
            "overflow_x": null,
            "overflow_y": null,
            "padding": null,
            "right": null,
            "top": null,
            "visibility": null,
            "width": null
          }
        },
        "91c15ce2d47a4f8b903f8f065a17804d": {
          "model_module": "@jupyter-widgets/base",
          "model_name": "LayoutModel",
          "model_module_version": "1.2.0",
          "state": {
            "_model_module": "@jupyter-widgets/base",
            "_model_module_version": "1.2.0",
            "_model_name": "LayoutModel",
            "_view_count": null,
            "_view_module": "@jupyter-widgets/base",
            "_view_module_version": "1.2.0",
            "_view_name": "LayoutView",
            "align_content": null,
            "align_items": null,
            "align_self": null,
            "border": null,
            "bottom": null,
            "display": null,
            "flex": null,
            "flex_flow": null,
            "grid_area": null,
            "grid_auto_columns": null,
            "grid_auto_flow": null,
            "grid_auto_rows": null,
            "grid_column": null,
            "grid_gap": null,
            "grid_row": null,
            "grid_template_areas": null,
            "grid_template_columns": null,
            "grid_template_rows": null,
            "height": null,
            "justify_content": null,
            "justify_items": null,
            "left": null,
            "margin": null,
            "max_height": null,
            "max_width": null,
            "min_height": null,
            "min_width": null,
            "object_fit": null,
            "object_position": null,
            "order": null,
            "overflow": null,
            "overflow_x": null,
            "overflow_y": null,
            "padding": null,
            "right": null,
            "top": null,
            "visibility": null,
            "width": null
          }
        },
        "7da6646a8ab84e278f76b0c79722fa74": {
          "model_module": "@jupyter-widgets/controls",
          "model_name": "DescriptionStyleModel",
          "model_module_version": "1.5.0",
          "state": {
            "_model_module": "@jupyter-widgets/controls",
            "_model_module_version": "1.5.0",
            "_model_name": "DescriptionStyleModel",
            "_view_count": null,
            "_view_module": "@jupyter-widgets/base",
            "_view_module_version": "1.2.0",
            "_view_name": "StyleView",
            "description_width": ""
          }
        },
        "f5990ff224e74f38a611a41a9d86b1fe": {
          "model_module": "@jupyter-widgets/base",
          "model_name": "LayoutModel",
          "model_module_version": "1.2.0",
          "state": {
            "_model_module": "@jupyter-widgets/base",
            "_model_module_version": "1.2.0",
            "_model_name": "LayoutModel",
            "_view_count": null,
            "_view_module": "@jupyter-widgets/base",
            "_view_module_version": "1.2.0",
            "_view_name": "LayoutView",
            "align_content": null,
            "align_items": null,
            "align_self": null,
            "border": null,
            "bottom": null,
            "display": null,
            "flex": null,
            "flex_flow": null,
            "grid_area": null,
            "grid_auto_columns": null,
            "grid_auto_flow": null,
            "grid_auto_rows": null,
            "grid_column": null,
            "grid_gap": null,
            "grid_row": null,
            "grid_template_areas": null,
            "grid_template_columns": null,
            "grid_template_rows": null,
            "height": null,
            "justify_content": null,
            "justify_items": null,
            "left": null,
            "margin": null,
            "max_height": null,
            "max_width": null,
            "min_height": null,
            "min_width": null,
            "object_fit": null,
            "object_position": null,
            "order": null,
            "overflow": null,
            "overflow_x": null,
            "overflow_y": null,
            "padding": null,
            "right": null,
            "top": null,
            "visibility": null,
            "width": null
          }
        },
        "0eb2a9e1a6e84be8b4e12c9c94a7b453": {
          "model_module": "@jupyter-widgets/controls",
          "model_name": "ProgressStyleModel",
          "model_module_version": "1.5.0",
          "state": {
            "_model_module": "@jupyter-widgets/controls",
            "_model_module_version": "1.5.0",
            "_model_name": "ProgressStyleModel",
            "_view_count": null,
            "_view_module": "@jupyter-widgets/base",
            "_view_module_version": "1.2.0",
            "_view_name": "StyleView",
            "bar_color": null,
            "description_width": ""
          }
        },
        "104f49153e8244f8839cdcc32b1f3c71": {
          "model_module": "@jupyter-widgets/base",
          "model_name": "LayoutModel",
          "model_module_version": "1.2.0",
          "state": {
            "_model_module": "@jupyter-widgets/base",
            "_model_module_version": "1.2.0",
            "_model_name": "LayoutModel",
            "_view_count": null,
            "_view_module": "@jupyter-widgets/base",
            "_view_module_version": "1.2.0",
            "_view_name": "LayoutView",
            "align_content": null,
            "align_items": null,
            "align_self": null,
            "border": null,
            "bottom": null,
            "display": null,
            "flex": null,
            "flex_flow": null,
            "grid_area": null,
            "grid_auto_columns": null,
            "grid_auto_flow": null,
            "grid_auto_rows": null,
            "grid_column": null,
            "grid_gap": null,
            "grid_row": null,
            "grid_template_areas": null,
            "grid_template_columns": null,
            "grid_template_rows": null,
            "height": null,
            "justify_content": null,
            "justify_items": null,
            "left": null,
            "margin": null,
            "max_height": null,
            "max_width": null,
            "min_height": null,
            "min_width": null,
            "object_fit": null,
            "object_position": null,
            "order": null,
            "overflow": null,
            "overflow_x": null,
            "overflow_y": null,
            "padding": null,
            "right": null,
            "top": null,
            "visibility": null,
            "width": null
          }
        },
        "26d0c2b093fb40c88f028369968a7acd": {
          "model_module": "@jupyter-widgets/controls",
          "model_name": "DescriptionStyleModel",
          "model_module_version": "1.5.0",
          "state": {
            "_model_module": "@jupyter-widgets/controls",
            "_model_module_version": "1.5.0",
            "_model_name": "DescriptionStyleModel",
            "_view_count": null,
            "_view_module": "@jupyter-widgets/base",
            "_view_module_version": "1.2.0",
            "_view_name": "StyleView",
            "description_width": ""
          }
        }
      }
    }
  },
  "cells": [
    {
      "cell_type": "markdown",
      "metadata": {
        "id": "view-in-github",
        "colab_type": "text"
      },
      "source": [
        "<a href=\"https://colab.research.google.com/github/HanhengHe/BigDataCourseProj/blob/main/bigdataproj.ipynb\" target=\"_parent\"><img src=\"https://colab.research.google.com/assets/colab-badge.svg\" alt=\"Open In Colab\"/></a>"
      ]
    },
    {
      "cell_type": "code",
      "source": [
        "RUNLARGE = False\n",
        "NUMCLASS= 50 if RUNLARGE else 10"
      ],
      "metadata": {
        "id": "6JucKGj_8jJ7"
      },
      "execution_count": 1,
      "outputs": []
    },
    {
      "cell_type": "code",
      "execution_count": 2,
      "metadata": {
        "colab": {
          "base_uri": "https://localhost:8080/"
        },
        "id": "ZgMFKRmRkdmq",
        "outputId": "1c8420e6-6e32-412e-9ef0-bcd2c0ce176b"
      },
      "outputs": [
        {
          "output_type": "stream",
          "name": "stdout",
          "text": [
            "Drive already mounted at /content/drive/; to attempt to forcibly remount, call drive.mount(\"/content/drive/\", force_remount=True).\n"
          ]
        }
      ],
      "source": [
        "# GET FILE\n",
        "\n",
        "from google.colab import drive\n",
        "import zipfile\n",
        "\n",
        "drive.mount('/content/drive/', force_remount=False)\n",
        "\n",
        "filePath = \"/content/drive/MyDrive/Dataset_large\" if RUNLARGE else \"/content/drive/MyDrive/Dataset_small/data1.zip\"\n",
        "\n",
        "with zipfile.ZipFile(filePath,\"r\") as zip_ref:\n",
        "    zip_ref.extractall(\"targetdir\")"
      ]
    },
    {
      "cell_type": "code",
      "source": [
        "import numpy as np\n",
        "import torch\n",
        "import torch.nn as nn\n",
        "import torch.utils.data as Data\n",
        "import torch.optim as optim\n",
        "import torch.nn.functional as F\n",
        "from torchvision import models"
      ],
      "metadata": {
        "id": "h4fFobtta7EG"
      },
      "execution_count": 3,
      "outputs": []
    },
    {
      "cell_type": "code",
      "source": [
        "# LOADING TRAINING DATA\n",
        "\n",
        "lsTrainLabel = []\n",
        "lsTrainData = []\n",
        "\n",
        "trainingPath = \"/content/targetdir/dataset2\" if RUNLARGE else \"/content/targetdir/data1\"\n",
        "\n",
        "with open(trainingPath + \"/train_label.txt\") as f:\n",
        "  for line in f.readlines():\n",
        "    expression = line.split(' ')\n",
        "    lsTrainLabel.append(int(expression[1]))\n",
        "    dataRGB = np.load(trainingPath + \"/train/\" + expression[0]).transpose((2,0,1))\n",
        "    lsTrainData.append(dataRGB)\n",
        "    # turn training data into grayscale data\n",
        "    # lsData.append((dataRGB[:, :, 0] + dataRGB[:, :, 1] + dataRGB[:, :, 2]) / 3)\n",
        "\n",
        "INITER = torch.zeros(2, lsTrainData[0].shape[0], lsTrainData[0].shape[1], lsTrainData[0].shape[2])\n",
        "\n",
        "print(\"Number of traning data: {0}\".format(len(lsTrainLabel)), end='\\n')\n",
        "print(\"Shape of traning data: {0}\".format(lsTrainData[0].shape), end='\\n')"
      ],
      "metadata": {
        "colab": {
          "base_uri": "https://localhost:8080/"
        },
        "id": "cBqaS5J8FOYC",
        "outputId": "02bb658d-fdc5-4751-8ef9-5de33e0810ba"
      },
      "execution_count": 4,
      "outputs": [
        {
          "output_type": "stream",
          "name": "stdout",
          "text": [
            "Number of traning data: 50000\n",
            "Shape of traning data: (3, 32, 32)\n"
          ]
        }
      ]
    },
    {
      "cell_type": "code",
      "source": [
        "# LOAD TEST DATA\n",
        "\n",
        "lsTestLabel = []\n",
        "lsTestData = []\n",
        "\n",
        "testingPath = \"/content/targetdir/dataset2\" if RUNLARGE else \"/content/targetdir/data1\"\n",
        "\n",
        "\n",
        "with open(testingPath + \"/test_label.txt\") as f:\n",
        "  for line in f.readlines():\n",
        "    expression = line.split(' ')\n",
        "    lsTestLabel.append(int(expression[1]))\n",
        "    dataRGB = np.load(testingPath + \"/test/\" + expression[0]).transpose((2,0,1))\n",
        "    lsTestData.append(dataRGB)\n",
        "    # turn training data into grayscale data\n",
        "    # lsData.append((dataRGB[:, :, 0] + dataRGB[:, :, 1] + dataRGB[:, :, 2]) / 3)\n",
        "\n",
        "print(\"Number of testing data: {0}\".format(len(lsTestLabel)), end='\\n')\n",
        "print(\"Shape of testing data: {0}\".format(lsTestData[0].shape), end='\\n')"
      ],
      "metadata": {
        "colab": {
          "base_uri": "https://localhost:8080/"
        },
        "id": "zxehioIAZtM0",
        "outputId": "1983fba9-e638-44d6-d930-da26b861f0c0"
      },
      "execution_count": 5,
      "outputs": [
        {
          "output_type": "stream",
          "name": "stdout",
          "text": [
            "Number of testing data: 10000\n",
            "Shape of testing data: (3, 32, 32)\n"
          ]
        }
      ]
    },
    {
      "cell_type": "code",
      "source": [
        "from torchvision.models.resnet import ResNet50_Weights\n",
        "\n",
        "class ResNet18(nn.Module):\n",
        "    def __init__(self):\n",
        "        super(ResNet18, self).__init__()\n",
        "        self.model = models.resnet18()\n",
        "\n",
        "    def forward(self, x):\n",
        "        x = self.model(x)\n",
        "        x = x.view(x.size(0), -1)\n",
        "        return x\n",
        "\n",
        "\n",
        "class ResNet34(nn.Module):\n",
        "    def __init__(self):\n",
        "        super(ResNet34, self).__init__()\n",
        "        self.model = models.resnet34()\n",
        "\n",
        "    def forward(self, x):\n",
        "        x = self.model(x)\n",
        "        x = x.view(x.size(0), -1)\n",
        "        return x\n",
        "\n",
        "\n",
        "class ResNet50(nn.Module):\n",
        "    def __init__(self):\n",
        "        super(ResNet50, self).__init__()\n",
        "        self.model = models.resnet50(weights=ResNet50_Weights.IMAGENET1K_V2)\n",
        "\n",
        "    def forward(self, x):\n",
        "        x = self.model(x)\n",
        "        x = x.view(x.size(0), -1)\n",
        "        return x\n",
        "\n",
        "\n",
        "class ResNet101(nn.Module):\n",
        "    def __init__(self):\n",
        "        super(ResNet101, self).__init__()\n",
        "        self.model = models.resnet101()\n",
        "\n",
        "    def forward(self, x):\n",
        "        x = self.model(x)\n",
        "        x = x.view(x.size(0), -1)\n",
        "        return x\n",
        "\n",
        "\n",
        "class ResNet152(nn.Module):\n",
        "    def __init__(self):\n",
        "        super(ResNet152, self).__init__()\n",
        "        self.model = models.resnet152()\n",
        "\n",
        "    def forward(self, x):\n",
        "        x = self.model(x)\n",
        "        x = x.view(x.size(0), -1)\n",
        "        return x"
      ],
      "metadata": {
        "id": "vvisny0Nh2Ig"
      },
      "execution_count": 6,
      "outputs": []
    },
    {
      "cell_type": "code",
      "source": [
        "from torchvision.models.resnet import ResNeXt50_32X4D_Weights\n",
        "\n",
        "class ResNeXt50(nn.Module):\n",
        "    def __init__(self):\n",
        "        super(ResNeXt50, self).__init__()\n",
        "        self.model = models.resnext50_32x4d(weights=ResNeXt50_32X4D_Weights.IMAGENET1K_V2)\n",
        "\n",
        "    def forward(self, x):\n",
        "        x = self.model(x)\n",
        "        x = x.view(x.size(0), -1)\n",
        "        return x\n",
        "\n",
        "class ResNeXt101_32(nn.Module):\n",
        "    def __init__(self):\n",
        "        super(ResNeXt101_32, self).__init__()\n",
        "        self.model = models.resnext101_32x8d()\n",
        "\n",
        "    def forward(self, x):\n",
        "        x = self.model(x)\n",
        "        x = x.view(x.size(0), -1)\n",
        "        return x\n",
        "\n",
        "class ResNeXt101_64(nn.Module):\n",
        "    def __init__(self):\n",
        "        super(ResNeXt101_64, self).__init__()\n",
        "        self.model = models.resnext101_64x4d()\n",
        "\n",
        "    def forward(self, x):\n",
        "        x = self.model(x)\n",
        "        x = x.view(x.size(0), -1)\n",
        "        return x"
      ],
      "metadata": {
        "id": "mf1inbCpwf0z"
      },
      "execution_count": 7,
      "outputs": []
    },
    {
      "cell_type": "code",
      "source": [
        "from torchvision.models.densenet import DenseNet121_Weights\n",
        "\n",
        "class DenseNet121(nn.Module):\n",
        "    def __init__(self):\n",
        "        super(DenseNet121, self).__init__()\n",
        "        self.model = models.densenet121(weights=DenseNet121_Weights.IMAGENET1K_V1)\n",
        "\n",
        "    def forward(self, x):\n",
        "         x = self.model(x)\n",
        "         x = x.view(x.size(0), -1)\n",
        "         return x\n",
        "\n",
        "class DenseNet161(nn.Module):\n",
        "    def __init__(self):\n",
        "        super(DenseNet161, self).__init__()\n",
        "        self.model = models.densenet161()\n",
        "\n",
        "    def forward(self, x):\n",
        "         x = self.model(x)\n",
        "         x = x.view(x.size(0), -1)\n",
        "         return x\n",
        "\n",
        "class DenseNet169(nn.Module):\n",
        "    def __init__(self):\n",
        "        super(DenseNet169, self).__init__()\n",
        "        self.model = models.densenet169()\n",
        "\n",
        "    def forward(self, x):\n",
        "         x = self.model(x)\n",
        "         x = x.view(x.size(0), -1)\n",
        "         return x\n",
        "\n",
        "class DenseNet201(nn.Module):\n",
        "    def __init__(self):\n",
        "        super(DenseNet201, self).__init__()\n",
        "        self.model = models.densenet201()\n",
        "\n",
        "    def forward(self, x):\n",
        "         x = self.model(x)\n",
        "         x = x.view(x.size(0), -1)\n",
        "         return x"
      ],
      "metadata": {
        "id": "TdV-jMy0f9Kb"
      },
      "execution_count": 8,
      "outputs": []
    },
    {
      "cell_type": "code",
      "source": [
        "from torchvision.models.efficientnet import EfficientNet_V2_S_Weights\n",
        "\n",
        "class EfficientNetV2(nn.Module):\n",
        "    def __init__(self):\n",
        "        super(EfficientNetV2, self).__init__()\n",
        "        self.model = models.efficientnet_v2_s(weights=EfficientNet_V2_S_Weights.IMAGENET1K_V1)\n",
        "\n",
        "    def forward(self, x):\n",
        "         x = self.model(x)\n",
        "         x = x.view(x.size(0), -1)\n",
        "         return x\n",
        "\n",
        "class ConvNeXt_base(nn.Module):\n",
        "    def __init__(self):\n",
        "        super(ConvNeXt_base, self).__init__()\n",
        "        self.model = models.convnext_base()\n",
        "\n",
        "    def forward(self, x):\n",
        "         x = self.model(x)\n",
        "         x = x.view(x.size(0), -1)\n",
        "         return x\n",
        "\n",
        "class ConvNeXt_large(nn.Module):\n",
        "    def __init__(self):\n",
        "        super(ConvNeXt_large, self).__init__()\n",
        "        self.model = models.convnext_large()\n",
        "\n",
        "    def forward(self, x):\n",
        "         x = self.model(x)\n",
        "         x = x.view(x.size(0), -1)\n",
        "         return x\n",
        "\n",
        "class MaxVit(nn.Module):\n",
        "    def __init__(self):\n",
        "        super(MaxVit, self).__init__()\n",
        "        self.model = models.maxvit()\n",
        "\n",
        "    def forward(self, x):\n",
        "         x = self.model(x)\n",
        "         x = x.view(x.size(0), -1)\n",
        "         return x"
      ],
      "metadata": {
        "id": "44O8lw0yf1rv"
      },
      "execution_count": 9,
      "outputs": []
    },
    {
      "cell_type": "code",
      "source": [
        "network_dict = {\"ResNet18\": ResNet18,\n",
        "                \"ResNet34\": ResNet34,\n",
        "                \"ResNet50\": ResNet50,\n",
        "                \"ResNet101\": ResNet101,\n",
        "                \"ResNet152\": ResNet152,\n",
        "\n",
        "                \"DenseNet121\": DenseNet121,\n",
        "                \"DenseNet161\": DenseNet161,\n",
        "                \"DenseNet169\": DenseNet169,\n",
        "                \"DenseNet201\": DenseNet201,\n",
        "\n",
        "                \"ResNeXt50\": ResNeXt50,\n",
        "                \"ResNeXt101_32\": ResNeXt101_32,\n",
        "                \"ResNeXt101_64\": ResNeXt101_64,\n",
        "\n",
        "                \"EfficientNetV2\": EfficientNetV2,\n",
        "\n",
        "                \"ConvNeXt_base\": ConvNeXt_base,\n",
        "                \"ConvNeXt_large\": ConvNeXt_large}"
      ],
      "metadata": {
        "id": "eq6T_Xwtf2jC"
      },
      "execution_count": 10,
      "outputs": []
    },
    {
      "cell_type": "code",
      "source": [
        "# NETWORK DEFINE MODULE\n",
        "\n",
        "torch.cuda._initialized = True\n",
        "\n",
        "class Network(nn.Module):\n",
        "    \n",
        "    def __init__(self, initer: torch.Tensor, num_classes: int, kernalType: str):\n",
        "        \n",
        "        super(Network, self).__init__()\n",
        "        self.backbone = network_dict[kernalType]()\n",
        "        self.fc = nn.Linear(self.backbone(initer).shape[1], num_classes)\n",
        "        \n",
        "    def forward(self, x):\n",
        "        \n",
        "        x = self.backbone(x)\n",
        "        x = self.fc(x)\n",
        "        # x = F.softmax(x, dim=1)  # note this when use ce\n",
        "        return x "
      ],
      "metadata": {
        "id": "F7nr88ZqgQAI"
      },
      "execution_count": 35,
      "outputs": []
    },
    {
      "cell_type": "code",
      "source": [
        "CPU = torch.device(\"cpu\")\n",
        "DEVICE = torch.device(\"cuda:0\") if torch.cuda.is_available() else CPU\n",
        "# DEVICE = CPU\n",
        "print(\"DEVICE = %s\" % (DEVICE))"
      ],
      "metadata": {
        "colab": {
          "base_uri": "https://localhost:8080/"
        },
        "id": "GgcL_FZ8jhi3",
        "outputId": "fa2ca332-2b62-41ac-e039-6454f905d5b7"
      },
      "execution_count": 12,
      "outputs": [
        {
          "output_type": "stream",
          "name": "stdout",
          "text": [
            "DEVICE = cuda:0\n"
          ]
        }
      ]
    },
    {
      "cell_type": "code",
      "source": [
        "# TRAINING MODULE \n",
        "\n",
        "import math\n",
        "from torch.optim.lr_scheduler import StepLR\n",
        "\n",
        "def Processing(KERNALTYPE, \n",
        "               Epochs = 50, \n",
        "               MINLOSS = 1e-5, \n",
        "               MINIBATCH_SIZE = 258, \n",
        "               LEARNING_RATE = 0.001, \n",
        "               lr_diff = 1e-5, \n",
        "               lrChangeFq = -1,\n",
        "               outputFrequence = 10\n",
        "               ):\n",
        "\n",
        "    bChangeLr = lrChangeFq != -1\n",
        "    torch.cuda.empty_cache()\n",
        "    model = Network(INITER, NUMCLASS, KERNALTYPE).to(DEVICE)\n",
        "\n",
        "    trainLabels = np.array(lsTrainLabel)\n",
        "    trainSet = np.array(lsTrainData)\n",
        "  \n",
        "    trainSet = torch.from_numpy(trainSet).float()\n",
        "\n",
        "    criterion = nn.CrossEntropyLoss() # ce\n",
        "    # criterion = nn.NLLLoss()  # nll\n",
        "    trainLabels = torch.from_numpy(trainLabels)    # nll\n",
        "    torch_dataset = Data.TensorDataset(trainSet, trainLabels.long())    # nll\n",
        "\n",
        "    # criterion = nn.MSELoss()  # mse\n",
        "    # trainLabels = torch.nn.functional.one_hot(torch.from_numpy(trainLabels), num_classes=NUMCLASS)  # mse\n",
        "    # torch_dataset = Data.TensorDataset(trainSet, trainLabels.float())  # mse\n",
        "\n",
        "\n",
        "    # put the dataset into DataLoader\n",
        "    loader = Data.DataLoader(\n",
        "        dataset=torch_dataset,\n",
        "        batch_size=MINIBATCH_SIZE,\n",
        "        shuffle=True,\n",
        "        num_workers=0\n",
        "    )\n",
        "\n",
        "    nSteps = math.ceil(trainLabels.shape[0] / MINIBATCH_SIZE)\n",
        "\n",
        "    # OPTIMIZER\n",
        "    # optimizer = optim.SGD(model.parameters(), lr=LEARNING_RATE, momentum=0.9)\n",
        "    optimizer = optim.Adam(model.parameters(), lr=LEARNING_RATE)\n",
        "    scheduler = StepLR(optimizer, step_size=lrChangeFq if bChangeLr else Epochs, gamma=0.8)\n",
        "\n",
        "    model.train()\n",
        "    print(\"\\n\\nKERBALTYPE: \" + KERNALTYPE, end='\\n')\n",
        "    print(\"TRAINING...\", end='\\n')\n",
        "    lastLoss = 0\n",
        "    for epoch in range(Epochs):\n",
        "\n",
        "        curLoss = 0\n",
        "\n",
        "        for step, (batch_x, batch_y) in enumerate(loader):\n",
        "            optimizer.zero_grad()        \n",
        "            output = model(batch_x.to(DEVICE))\n",
        "            loss = criterion(output, batch_y.to(DEVICE))  # ce\n",
        "            loss.backward()\n",
        "            optimizer.step()\n",
        "\n",
        "            curLoss += loss.item() / nSteps\n",
        "\n",
        "        if bChangeLr:\n",
        "            scheduler.step()\n",
        "            LEARNING_RATE = optimizer.param_groups[0]['lr']\n",
        "        \n",
        "        lrMsg = \" lr = {0:.5}\".format(LEARNING_RATE) if bChangeLr else \"\"\n",
        "\n",
        "        if (epoch + 1) % outputFrequence == 0:\n",
        "            print(\" Epoch {0}, general loss: {1}\".format(epoch+1, curLoss) + lrMsg)\n",
        "\n",
        "        if curLoss <= MINLOSS:\n",
        "            print(\" Terminated with low loss. Epoch {0}, general loss: {1}\".format(epoch+1, curLoss) + lrMsg)\n",
        "            break\n",
        "        \n",
        "        if abs(lastLoss - curLoss) <= lr_diff:\n",
        "            print(\" Terminated with unchanged loss. Epoch {0}, general loss: {1}\".format(epoch+1, curLoss) + lrMsg)\n",
        "            break\n",
        "\n",
        "        lastLoss = curLoss\n",
        "\n",
        "    # TEST MODULE\n",
        "\n",
        "    testLabels = np.array(lsTestLabel)\n",
        "    testSet = np.array(lsTestData)\n",
        "\n",
        "    testSet = torch.from_numpy(testSet).float()\n",
        "    testLabels = torch.from_numpy(testLabels).to(DEVICE)\n",
        "\n",
        "    model.eval()\n",
        "    print(\"TESTING...\", end='\\n')\n",
        "\n",
        "    test_loss = 0\n",
        "    correct = 0\n",
        "\n",
        "    # first transform the data to dataset can be processed by torch\n",
        "    # torch_dataset = Data.TensorDataset(testSet, testLabels.long())  # nll\n",
        "\n",
        "    testLabelsOneHot = torch.nn.functional.one_hot(testLabels, num_classes=NUMCLASS)  # mse\n",
        "    torch_dataset = Data.TensorDataset(testSet, testLabelsOneHot.float())  # mse\n",
        "\n",
        "    # put the dataset into DataLoader\n",
        "    loader = Data.DataLoader(\n",
        "        dataset=torch_dataset,\n",
        "        batch_size=MINIBATCH_SIZE,\n",
        "        shuffle=False,\n",
        "        num_workers=0\n",
        "    )\n",
        "\n",
        "    with torch.no_grad():\n",
        "        for step, (batch_x, batch_y) in enumerate(loader):\n",
        "            output = model(batch_x.to(DEVICE))\n",
        "            test_loss += criterion(output, batch_y.to(DEVICE)).item()  # mse\n",
        "            predict = output.max(1, keepdim=True)[1]  # find the prediction\n",
        "            labels = batch_y.max(1, keepdim=True)[1]\n",
        "            correct += predict.eq(labels.view_as(predict)).sum().item()\n",
        "\n",
        "    testSize = testLabels.shape[0]\n",
        "    test_loss /= testSize\n",
        "    print(\" Test: Average loss:%s, Accuracy: %s/%s (%s)\"\n",
        "        % (test_loss, correct, testSize, correct / testSize))"
      ],
      "metadata": {
        "id": "U6jEzqxzEy4K"
      },
      "execution_count": 41,
      "outputs": []
    },
    {
      "cell_type": "code",
      "source": [
        "# test\n",
        "\"\"\"for key in network_dict:\n",
        "    Processing(key)\"\"\""
      ],
      "metadata": {
        "colab": {
          "base_uri": "https://localhost:8080/",
          "height": 36
        },
        "id": "hKjuQO4N1gbg",
        "outputId": "3f1299c4-abe6-4267-b0fd-81cb292aa62b"
      },
      "execution_count": 14,
      "outputs": [
        {
          "output_type": "execute_result",
          "data": {
            "text/plain": [
              "'for key in network_dict:\\n    Processing(key)'"
            ],
            "application/vnd.google.colaboratory.intrinsic+json": {
              "type": "string"
            }
          },
          "metadata": {},
          "execution_count": 14
        }
      ]
    },
    {
      "cell_type": "code",
      "source": [
        "\"\"\"\n",
        "\"ResNet18\", \"ResNet34\", \"ResNet50\", \"ResNet101\", \"ResNet152\", \n",
        "\"DenseNet121\", \"DenseNet161\", \"DenseNet169\", \"DenseNet201\", \n",
        "\"ResNeXt50\", \"ResNeXt101_32\", \"ResNeXt101_64\", \"EfficientNetV2\", \n",
        "\"ConvNeXt_base\", \"ConvNeXt_large\"\n",
        "\"\"\""
      ],
      "metadata": {
        "colab": {
          "base_uri": "https://localhost:8080/",
          "height": 36
        },
        "id": "hxzeNtxQBTJz",
        "outputId": "8e8785b9-a89c-4c96-9906-ea37c35bfb2d"
      },
      "execution_count": 15,
      "outputs": [
        {
          "output_type": "execute_result",
          "data": {
            "text/plain": [
              "'\\n\"ResNet18\", \"ResNet34\", \"ResNet50\", \"ResNet101\", \"ResNet152\", \\n\"DenseNet121\", \"DenseNet161\", \"DenseNet169\", \"DenseNet201\", \\n\"ResNeXt50\", \"ResNeXt101_32\", \"ResNeXt101_64\", \"EfficientNetV2\", \\n\"ConvNeXt_base\", \"ConvNeXt_large\"\\n'"
            ],
            "application/vnd.google.colaboratory.intrinsic+json": {
              "type": "string"
            }
          },
          "metadata": {},
          "execution_count": 15
        }
      ]
    },
    {
      "cell_type": "code",
      "source": [
        "Processing(\"ResNet18\", lrChangeFq=10, outputFrequence=1)"
      ],
      "metadata": {
        "id": "eEDJMsg3tWHs",
        "colab": {
          "base_uri": "https://localhost:8080/"
        },
        "outputId": "b1194bce-a44b-4e18-ab45-3111adca1ff8"
      },
      "execution_count": 44,
      "outputs": [
        {
          "output_type": "stream",
          "name": "stdout",
          "text": [
            "\n",
            "\n",
            "KERBALTYPE: ResNet18\n",
            "TRAINING...\n",
            " Epoch 1, general loss: 1.5649599070401528 lr = 0.001\n",
            " Epoch 2, general loss: 1.1969803633149136 lr = 0.001\n",
            " Epoch 3, general loss: 1.0171047799366042 lr = 0.001\n",
            " Epoch 4, general loss: 0.875169623758375 lr = 0.001\n",
            " Epoch 5, general loss: 0.7550405408303761 lr = 0.001\n",
            " Epoch 6, general loss: 0.6492672407442759 lr = 0.001\n",
            " Epoch 7, general loss: 0.5604683792160959 lr = 0.001\n",
            " Epoch 8, general loss: 0.4589786623249348 lr = 0.001\n",
            " Epoch 9, general loss: 0.3885864051654166 lr = 0.001\n",
            " Epoch 10, general loss: 0.3154478548574693 lr = 0.0008\n",
            " Epoch 11, general loss: 0.19161922726588154 lr = 0.0008\n",
            " Epoch 12, general loss: 0.15103319371791227 lr = 0.0008\n",
            " Epoch 13, general loss: 0.1410370942435621 lr = 0.0008\n",
            " Epoch 14, general loss: 0.11696446237643963 lr = 0.0008\n",
            " Epoch 15, general loss: 0.10571323715380782 lr = 0.0008\n",
            " Epoch 16, general loss: 0.10225405574766627 lr = 0.0008\n",
            " Epoch 17, general loss: 0.08740347151442905 lr = 0.0008\n",
            " Epoch 18, general loss: 0.07088270153581486 lr = 0.0008\n",
            " Epoch 19, general loss: 0.07615608543388012 lr = 0.0008\n",
            " Epoch 20, general loss: 0.0722867659072286 lr = 0.00064\n",
            " Epoch 21, general loss: 0.03395210694732894 lr = 0.00064\n",
            " Epoch 22, general loss: 0.03503822126862662 lr = 0.00064\n",
            " Epoch 23, general loss: 0.041163425503740296 lr = 0.00064\n",
            " Epoch 24, general loss: 0.04384255043432578 lr = 0.00064\n",
            " Epoch 25, general loss: 0.042789389756172136 lr = 0.00064\n",
            " Epoch 26, general loss: 0.030348477370259305 lr = 0.00064\n",
            " Epoch 27, general loss: 0.04795118386031506 lr = 0.00064\n",
            " Epoch 28, general loss: 0.040357495528482584 lr = 0.00064\n",
            " Epoch 29, general loss: 0.02501647020378102 lr = 0.00064\n",
            " Epoch 30, general loss: 0.04413656003715602 lr = 0.000512\n",
            " Epoch 31, general loss: 0.029204430313632082 lr = 0.000512\n",
            " Epoch 32, general loss: 0.011120137571628427 lr = 0.000512\n",
            " Epoch 33, general loss: 0.017038198276458916 lr = 0.000512\n",
            " Epoch 34, general loss: 0.0161253405517668 lr = 0.000512\n",
            " Epoch 35, general loss: 0.025391772134378352 lr = 0.000512\n",
            " Epoch 36, general loss: 0.026600557677063753 lr = 0.000512\n",
            " Epoch 37, general loss: 0.022452262678776494 lr = 0.000512\n",
            " Epoch 38, general loss: 0.017032210460081503 lr = 0.000512\n",
            " Epoch 39, general loss: 0.023230511123871384 lr = 0.000512\n",
            " Epoch 40, general loss: 0.018091745243153365 lr = 0.0004096\n",
            " Epoch 41, general loss: 0.013825054771324478 lr = 0.0004096\n",
            " Epoch 42, general loss: 0.008293630526468313 lr = 0.0004096\n",
            " Epoch 43, general loss: 0.008252580146984552 lr = 0.0004096\n",
            " Epoch 44, general loss: 0.012942967483336974 lr = 0.0004096\n",
            " Epoch 45, general loss: 0.010584055186704171 lr = 0.0004096\n",
            " Epoch 46, general loss: 0.017216333569766783 lr = 0.0004096\n",
            " Epoch 47, general loss: 0.03491630237885587 lr = 0.0004096\n",
            " Epoch 48, general loss: 0.017247004725204632 lr = 0.0004096\n",
            " Epoch 49, general loss: 0.004993367933211533 lr = 0.0004096\n",
            " Epoch 50, general loss: 0.005361730251137224 lr = 0.00032768\n",
            "TESTING...\n",
            " Test: Average loss:0.008654364335536957, Accuracy: 7255/10000 (0.7255)\n"
          ]
        }
      ]
    },
    {
      "cell_type": "code",
      "source": [
        "Processing(\"ResNet101\", outputFrequence=1)"
      ],
      "metadata": {
        "id": "sHNVqAwN3azZ"
      },
      "execution_count": null,
      "outputs": []
    },
    {
      "cell_type": "code",
      "source": [
        "Processing(\"DenseNet121\", lrChangeFq=10, outputFrequence=1)"
      ],
      "metadata": {
        "id": "n7XFZQnn3a2W",
        "outputId": "2e64328e-b7dc-44ed-bb33-553ccf5fcf98",
        "colab": {
          "base_uri": "https://localhost:8080/",
          "height": 1000,
          "referenced_widgets": [
            "be3625bf945a4d2996dcc1edf383b452",
            "73704445b8684d34b5296cb29a441fca",
            "6273cab0b9554b00beaceedc0d7cee4f",
            "9f447b2b13134c5589e772afd56c6f83",
            "53793d2270474da08d66679d69f143a0",
            "91c15ce2d47a4f8b903f8f065a17804d",
            "7da6646a8ab84e278f76b0c79722fa74",
            "f5990ff224e74f38a611a41a9d86b1fe",
            "0eb2a9e1a6e84be8b4e12c9c94a7b453",
            "104f49153e8244f8839cdcc32b1f3c71",
            "26d0c2b093fb40c88f028369968a7acd"
          ]
        }
      },
      "execution_count": 45,
      "outputs": [
        {
          "metadata": {
            "tags": null
          },
          "name": "stderr",
          "output_type": "stream",
          "text": [
            "Downloading: \"https://download.pytorch.org/models/densenet121-a639ec97.pth\" to /root/.cache/torch/hub/checkpoints/densenet121-a639ec97.pth\n"
          ]
        },
        {
          "data": {
            "application/vnd.jupyter.widget-view+json": {
              "model_id": "be3625bf945a4d2996dcc1edf383b452",
              "version_major": 2,
              "version_minor": 0
            },
            "text/plain": [
              "  0%|          | 0.00/30.8M [00:00<?, ?B/s]"
            ]
          },
          "metadata": {},
          "output_type": "display_data"
        },
        {
          "metadata": {
            "tags": null
          },
          "name": "stdout",
          "output_type": "stream",
          "text": [
            "\n",
            "\n",
            "KERBALTYPE: DenseNet121\n",
            "TRAINING...\n",
            " Epoch 1, general loss: 1.8456128036852957 lr = 0.001\n",
            " Epoch 2, general loss: 1.4515931532555018 lr = 0.001\n",
            " Epoch 3, general loss: 1.2952458102678515 lr = 0.001\n",
            " Epoch 4, general loss: 1.0988956142946622 lr = 0.001\n",
            " Epoch 5, general loss: 0.9879685443701205 lr = 0.001\n",
            " Epoch 6, general loss: 0.9517075145981975 lr = 0.001\n",
            " Epoch 7, general loss: 1.318387027868291 lr = 0.001\n",
            " Epoch 8, general loss: 1.0402847709729504 lr = 0.001\n",
            " Epoch 9, general loss: 0.9097148401221047 lr = 0.001\n",
            " Epoch 10, general loss: 0.7718781030055177 lr = 0.0008\n",
            " Epoch 11, general loss: 0.6269709494003318 lr = 0.0008\n",
            " Epoch 12, general loss: 0.7410685761073198 lr = 0.0008\n",
            " Epoch 13, general loss: 0.6547273921290626 lr = 0.0008\n",
            " Epoch 14, general loss: 0.4569220208015635 lr = 0.0008\n",
            " Epoch 15, general loss: 0.3754452339459939 lr = 0.0008\n",
            " Epoch 16, general loss: 0.27727440437397993 lr = 0.0008\n",
            " Epoch 17, general loss: 0.2248198548235843 lr = 0.0008\n",
            " Epoch 18, general loss: 0.19458187701775853 lr = 0.0008\n",
            " Epoch 19, general loss: 0.16732895758348632 lr = 0.0008\n",
            " Epoch 20, general loss: 0.15050827227916913 lr = 0.00064\n",
            " Epoch 21, general loss: 0.08547668118682722 lr = 0.00064\n",
            " Epoch 22, general loss: 0.07660750470594647 lr = 0.00064\n",
            " Epoch 23, general loss: 0.6114644836250348 lr = 0.00064\n",
            " Epoch 24, general loss: 0.25463331920891674 lr = 0.00064\n",
            " Epoch 25, general loss: 0.08723706168305011 lr = 0.00064\n",
            " Epoch 26, general loss: 0.06211581201167759 lr = 0.00064\n",
            " Epoch 27, general loss: 0.06179141417894627 lr = 0.00064\n",
            " Epoch 28, general loss: 0.05931690108683922 lr = 0.00064\n",
            " Epoch 29, general loss: 0.4444423212247335 lr = 0.00064\n",
            " Epoch 30, general loss: 0.37981947726502835 lr = 0.000512\n",
            " Epoch 31, general loss: 0.14042283930652533 lr = 0.000512\n",
            " Epoch 32, general loss: 0.04524402887819662 lr = 0.000512\n",
            " Epoch 33, general loss: 0.029867732861396122 lr = 0.000512\n",
            " Epoch 34, general loss: 0.032586451901900626 lr = 0.000512\n",
            " Epoch 35, general loss: 0.03567572181909969 lr = 0.000512\n",
            " Epoch 36, general loss: 0.039611041965923195 lr = 0.000512\n",
            " Epoch 37, general loss: 0.04198626700558306 lr = 0.000512\n",
            " Epoch 38, general loss: 0.4372547228950237 lr = 0.000512\n",
            " Epoch 39, general loss: 0.21532176431153227 lr = 0.000512\n",
            " Epoch 40, general loss: 0.05856731283891294 lr = 0.0004096\n",
            " Epoch 41, general loss: 0.021809531630199278 lr = 0.0004096\n",
            " Epoch 42, general loss: 0.08536926569949989 lr = 0.0004096\n",
            " Epoch 43, general loss: 0.055300568888136746 lr = 0.0004096\n",
            " Epoch 44, general loss: 0.06566160888958378 lr = 0.0004096\n",
            " Epoch 45, general loss: 0.08265492855571203 lr = 0.0004096\n",
            " Epoch 46, general loss: 0.026587440437858108 lr = 0.0004096\n",
            " Epoch 47, general loss: 0.07595718043709904 lr = 0.0004096\n",
            " Epoch 48, general loss: 0.15645293532342647 lr = 0.0004096\n",
            " Epoch 49, general loss: 0.04595728629009471 lr = 0.0004096\n",
            " Epoch 50, general loss: 0.030773233213058686 lr = 0.00032768\n",
            "TESTING...\n",
            " Test: Average loss:0.007651160299777984, Accuracy: 7095/10000 (0.7095)\n"
          ]
        }
      ]
    },
    {
      "cell_type": "code",
      "source": [
        "Processing(\"DenseNet161\", outputFrequence=1)"
      ],
      "metadata": {
        "id": "TtbRbBI8CL0i"
      },
      "execution_count": null,
      "outputs": []
    },
    {
      "cell_type": "code",
      "source": [
        "Processing(\"DenseNet169\", outputFrequence=1)"
      ],
      "metadata": {
        "id": "tiDIGol2CO25"
      },
      "execution_count": null,
      "outputs": []
    },
    {
      "cell_type": "code",
      "source": [
        "Processing(\"ResNeXt50\", lrChangeFq=10, outputFrequence=1)"
      ],
      "metadata": {
        "id": "vyqzzUYHCSWg",
        "colab": {
          "base_uri": "https://localhost:8080/"
        },
        "outputId": "50382da7-5745-4ffa-f81c-afc45273d0ff"
      },
      "execution_count": 46,
      "outputs": [
        {
          "metadata": {
            "tags": null
          },
          "name": "stdout",
          "output_type": "stream",
          "text": [
            "\n",
            "\n",
            "KERBALTYPE: ResNeXt50\n",
            "TRAINING...\n",
            " Epoch 1, general loss: 1.5631868439851346 lr = 0.001\n",
            " Epoch 2, general loss: 1.0512548039868932 lr = 0.001\n",
            " Epoch 3, general loss: 0.800744347965595 lr = 0.001\n",
            " Epoch 4, general loss: 0.6290460195123533 lr = 0.001\n",
            " Epoch 5, general loss: 0.5022565194011963 lr = 0.001\n",
            " Epoch 6, general loss: 0.40395905676576266 lr = 0.001\n",
            " Epoch 7, general loss: 0.341314125614068 lr = 0.001\n",
            " Epoch 8, general loss: 0.26531284617394524 lr = 0.001\n",
            " Epoch 9, general loss: 0.22102882432722545 lr = 0.001\n",
            " Epoch 10, general loss: 0.1957287100172535 lr = 0.0008\n",
            " Epoch 11, general loss: 0.1374858786380784 lr = 0.0008\n",
            " Epoch 12, general loss: 0.09160432209904049 lr = 0.0008\n",
            " Epoch 13, general loss: 0.09437233015664462 lr = 0.0008\n",
            " Epoch 14, general loss: 0.568729399885867 lr = 0.0008\n",
            " Epoch 15, general loss: 0.3340898717647972 lr = 0.0008\n",
            " Epoch 16, general loss: 0.09907383412199536 lr = 0.0008\n",
            " Epoch 17, general loss: 0.07578748642207726 lr = 0.0008\n",
            " Epoch 18, general loss: 0.0682495005486399 lr = 0.0008\n",
            " Epoch 19, general loss: 0.05638139164459304 lr = 0.0008\n",
            " Epoch 20, general loss: 0.05952176636027306 lr = 0.00064\n",
            " Epoch 21, general loss: 0.05865548659576893 lr = 0.00064\n",
            " Epoch 22, general loss: 0.03328963064530999 lr = 0.00064\n",
            " Epoch 23, general loss: 0.02467407215177801 lr = 0.00064\n",
            " Epoch 24, general loss: 0.030987988276522337 lr = 0.00064\n",
            " Epoch 25, general loss: 0.034010488249495936 lr = 0.00064\n",
            " Epoch 26, general loss: 0.033415478882235804 lr = 0.00064\n",
            " Epoch 27, general loss: 0.0368354079366383 lr = 0.00064\n",
            " Epoch 28, general loss: 0.035479751361543584 lr = 0.00064\n",
            " Epoch 29, general loss: 0.05503456865331717 lr = 0.00064\n",
            " Epoch 30, general loss: 0.08903723678157965 lr = 0.000512\n",
            " Epoch 31, general loss: 0.05265979792385064 lr = 0.000512\n",
            " Epoch 32, general loss: 0.06304429162452092 lr = 0.000512\n",
            " Epoch 33, general loss: 0.47202652287621466 lr = 0.000512\n",
            " Epoch 34, general loss: 0.29222145841754593 lr = 0.000512\n",
            " Epoch 35, general loss: 0.07313618710091742 lr = 0.000512\n",
            " Epoch 36, general loss: 0.016688370931360726 lr = 0.000512\n",
            " Epoch 37, general loss: 0.006228634585793244 lr = 0.000512\n",
            " Epoch 38, general loss: 0.0051699074854733434 lr = 0.000512\n",
            " Epoch 39, general loss: 0.004131341928234516 lr = 0.000512\n",
            " Epoch 40, general loss: 0.0037300354363360762 lr = 0.0004096\n",
            " Epoch 41, general loss: 0.0031446423568341616 lr = 0.0004096\n",
            " Epoch 42, general loss: 0.0026186731402893047 lr = 0.0004096\n",
            " Epoch 43, general loss: 0.00406368192661549 lr = 0.0004096\n",
            " Epoch 44, general loss: 0.006893686456266746 lr = 0.0004096\n",
            " Epoch 45, general loss: 0.013648167903926325 lr = 0.0004096\n",
            " Epoch 46, general loss: 0.017518144458551533 lr = 0.0004096\n",
            " Epoch 47, general loss: 0.01819443542356651 lr = 0.0004096\n",
            " Epoch 48, general loss: 0.015804431303680307 lr = 0.0004096\n",
            " Epoch 49, general loss: 0.013273358464897514 lr = 0.0004096\n",
            " Epoch 50, general loss: 0.010299864234840837 lr = 0.00032768\n",
            "TESTING...\n",
            " Test: Average loss:0.007259497594833374, Accuracy: 7358/10000 (0.7358)\n"
          ]
        }
      ]
    },
    {
      "cell_type": "code",
      "source": [
        "Processing(\"ResNeXt101_32\", outputFrequence=1)"
      ],
      "metadata": {
        "id": "bv-VYoo8CU1p"
      },
      "execution_count": null,
      "outputs": []
    },
    {
      "cell_type": "code",
      "source": [
        "Processing(\"ResNeXt101_64\", outputFrequence=1)"
      ],
      "metadata": {
        "id": "PuCDBQw6CU5l"
      },
      "execution_count": null,
      "outputs": []
    },
    {
      "cell_type": "code",
      "source": [
        "Processing(\"EfficientNetV2\", lrChangeFq=10, outputFrequence=1)"
      ],
      "metadata": {
        "id": "Fn5CTsADCU-_",
        "colab": {
          "base_uri": "https://localhost:8080/"
        },
        "outputId": "6baa519b-a937-4006-964e-34b9e89bd677"
      },
      "execution_count": 47,
      "outputs": [
        {
          "output_type": "stream",
          "name": "stdout",
          "text": [
            "\n",
            "\n",
            "KERBALTYPE: EfficientNetV2\n",
            "TRAINING...\n",
            " Epoch 1, general loss: 1.7589070299237037 lr = 0.001\n",
            " Epoch 2, general loss: 1.2624032995135512 lr = 0.001\n",
            " Epoch 3, general loss: 1.0158770625124272 lr = 0.001\n",
            " Epoch 4, general loss: 0.8220453013464352 lr = 0.001\n",
            " Epoch 5, general loss: 0.6958838042217436 lr = 0.001\n",
            " Epoch 6, general loss: 0.6582439506484064 lr = 0.001\n",
            " Epoch 7, general loss: 0.5100749198001687 lr = 0.001\n",
            " Epoch 8, general loss: 0.39115270726459533 lr = 0.001\n",
            " Epoch 9, general loss: 0.3809482288575665 lr = 0.001\n",
            " Epoch 10, general loss: 0.33171588074915187 lr = 0.0008\n",
            " Epoch 11, general loss: 0.1645115550569038 lr = 0.0008\n",
            " Epoch 12, general loss: 0.1566971172146576 lr = 0.0008\n",
            " Epoch 13, general loss: 0.12294373607512604 lr = 0.0008\n",
            " Epoch 14, general loss: 0.11407134474552781 lr = 0.0008\n",
            " Epoch 15, general loss: 0.11985059900535756 lr = 0.0008\n",
            " Epoch 16, general loss: 0.10184551424049217 lr = 0.0008\n",
            " Epoch 17, general loss: 0.10642776251338494 lr = 0.0008\n",
            " Epoch 18, general loss: 0.10759481633101235 lr = 0.0008\n",
            " Epoch 19, general loss: 0.09633814298653416 lr = 0.0008\n",
            " Epoch 20, general loss: 0.0920175137190321 lr = 0.00064\n",
            " Epoch 21, general loss: 0.06281663798103009 lr = 0.00064\n",
            " Epoch 22, general loss: 0.051767852022936704 lr = 0.00064\n",
            " Epoch 23, general loss: 0.05141645536479569 lr = 0.00064\n",
            " Epoch 24, general loss: 0.04996241814908138 lr = 0.00064\n",
            " Epoch 25, general loss: 0.05878937054790324 lr = 0.00064\n",
            " Epoch 26, general loss: 0.05735483108395618 lr = 0.00064\n",
            " Epoch 27, general loss: 0.059014001789205156 lr = 0.00064\n",
            " Epoch 28, general loss: 0.058839426366324256 lr = 0.00064\n",
            " Epoch 29, general loss: 0.050129054162228855 lr = 0.00064\n",
            " Epoch 30, general loss: 0.056812316260886224 lr = 0.000512\n",
            " Epoch 31, general loss: 0.03747013145721681 lr = 0.000512\n",
            " Epoch 32, general loss: 0.03037780094483731 lr = 0.000512\n",
            " Epoch 33, general loss: 0.028915137274565243 lr = 0.000512\n",
            " Epoch 34, general loss: 0.03400943845932939 lr = 0.000512\n",
            " Epoch 35, general loss: 0.033085621528557894 lr = 0.000512\n",
            " Epoch 36, general loss: 0.03245843012970825 lr = 0.000512\n",
            " Epoch 37, general loss: 0.04510272171386738 lr = 0.000512\n",
            " Epoch 38, general loss: 0.03687529895483453 lr = 0.000512\n",
            " Epoch 39, general loss: 0.03602071723555089 lr = 0.000512\n",
            " Epoch 40, general loss: 0.033665004001507896 lr = 0.0004096\n",
            " Epoch 41, general loss: 0.02294309880133219 lr = 0.0004096\n",
            " Epoch 42, general loss: 0.01762779718372951 lr = 0.0004096\n",
            " Epoch 43, general loss: 0.018312898273075702 lr = 0.0004096\n",
            " Epoch 44, general loss: 0.01778038502874852 lr = 0.0004096\n",
            " Epoch 45, general loss: 0.02086863777967478 lr = 0.0004096\n",
            " Epoch 46, general loss: 0.020650224151094576 lr = 0.0004096\n",
            " Epoch 47, general loss: 0.0225420148986795 lr = 0.0004096\n",
            " Epoch 48, general loss: 0.019875858286899733 lr = 0.0004096\n",
            " Epoch 49, general loss: 0.025757908378847748 lr = 0.0004096\n",
            " Epoch 50, general loss: 0.024111890078632677 lr = 0.00032768\n",
            "TESTING...\n",
            " Test: Average loss:0.005556083595752716, Accuracy: 7471/10000 (0.7471)\n"
          ]
        }
      ]
    },
    {
      "cell_type": "code",
      "source": [
        "Processing(\"ConvNeXt_base\", outputFrequence=1)"
      ],
      "metadata": {
        "id": "pH699gIdCYvx"
      },
      "execution_count": null,
      "outputs": []
    },
    {
      "cell_type": "code",
      "source": [
        "Processing(\"ConvNeXt_large\", outputFrequence=1)"
      ],
      "metadata": {
        "id": "ErGd6BSWCVCj"
      },
      "execution_count": null,
      "outputs": []
    },
    {
      "cell_type": "code",
      "source": [
        "from torchsummary import summary\n",
        "model = Network(INITER, NUMCLASS, \"Vit\").to(DEVICE)\n",
        "summary(model, (3, 224, 224))"
      ],
      "metadata": {
        "id": "qfDsT-QraCm_"
      },
      "execution_count": null,
      "outputs": []
    }
  ]
}