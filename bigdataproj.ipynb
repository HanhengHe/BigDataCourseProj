{
  "nbformat": 4,
  "nbformat_minor": 0,
  "metadata": {
    "colab": {
      "provenance": [],
      "machine_shape": "hm",
      "mount_file_id": "1WgeXrK9nYjaHAUzMUNgcbCjBfi6u0r0f",
      "authorship_tag": "ABX9TyMJbx2V4zZMFSpuh5horNdZ",
      "include_colab_link": true
    },
    "kernelspec": {
      "name": "python3",
      "display_name": "Python 3"
    },
    "language_info": {
      "name": "python"
    },
    "accelerator": "GPU",
    "gpuClass": "premium"
  },
  "cells": [
    {
      "cell_type": "markdown",
      "metadata": {
        "id": "view-in-github",
        "colab_type": "text"
      },
      "source": [
        "<a href=\"https://colab.research.google.com/github/HanhengHe/BigDataCourseProj/blob/main/bigdataproj.ipynb\" target=\"_parent\"><img src=\"https://colab.research.google.com/assets/colab-badge.svg\" alt=\"Open In Colab\"/></a>"
      ]
    },
    {
      "cell_type": "code",
      "execution_count": 1,
      "metadata": {
        "colab": {
          "base_uri": "https://localhost:8080/"
        },
        "id": "ZgMFKRmRkdmq",
        "outputId": "b5603bd4-bddc-40d2-829f-e46d5a797fa4"
      },
      "outputs": [
        {
          "output_type": "stream",
          "name": "stdout",
          "text": [
            "Mounted at /content/drive/\n"
          ]
        }
      ],
      "source": [
        "# GET FILE\n",
        "\n",
        "from google.colab import drive\n",
        "import zipfile\n",
        "\n",
        "drive.mount('/content/drive/', force_remount=False)\n",
        "\n",
        "with zipfile.ZipFile(\"/content/drive/MyDrive/Dataset_small/data1.zip\",\"r\") as zip_ref:\n",
        "    zip_ref.extractall(\"targetdir\")"
      ]
    },
    {
      "cell_type": "code",
      "source": [
        "# LOADING TRAINING DATA\n",
        "\n",
        "lsTrainLabel = []\n",
        "lsTrainData = []\n",
        "\n",
        "with open(\"/content/targetdir/data1/train_label.txt\") as f:\n",
        "  for line in f.readlines():\n",
        "    expression = line.split(' ')\n",
        "    lsTrainLabel.append(int(expression[1]))\n",
        "    dataRGB = np.load(\"/content/targetdir/data1/train/\" + expression[0]).transpose((2,0,1))\n",
        "    lsTrainData.append(dataRGB)\n",
        "    # turn training data into grayscale data\n",
        "    # lsData.append((dataRGB[:, :, 0] + dataRGB[:, :, 1] + dataRGB[:, :, 2]) / 3)\n",
        "\n",
        "print(\"Number of traning data: {0}\".format(len(lsTrainLabel)), end='\\n')\n",
        "print(\"Shape of traning data: {0}\".format(lsTrainData[0].shape), end='\\n')"
      ],
      "metadata": {
        "colab": {
          "base_uri": "https://localhost:8080/"
        },
        "id": "cBqaS5J8FOYC",
        "outputId": "50e02418-f2a4-4048-9b25-12ecbe5d78cc"
      },
      "execution_count": 34,
      "outputs": [
        {
          "output_type": "stream",
          "name": "stdout",
          "text": [
            "Number of traning data: 50000\n",
            "Shape of traning data: (3, 32, 32)\n"
          ]
        }
      ]
    },
    {
      "cell_type": "code",
      "source": [
        "# LOAD TEST DATA\n",
        "\n",
        "lsTestLabel = []\n",
        "lsTestData = []\n",
        "\n",
        "with open(\"/content/targetdir/data1/test_label.txt\") as f:\n",
        "  for line in f.readlines():\n",
        "    expression = line.split(' ')\n",
        "    lsTestLabel.append(int(expression[1]))\n",
        "    dataRGB = np.load(\"/content/targetdir/data1/test/\" + expression[0]).transpose((2,0,1))\n",
        "    lsTestData.append(dataRGB)\n",
        "    # turn training data into grayscale data\n",
        "    # lsData.append((dataRGB[:, :, 0] + dataRGB[:, :, 1] + dataRGB[:, :, 2]) / 3)\n",
        "\n",
        "print(\"Number of testing data: {0}\".format(len(lsTestLabel)), end='\\n')\n",
        "print(\"Shape of testing data: {0}\".format(lsTestData[0].shape), end='\\n')"
      ],
      "metadata": {
        "colab": {
          "base_uri": "https://localhost:8080/"
        },
        "id": "zxehioIAZtM0",
        "outputId": "e12b034e-8e93-4caf-9bbe-1291888ec10b"
      },
      "execution_count": 31,
      "outputs": [
        {
          "output_type": "stream",
          "name": "stdout",
          "text": [
            "Number of testing data: 10000\n",
            "Shape of testing data: (3, 32, 32)\n"
          ]
        }
      ]
    },
    {
      "cell_type": "code",
      "source": [
        "# NETWORK DEFINE MODULE LET-NET\n",
        "\n",
        "import numpy as np\n",
        "import torch\n",
        "import torch.nn as nn\n",
        "import torch.utils.data as Data\n",
        "import torch.optim as optim\n",
        "import torch.nn.functional as F\n",
        "\n",
        "torch.cuda._initialized = True\n",
        "\n",
        "class LeNet(nn.Module):\n",
        "    def __init__(self, nClasses):\n",
        "        super().__init__()\n",
        "\n",
        "        self.cLayer1 = nn.Sequential(\n",
        "          nn.Conv2d(3, 64, 5, stride=1, padding=2),\n",
        "          nn.BatchNorm2d(64),\n",
        "          nn.MaxPool2d(kernel_size=2, stride=2))\n",
        "        \n",
        "        self.cLayer2 = nn.Sequential(\n",
        "          nn.Conv2d(64, 128, 5, stride=1, padding=2),\n",
        "          nn.BatchNorm2d(128),\n",
        "          nn.MaxPool2d(kernel_size=2, stride=2))\n",
        "        \n",
        "        self.cLayer3 = nn.Sequential(\n",
        "          nn.Conv2d(128, 256, 5, stride=1, padding=2),\n",
        "          nn.BatchNorm2d(256),\n",
        "          nn.MaxPool2d(kernel_size=2, stride=2))\n",
        "        \n",
        "        self.fc = nn.Sequential(\n",
        "            nn.Linear(4096, 2400),\n",
        "            nn.ReLU(),\n",
        "            nn.Dropout(),\n",
        "\n",
        "            nn.Linear(2400, 740),\n",
        "            nn.ReLU(),\n",
        "            nn.Dropout(),\n",
        "\n",
        "            nn.Linear(740, 74),\n",
        "            nn.ReLU(),\n",
        "            nn.Dropout(),\n",
        "\n",
        "            nn.Linear(74, nClasses)\n",
        "        )\n",
        "\n",
        "      \n",
        "    # forward propagation\n",
        "    def forward(self, X):\n",
        "\n",
        "        # convolutional layers\n",
        "        X = self.cLayer1(X)\n",
        "        X = self.cLayer2(X)\n",
        "        X = self.cLayer3(X)\n",
        "\n",
        "        # unfold\n",
        "        X = torch.flatten(X, start_dim=1)\n",
        "\n",
        "        # full connect layers\n",
        "        out = self.fc(X)\n",
        "\n",
        "        # output\n",
        "        out = F.log_softmax(out, dim=-1)\n",
        "\n",
        "        return out"
      ],
      "metadata": {
        "id": "F7nr88ZqgQAI"
      },
      "execution_count": 89,
      "outputs": []
    },
    {
      "cell_type": "code",
      "source": [
        "# TRAINING MODULE\n",
        "\n",
        "import math\n",
        "\n",
        "NUMCLASS= 10\n",
        "CPU = torch.device(\"cpu\")\n",
        "DEVICE = torch.device(\"cuda:0\") if torch.cuda.is_available() else CPU\n",
        "print(\"DEVICE = %s\" % (DEVICE))\n",
        "torch.cuda.empty_cache()\n",
        "\n",
        "trainLabels = np.array(lsTrainLabel)\n",
        "trainSet = np.array(lsTrainData)\n",
        "\n",
        "trainSet = torch.from_numpy(trainSet).float()\n",
        "trainLabels = torch.from_numpy(trainLabels)\n",
        "# trainLabels = torch.nn.functional.one_hot(torch.from_numpy(trainLabels), num_classes=NUMCLASS)\n",
        "\n",
        "MINIBATCH_SIZE = 512    # mini batch size\n",
        "\n",
        "# first transform the data to dataset can be processed by torch\n",
        "torch_dataset = Data.TensorDataset(trainSet, trainLabels.long())\n",
        "# put the dataset into DataLoader\n",
        "loader = Data.DataLoader(\n",
        "    dataset=torch_dataset,\n",
        "    batch_size=MINIBATCH_SIZE,\n",
        "    shuffle=True,\n",
        "    num_workers=0\n",
        ")\n",
        "\n",
        "model = LeNet(NUMCLASS).to(DEVICE)\n",
        "\n",
        "Epochs = 100\n",
        "nSteps = math.ceil(trainLabels.shape[0] / MINIBATCH_SIZE)\n",
        "MINLOSS = 0.01\n",
        "outputFrequence = 10\n",
        "LEARNING_RATE = 0.01\n",
        "\n",
        "optimizer = optim.SGD(model.parameters(), lr=LEARNING_RATE, momentum=0.9)\n",
        "# optimizer = optim.Adam(model.parameters())\n",
        "\n",
        "model.train()\n",
        "for epoch in range(Epochs):\n",
        "\n",
        "    nCurLoss = 0\n",
        "\n",
        "    for step, (batch_x, batch_y) in enumerate(loader):\n",
        "        optimizer.zero_grad()        \n",
        "        output = model(batch_x.to(DEVICE))\n",
        "        loss = F.nll_loss(output, batch_y.to(DEVICE))\n",
        "        loss.backward()\n",
        "        optimizer.step()\n",
        "        nCurLoss += loss.item() / nSteps\n",
        "    if (epoch + 1) % outputFrequence == 0:\n",
        "        LEARNING_RATE = LEARNING_RATE / math.pow((1 + 10 * (epoch - 1) / Epochs), 0.75)\n",
        "        optimizer = optim.SGD(model.parameters(), lr=LEARNING_RATE, momentum=0.9)\n",
        "\n",
        "        print(\"Epoch {0}, general loss: {1}, lr = {2:.5}\".format(epoch+1, nCurLoss, LEARNING_RATE))\n",
        "    if float(nCurLoss) <= MINLOSS:\n",
        "        break"
      ],
      "metadata": {
        "id": "U6jEzqxzEy4K",
        "colab": {
          "base_uri": "https://localhost:8080/"
        },
        "outputId": "3b6ec965-189c-4007-c940-810a3f4ca612"
      },
      "execution_count": 102,
      "outputs": [
        {
          "output_type": "stream",
          "name": "stdout",
          "text": [
            "DEVICE = cuda:0\n",
            "Epoch 10, general loss: 1.0042232950122987, lr = 0.006435\n",
            "Epoch 20, general loss: 0.5061895926387945, lr = 0.0029729\n",
            "Epoch 30, general loss: 0.15264221501289585, lr = 0.0010923\n",
            "Epoch 40, general loss: 0.044254567531146566, lr = 0.00033683\n",
            "Epoch 50, general loss: 0.02888574664081847, lr = 9.0123e-05\n",
            "Epoch 60, general loss: 0.024998682902707726, lr = 2.1402e-05\n",
            "Epoch 70, general loss: 0.025208370978658905, lr = 4.5855e-06\n",
            "Epoch 80, general loss: 0.025168614861156253, lr = 8.9748e-07\n",
            "Epoch 90, general loss: 0.02459499852883877, lr = 1.6203e-07\n",
            "Epoch 100, general loss: 0.025427948075289624, lr = 2.7198e-08\n"
          ]
        }
      ]
    },
    {
      "cell_type": "code",
      "source": [
        "# TEST MODULE\n",
        "\n",
        "testLabels = np.array(lsTestLabel)\n",
        "testSet = np.array(lsTestData)\n",
        "\n",
        "testSet = torch.from_numpy(testSet).float()\n",
        "testLabels = torch.from_numpy(testLabels).to(DEVICE)\n",
        "\n",
        "model.eval()\n",
        "test_loss = 0\n",
        "correct = 0\n",
        "\n",
        "# first transform the data to dataset can be processed by torch\n",
        "torch_dataset = Data.TensorDataset(testSet, testLabels.long())\n",
        "# put the dataset into DataLoader\n",
        "loader = Data.DataLoader(\n",
        "    dataset=torch_dataset,\n",
        "    batch_size=MINIBATCH_SIZE,\n",
        "    shuffle=True,\n",
        "    num_workers=0\n",
        ")\n",
        "\n",
        "with torch.no_grad():\n",
        "    for step, (batch_x, batch_y) in enumerate(loader):\n",
        "        output = model(batch_x.to(DEVICE))\n",
        "        test_loss += F.nll_loss(output, batch_y, reduction='sum').item()  # sum a batch of loss\n",
        "        predict = output.max(1, keepdim=True)[1]  # find the prediction\n",
        "        correct += predict.eq(batch_y.view_as(predict)).sum().item()\n",
        "\n",
        "testSize = testLabels.shape[0]\n",
        "test_loss /= testSize\n",
        "print(\"Test: Average loss:%s, Accuracy: %s/%s (%s)\"\n",
        "      % (test_loss, correct, testSize, correct / testSize))"
      ],
      "metadata": {
        "colab": {
          "base_uri": "https://localhost:8080/"
        },
        "id": "kyKO6kltMjDR",
        "outputId": "04846b49-ec3e-40a6-d254-0c9ccb23bdf2"
      },
      "execution_count": 103,
      "outputs": [
        {
          "output_type": "stream",
          "name": "stdout",
          "text": [
            "Test: Average loss:1.8070598052978515, Accuracy: 7023/10000 (0.7023)\n"
          ]
        }
      ]
    }
  ]
}