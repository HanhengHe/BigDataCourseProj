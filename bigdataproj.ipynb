{
  "nbformat": 4,
  "nbformat_minor": 0,
  "metadata": {
    "colab": {
      "provenance": [],
      "machine_shape": "hm",
      "mount_file_id": "1WgeXrK9nYjaHAUzMUNgcbCjBfi6u0r0f",
      "authorship_tag": "ABX9TyNbkrxgD2PNpQ2Jn2L03eZI",
      "include_colab_link": true
    },
    "kernelspec": {
      "name": "python3",
      "display_name": "Python 3"
    },
    "language_info": {
      "name": "python"
    },
    "accelerator": "GPU",
    "gpuClass": "premium"
  },
  "cells": [
    {
      "cell_type": "markdown",
      "metadata": {
        "id": "view-in-github",
        "colab_type": "text"
      },
      "source": [
        "<a href=\"https://colab.research.google.com/github/HanhengHe/BigDataCourseProj/blob/main/bigdataproj.ipynb\" target=\"_parent\"><img src=\"https://colab.research.google.com/assets/colab-badge.svg\" alt=\"Open In Colab\"/></a>"
      ]
    },
    {
      "cell_type": "code",
      "execution_count": 1,
      "metadata": {
        "colab": {
          "base_uri": "https://localhost:8080/"
        },
        "id": "ZgMFKRmRkdmq",
        "outputId": "b5603bd4-bddc-40d2-829f-e46d5a797fa4"
      },
      "outputs": [
        {
          "output_type": "stream",
          "name": "stdout",
          "text": [
            "Mounted at /content/drive/\n"
          ]
        }
      ],
      "source": [
        "# GET FILE\n",
        "\n",
        "from google.colab import drive\n",
        "import zipfile\n",
        "\n",
        "drive.mount('/content/drive/', force_remount=False)\n",
        "\n",
        "with zipfile.ZipFile(\"/content/drive/MyDrive/Dataset_small/data1.zip\",\"r\") as zip_ref:\n",
        "    zip_ref.extractall(\"targetdir\")"
      ]
    },
    {
      "cell_type": "code",
      "source": [
        "# NETWORK DEFINE MODULE\n",
        "\n",
        "import numpy as np\n",
        "import torch\n",
        "import torch.nn as nn\n",
        "import torch.utils.data as Data\n",
        "import torch.optim as optim\n",
        "import torch.nn.functional as F\n",
        "\n",
        "torch.cuda._initialized = True\n",
        "\n",
        "class Inception(nn.Module):\n",
        "    def __init__(self):\n",
        "        super().__init__()\n",
        "\n",
        "        self.conv1_b1 = nn.Conv2d(256, 256, 1)\n",
        "        self.conv2_b1 = nn.Conv2d(256, 320, 3, padding=1)\n",
        "        self.conv3_b1 = nn.Conv2d(320, 320, 3, padding=1)\n",
        "\n",
        "        self.conv1_b2 = nn.Conv2d(256, 48, 1)\n",
        "        self.conv2_b2 = nn.Conv2d(48, 64, (1, 5), padding=(0, 2))\n",
        "        self.conv3_b2 = nn.Conv2d(64, 64, (5, 1), padding=(2, 0))\n",
        "\n",
        "        self.conv1_b3 = nn.Conv2d(256, 64, 1)\n",
        "\n",
        "        self.conv1_b4 = nn.Conv2d(256, 64, 1)\n",
        "\n",
        "    def forward(self, X):\n",
        "\n",
        "        # branch 1\n",
        "        b1 = self.conv1_b1(X)\n",
        "        b1 = b1.mul(torch.sigmoid(b1))\n",
        "\n",
        "        b1 = self.conv2_b1(b1)\n",
        "        b1 = b1.mul(torch.sigmoid(b1))\n",
        "\n",
        "        b1 = self.conv3_b1(b1)\n",
        "        b1 = b1.mul(torch.sigmoid(b1))\n",
        "\n",
        "        # branch 2\n",
        "        b2 = self.conv1_b2(X)\n",
        "        b2 = b2.mul(torch.sigmoid(b2))\n",
        "\n",
        "        b2 = self.conv2_b2(b2)\n",
        "        b2 = b2.mul(torch.sigmoid(b2))\n",
        "\n",
        "        b2 = self.conv3_b2(b2)\n",
        "        b2 = b2.mul(torch.sigmoid(b2))\n",
        "\n",
        "        # branch 3\n",
        "        b3 = self.conv1_b3(X)\n",
        "        b3 = b3.mul(torch.sigmoid(b3))\n",
        "\n",
        "        # branch 4\n",
        "        b4 = F.max_pool2d(X, (3, 3), stride=1, padding=1)\n",
        "        b4 = self.conv1_b4(b4)\n",
        "        b4 = b4.mul(torch.sigmoid(b4))\n",
        "\n",
        "        return torch.cat([b1, b2, b3, b4], 1)\n",
        "\n",
        "\n",
        "class LeNet_II(nn.Module):\n",
        "    def __init__(self):\n",
        "        super().__init__()\n",
        "\n",
        "        # convolutional layer\n",
        "        self.conv1_b1 = nn.Conv2d(3, 64, 3, padding=1)\n",
        "        self.conv2_b1 = nn.Conv2d(64, 128, 3, padding=1)\n",
        "        self.conv3_b1 = nn.Conv2d(128, 256, 3, padding=1)\n",
        "\n",
        "        self.conv1_b2 = nn.Conv2d(3, 64, 3, padding=2, dilation=2)\n",
        "        self.conv2_b2 = nn.Conv2d(64, 128, 3, padding=2, dilation=2)\n",
        "        self.conv3_b2 = nn.Conv2d(128, 256, 3, padding=2, dilation=2)\n",
        "        self.conv4_b2 = nn.Conv2d(256, 512, 3, padding=2, dilation=2)\n",
        "\n",
        "        self.conv = nn.Conv2d(1024, 768, 3, padding=1)\n",
        "\n",
        "        # full connect layer\n",
        "        self.fc1 = nn.Linear(768 * 4, 1024)\n",
        "        self.fc2 = nn.Linear(1024, 3926)\n",
        "\n",
        "        # Inception \n",
        "        self.Inception = Inception()\n",
        "\n",
        "    # forward propagation\n",
        "    def forward(self, X):\n",
        "        # branch 1\n",
        "        b1 = self.conv1_b1(X)\n",
        "        b1 = F.max_pool2d(b1, (2, 2), stride=2)\n",
        "        b1 = b1.mul(torch.sigmoid(b1))\n",
        "\n",
        "        b1 = self.conv2_b1(b1)\n",
        "        b1 = F.max_pool2d(b1, (2, 2), stride=2)\n",
        "        b1 = b1.mul(torch.sigmoid(b1))\n",
        "\n",
        "        b1 = self.conv3_b1(b1)\n",
        "        b1 = F.max_pool2d(b1, (2, 2), stride=2)\n",
        "        b1 = b1.mul(torch.sigmoid(b1))\n",
        "\n",
        "        b1 = self.Inception(b1)\n",
        "\n",
        "        # branch 2\n",
        "        b2 = self.conv1_b2(X)\n",
        "        b2 = F.max_pool2d(b2, (2, 2), stride=2)\n",
        "        b2 = b2.mul(torch.sigmoid(b2))\n",
        "\n",
        "        b2 = self.conv2_b2(b2)\n",
        "        b2 = F.max_pool2d(b2, (2, 2), stride=2)\n",
        "        b2 = b2.mul(torch.sigmoid(b2))\n",
        "\n",
        "        b2 = self.conv3_b2(b2)\n",
        "        b2 = b2.mul(torch.sigmoid(b2))\n",
        "\n",
        "        b2 = self.conv4_b2(b2)\n",
        "        b2 = F.max_pool2d(b2, (2, 2), stride=2)\n",
        "        b2 = b2.mul(torch.sigmoid(b2))\n",
        "\n",
        "        # concatenate\n",
        "        out = self.conv(torch.cat([b1, b2], 1))\n",
        "        out = F.max_pool2d(out, (2, 2), stride=2)\n",
        "        out = out.mul(torch.sigmoid(out))\n",
        "\n",
        "        # unfold\n",
        "        out = torch.flatten(out, start_dim=1)\n",
        "\n",
        "        # full connect\n",
        "        out = self.fc1(out)\n",
        "        out = out.mul(torch.sigmoid(out))\n",
        "        out = F.dropout(out)\n",
        "\n",
        "        out = self.fc2(out)\n",
        "        out = F.log_softmax(out, dim=-1)\n",
        "\n",
        "        return out"
      ],
      "metadata": {
        "id": "qJSsTsvOFipL"
      },
      "execution_count": 3,
      "outputs": []
    },
    {
      "cell_type": "code",
      "source": [
        "# LOADING TRAINING DATA\n",
        "\n",
        "lsTrainLabel = []\n",
        "lsTrainData = []\n",
        "\n",
        "with open(\"/content/targetdir/data1/train_label.txt\") as f:\n",
        "  for line in f.readlines():\n",
        "    expression = line.split(' ')\n",
        "    lsTrainLabel.append(int(expression[1]))\n",
        "    dataRGB = np.load(\"/content/targetdir/data1/train/\" + expression[0]).transpose((2,0,1))\n",
        "    lsTrainData.append(dataRGB)\n",
        "    # turn training data into grayscale data\n",
        "    # lsData.append((dataRGB[:, :, 0] + dataRGB[:, :, 1] + dataRGB[:, :, 2]) / 3)\n",
        "\n",
        "print(\"Number of traning data: {0}\".format(len(lsTrainLabel)), end='\\n')\n",
        "print(\"Shape of traning data: {0}\".format(lsTrainData[0].shape), end='\\n')"
      ],
      "metadata": {
        "colab": {
          "base_uri": "https://localhost:8080/"
        },
        "id": "cBqaS5J8FOYC",
        "outputId": "bd7b2cdf-3b85-45c8-cc80-57b970d8cdab"
      },
      "execution_count": 17,
      "outputs": [
        {
          "output_type": "stream",
          "name": "stdout",
          "text": [
            "Number of traning data: 50000\n",
            "Shape of traning data: (3, 32, 32)\n"
          ]
        }
      ]
    },
    {
      "cell_type": "code",
      "source": [
        "# TRAINING MODULE\n",
        "\n",
        "import math\n",
        "\n",
        "CPU = torch.device(\"cpu\")\n",
        "DEVICE = torch.device(\"cuda:0\") if torch.cuda.is_available() else CPU\n",
        "print(\"DEVICE = %s\" % (DEVICE))\n",
        "torch.cuda.empty_cache()\n",
        "\n",
        "trainLabels = np.array(lsTrainLabel)\n",
        "trainSet = np.array(lsTrainData)\n",
        "\n",
        "trainSet = torch.from_numpy(trainSet).float()\n",
        "trainLabels = torch.from_numpy(trainLabels).to(DEVICE)\n",
        "\n",
        "MINIBATCH_SIZE = 512    # mini batch size\n",
        "\n",
        "# first transform the data to dataset can be processed by torch\n",
        "torch_dataset = Data.TensorDataset(trainSet, trainLabels.long())\n",
        "# put the dataset into DataLoader\n",
        "loader = Data.DataLoader(\n",
        "    dataset=torch_dataset,\n",
        "    batch_size=MINIBATCH_SIZE,\n",
        "    shuffle=True,\n",
        "    num_workers=0\n",
        ")\n",
        "\n",
        "model = LeNet_II().to(DEVICE)\n",
        "# optimizer = optim.SGD(model.parameters(), lr=0.001, momentum=0.9)\n",
        "optimizer = optim.Adam(model.parameters())\n",
        "\n",
        "Epoch = 50\n",
        "nSteps = math.ceil(trainLabels.shape[0] / MINIBATCH_SIZE)\n",
        "MINLOSS = 0.01\n",
        "outputFrequence = 10\n",
        "\n",
        "model.train()\n",
        "for epoch in range(Epoch):\n",
        "    nCurLoss = 0\n",
        "    for step, (batch_x, batch_y) in enumerate(loader):\n",
        "        optimizer.zero_grad()        \n",
        "        output = model(batch_x.to(DEVICE))\n",
        "        loss = F.nll_loss(output, batch_y)\n",
        "        loss.backward()\n",
        "        optimizer.step()\n",
        "        nCurLoss += loss.item() / nSteps\n",
        "    if epoch == 0 or (epoch + 1) % outputFrequence == 0:\n",
        "      print(\"Epoch {0}; General loss: {1}\".format(epoch+1, nCurLoss))\n",
        "    if float(nCurLoss) <= MINLOSS:\n",
        "        break"
      ],
      "metadata": {
        "id": "U6jEzqxzEy4K",
        "colab": {
          "base_uri": "https://localhost:8080/"
        },
        "outputId": "b9086393-9e61-44e7-a2d1-5ae12c055692"
      },
      "execution_count": 30,
      "outputs": [
        {
          "output_type": "stream",
          "name": "stdout",
          "text": [
            "DEVICE = cuda:0\n",
            "Epoch 1; General loss: 7.376458609104158\n",
            "Epoch 10; General loss: 1.5692575395107269\n",
            "Epoch 20; General loss: 0.7500250339508058\n",
            "Epoch 30; General loss: 0.0412509759888053\n"
          ]
        }
      ]
    },
    {
      "cell_type": "code",
      "source": [
        "# LOAD TEST DATA\n",
        "\n",
        "lsTestLabel = []\n",
        "lsTestData = []\n",
        "\n",
        "with open(\"/content/targetdir/data1/test_label.txt\") as f:\n",
        "  for line in f.readlines():\n",
        "    expression = line.split(' ')\n",
        "    lsTestLabel.append(int(expression[1]))\n",
        "    dataRGB = np.load(\"/content/targetdir/data1/test/\" + expression[0]).transpose((2,0,1))\n",
        "    lsTestData.append(dataRGB)\n",
        "    # turn training data into grayscale data\n",
        "    # lsData.append((dataRGB[:, :, 0] + dataRGB[:, :, 1] + dataRGB[:, :, 2]) / 3)\n",
        "\n",
        "print(\"Number of testing data: {0}\".format(len(lsTestLabel)), end='\\n')\n",
        "print(\"Shape of testing data: {0}\".format(lsTestData[0].shape), end='\\n')"
      ],
      "metadata": {
        "id": "zxehioIAZtM0",
        "outputId": "e12b034e-8e93-4caf-9bbe-1291888ec10b",
        "colab": {
          "base_uri": "https://localhost:8080/"
        }
      },
      "execution_count": 31,
      "outputs": [
        {
          "output_type": "stream",
          "name": "stdout",
          "text": [
            "Number of testing data: 10000\n",
            "Shape of testing data: (3, 32, 32)\n"
          ]
        }
      ]
    },
    {
      "cell_type": "code",
      "source": [
        "# TEST MODULE\n",
        "\n",
        "testLabels = np.array(lsTestLabel)\n",
        "testSet = np.array(lsTestData)\n",
        "\n",
        "testSet = torch.from_numpy(testSet).float()\n",
        "testLabels = torch.from_numpy(testLabels).to(DEVICE)\n",
        "\n",
        "model.eval()\n",
        "test_loss = 0\n",
        "correct = 0\n",
        "\n",
        "# first transform the data to dataset can be processed by torch\n",
        "torch_dataset = Data.TensorDataset(testSet, testLabels.long())\n",
        "# put the dataset into DataLoader\n",
        "loader = Data.DataLoader(\n",
        "    dataset=torch_dataset,\n",
        "    batch_size=MINIBATCH_SIZE,\n",
        "    shuffle=True,\n",
        "    num_workers=0\n",
        ")\n",
        "\n",
        "with torch.no_grad():\n",
        "    for step, (batch_x, batch_y) in enumerate(loader):\n",
        "        output = model(batch_x.to(DEVICE))\n",
        "        test_loss += F.nll_loss(output, batch_y, reduction='sum').item()  # sum a batch of loss\n",
        "        predict = output.max(1, keepdim=True)[1]  # find the prediction\n",
        "        correct += predict.eq(batch_y.view_as(predict)).sum().item()\n",
        "\n",
        "testSize = testLabels.shape[0]\n",
        "test_loss /= testSize\n",
        "print(\"Test: Average loss:%s, Accuracy: %s/%s (%s)\"\n",
        "      % (test_loss, correct, testSize, correct / testSize))"
      ],
      "metadata": {
        "colab": {
          "base_uri": "https://localhost:8080/"
        },
        "id": "kyKO6kltMjDR",
        "outputId": "ec00c734-7b63-4d12-abb5-f6a054bdc4e9"
      },
      "execution_count": 32,
      "outputs": [
        {
          "output_type": "stream",
          "name": "stdout",
          "text": [
            "Test: Average loss:0.0055739856243133545, Accuracy: 9990/10000 (0.999)\n"
          ]
        }
      ]
    }
  ]
}