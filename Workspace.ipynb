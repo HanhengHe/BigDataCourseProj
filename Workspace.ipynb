{
  "nbformat": 4,
  "nbformat_minor": 0,
  "metadata": {
    "colab": {
      "provenance": [],
      "authorship_tag": "ABX9TyN9c6l7wQdGbC52iP79mOiu",
      "include_colab_link": true
    },
    "kernelspec": {
      "name": "python3",
      "display_name": "Python 3"
    },
    "language_info": {
      "name": "python"
    },
    "gpuClass": "standard"
  },
  "cells": [
    {
      "cell_type": "markdown",
      "metadata": {
        "id": "view-in-github",
        "colab_type": "text"
      },
      "source": [
        "<a href=\"https://colab.research.google.com/github/HanhengHe/BigDataCourseProj/blob/main/Workspace.ipynb\" target=\"_parent\"><img src=\"https://colab.research.google.com/assets/colab-badge.svg\" alt=\"Open In Colab\"/></a>"
      ]
    },
    {
      "cell_type": "code",
      "source": [
        "import torch\n",
        "import torch.nn as nn\n",
        "import torch.nn.functional as F\n",
        "import torch.optim as optim\n",
        "from torchvision import datasets, transforms\n",
        "from torch.autograd import Variable"
      ],
      "metadata": {
        "id": "gyp-5C3LrvSm"
      },
      "execution_count": 2,
      "outputs": []
    },
    {
      "cell_type": "code",
      "execution_count": 74,
      "metadata": {
        "id": "gUtY0yizrjfb"
      },
      "outputs": [],
      "source": [
        "class Generator(nn.Module):\n",
        "    def __init__(self, noiseSize=200, ct_deepth=128):\n",
        "        super(Generator, self).__init__()\n",
        "        \n",
        "        self.model_noise_channel = nn.Sequential(\n",
        "            nn.ConvTranspose2d(noiseSize, ct_deepth * 4, 12, 1, 0),\n",
        "            nn.BatchNorm2d(ct_deepth * 4, 0.2),\n",
        "            nn.LeakyReLU()\n",
        "            )\n",
        "        \n",
        "        self.model_label_channel = nn.Sequential(\n",
        "            nn.ConvTranspose2d(50, ct_deepth * 4, 12, 1, 0),\n",
        "            nn.BatchNorm2d(ct_deepth * 4, 0.2),\n",
        "            nn.LeakyReLU()\n",
        "            )\n",
        "\n",
        "        self.model_kernal = nn.Sequential(\n",
        "            nn.ConvTranspose2d(ct_deepth * 8, ct_deepth * 4, 6, 2, 1),\n",
        "            nn.BatchNorm2d(ct_deepth * 4, 0.2),\n",
        "            nn.LeakyReLU(),\n",
        "            nn.ConvTranspose2d(ct_deepth * 4, ct_deepth * 2, 6, 2, 1),\n",
        "            nn.BatchNorm2d(ct_deepth * 2, 0.2),\n",
        "            nn.LeakyReLU(),\n",
        "            nn.ConvTranspose2d(ct_deepth * 2, ct_deepth, 6, 2, 1),\n",
        "            nn.BatchNorm2d(ct_deepth, 0.2),\n",
        "            nn.LeakyReLU(),\n",
        "            nn.ConvTranspose2d(ct_deepth, 3, 8, 2, 1),\n",
        "            nn.Tanh()\n",
        "            )\n",
        "\n",
        "    def forward(self, x, label):\n",
        "        x_0 = self.model_noise_channel(x)\n",
        "        x_1 = self.model_label_channel(label)\n",
        "        x = torch.cat([x_0, x_1], 1)\n",
        "        x = self.model_kernal(x)\n",
        "        return x\n",
        "\n",
        "\n",
        "class Discriminator(nn.Module):\n",
        "    def __init__(self, ct_deepth=128):\n",
        "        super(Discriminator, self).__init__()\n",
        "\n",
        "        self.model_noise_channel = nn.Sequential(\n",
        "            nn.ConvTranspose2d(3, ct_deepth / 2, 4, 2, 1),\n",
        "            nn.BatchNorm2d(ct_deepth / 2, 0.2),\n",
        "            nn.LeakyReLU()\n",
        "            )\n",
        "        \n",
        "        self.model_label_channel = nn.Sequential(\n",
        "            nn.ConvTranspose2d(50, ct_deepth / 2, 4, 2, 1),\n",
        "            nn.BatchNorm2d(ct_deepth / 2, 0.2),\n",
        "            nn.LeakyReLU()\n",
        "            )\n",
        "\n",
        "        self.model_kernal = nn.Sequential(\n",
        "            nn.ConvTranspose2d(ct_deepth, ct_deepth * 2, 4, 2, 1),\n",
        "            nn.BatchNorm2d(ct_deepth * 2, 0.2),\n",
        "            nn.LeakyReLU(),\n",
        "            nn.ConvTranspose2d(ct_deepth * 2, ct_deepth * 4, 4, 2, 1),\n",
        "            nn.BatchNorm2d(ct_deepth * 4, 0.2),\n",
        "            nn.LeakyReLU(),\n",
        "            nn.ConvTranspose2d(ct_deepth * 4, ct_deepth * 8, 4, 2, 1),\n",
        "            nn.BatchNorm2d(ct_deepth * 8, 0.2),\n",
        "            nn.LeakyReLU(),\n",
        "            nn.ConvTranspose2d(ct_deepth * 8, 1, 4, 1, 0),\n",
        "            nn.Sigmoid()\n",
        "            )\n",
        "\n",
        "    def forward(self, x, label):\n",
        "        x_0 = self.model_noise_channel(x)\n",
        "        x_1 = self.model_label_channel(label)\n",
        "        x = torch.cat([x_0, x_1], 1)\n",
        "        x = self.model_kernal(x)\n",
        "        return x"
      ]
    },
    {
      "cell_type": "code",
      "source": [
        "CPU = torch.device(\"cpu\")\n",
        "DEVICE = torch.device(\"cuda:0\") if torch.cuda.is_available() else CPU\n",
        "# DEVICE = CPU\n",
        "print(\"DEVICE = %s\" % (DEVICE))"
      ],
      "metadata": {
        "colab": {
          "base_uri": "https://localhost:8080/"
        },
        "id": "FLKh9EtEzez1",
        "outputId": "2b1df264-b279-4ec3-dd7d-fd9c9bf9240f"
      },
      "execution_count": 46,
      "outputs": [
        {
          "output_type": "stream",
          "name": "stdout",
          "text": [
            "DEVICE = cpu\n"
          ]
        }
      ]
    },
    {
      "cell_type": "code",
      "source": [
        "G = Generator()\n",
        "y = G(torch.randn((1, 200, 1, 1)), torch.randn((1, 50, 1, 1)))\n",
        "print(y.shape)"
      ],
      "metadata": {
        "colab": {
          "base_uri": "https://localhost:8080/"
        },
        "id": "H3awmzRuzipn",
        "outputId": "7d2480e8-2dc8-4850-ad1e-5028f34b97cf"
      },
      "execution_count": 75,
      "outputs": [
        {
          "output_type": "stream",
          "name": "stdout",
          "text": [
            "torch.Size([1, 3, 224, 224])\n"
          ]
        }
      ]
    },
    {
      "cell_type": "code",
      "source": [],
      "metadata": {
        "id": "qrv328Sa1aw-"
      },
      "execution_count": null,
      "outputs": []
    }
  ]
}